{
 "cells": [
  {
   "cell_type": "markdown",
   "metadata": {
    "id": "1MX-b1C7w26s"
   },
   "source": [
    "Скачаем репозиторий с гитхаб:"
   ]
  },
  {
   "cell_type": "code",
   "execution_count": 1,
   "metadata": {
    "colab": {
     "base_uri": "https://localhost:8080/"
    },
    "id": "acFOJlqTewO8",
    "outputId": "7a52410d-c531-486a-bf7d-d59d0b30e0f2"
   },
   "outputs": [
    {
     "name": "stdout",
     "output_type": "stream",
     "text": [
      "fatal: destination path 'LangExBank' already exists and is not an empty directory.\n"
     ]
    }
   ],
   "source": [
    "!git clone https://github.com/lcl-hse/LangExBank.git"
   ]
  },
  {
   "cell_type": "markdown",
   "metadata": {
    "id": "sW55AJM4w8z7"
   },
   "source": [
    "Установим зависимости:"
   ]
  },
  {
   "cell_type": "code",
   "execution_count": 3,
   "metadata": {
    "id": "Zx6arfLerZ5m"
   },
   "outputs": [],
   "source": [
    "import os\n",
    "os.chdir(\"LangExBank/LangExBank\")"
   ]
  },
  {
   "cell_type": "code",
   "execution_count": 3,
   "metadata": {
    "colab": {
     "base_uri": "https://localhost:8080/"
    },
    "id": "uNVcnTs9lbLH",
    "outputId": "1ce99abe-f36c-4001-a931-d950ca3aaf2d"
   },
   "outputs": [
    {
     "name": "stdout",
     "output_type": "stream",
     "text": [
      "Requirement already satisfied: nltk in /usr/local/lib/python3.7/dist-packages (from -r requirements.txt (line 1)) (3.2.5)\n",
      "Collecting django\n",
      "  Downloading Django-3.2.12-py3-none-any.whl (7.9 MB)\n",
      "\u001b[K     |████████████████████████████████| 7.9 MB 5.0 MB/s \n",
      "\u001b[?25hCollecting django_extensions\n",
      "  Downloading django_extensions-3.1.5-py3-none-any.whl (224 kB)\n",
      "\u001b[K     |████████████████████████████████| 224 kB 48.8 MB/s \n",
      "\u001b[?25hRequirement already satisfied: pandas in /usr/local/lib/python3.7/dist-packages (from -r requirements.txt (line 4)) (1.3.5)\n",
      "Requirement already satisfied: xlrd in /usr/local/lib/python3.7/dist-packages (from -r requirements.txt (line 5)) (1.1.0)\n",
      "Requirement already satisfied: openpyxl in /usr/local/lib/python3.7/dist-packages (from -r requirements.txt (line 6)) (3.0.9)\n",
      "Collecting transliterate\n",
      "  Downloading transliterate-1.10.2-py2.py3-none-any.whl (45 kB)\n",
      "\u001b[K     |████████████████████████████████| 45 kB 3.0 MB/s \n",
      "\u001b[?25hRequirement already satisfied: sklearn in /usr/local/lib/python3.7/dist-packages (from -r requirements.txt (line 8)) (0.0)\n",
      "Collecting torch==1.7.1\n",
      "  Downloading torch-1.7.1-cp37-cp37m-manylinux1_x86_64.whl (776.8 MB)\n",
      "\u001b[K     |████████████████████████████████| 776.8 MB 18 kB/s \n",
      "\u001b[?25hCollecting torchtext==0.6.0\n",
      "  Downloading torchtext-0.6.0-py3-none-any.whl (64 kB)\n",
      "\u001b[K     |████████████████████████████████| 64 kB 2.6 MB/s \n",
      "\u001b[?25hCollecting lemminflect\n",
      "  Downloading lemminflect-0.2.2-py3-none-any.whl (769 kB)\n",
      "\u001b[K     |████████████████████████████████| 769 kB 62.7 MB/s \n",
      "\u001b[?25hRequirement already satisfied: spacy in /usr/local/lib/python3.7/dist-packages (from -r requirements.txt (line 12)) (2.2.4)\n",
      "Collecting pyspellchecker\n",
      "  Downloading pyspellchecker-0.6.3-py3-none-any.whl (2.7 MB)\n",
      "\u001b[K     |████████████████████████████████| 2.7 MB 35.4 MB/s \n",
      "\u001b[?25hCollecting django-searchable-encrypted-fields\n",
      "  Downloading django-searchable-encrypted-fields-0.1.9.tar.gz (9.5 kB)\n",
      "Collecting gunicorn\n",
      "  Downloading gunicorn-20.1.0-py3-none-any.whl (79 kB)\n",
      "\u001b[K     |████████████████████████████████| 79 kB 7.6 MB/s \n",
      "\u001b[?25hCollecting textdistance\n",
      "  Downloading textdistance-4.2.2-py3-none-any.whl (28 kB)\n",
      "Requirement already satisfied: psycopg2 in /usr/local/lib/python3.7/dist-packages (from -r requirements.txt (line 17)) (2.7.6.1)\n",
      "Requirement already satisfied: typing-extensions in /usr/local/lib/python3.7/dist-packages (from torch==1.7.1->-r requirements.txt (line 9)) (3.10.0.2)\n",
      "Requirement already satisfied: numpy in /usr/local/lib/python3.7/dist-packages (from torch==1.7.1->-r requirements.txt (line 9)) (1.21.5)\n",
      "Requirement already satisfied: six in /usr/local/lib/python3.7/dist-packages (from torchtext==0.6.0->-r requirements.txt (line 10)) (1.15.0)\n",
      "Requirement already satisfied: requests in /usr/local/lib/python3.7/dist-packages (from torchtext==0.6.0->-r requirements.txt (line 10)) (2.23.0)\n",
      "Collecting sentencepiece\n",
      "  Downloading sentencepiece-0.1.96-cp37-cp37m-manylinux_2_17_x86_64.manylinux2014_x86_64.whl (1.2 MB)\n",
      "\u001b[K     |████████████████████████████████| 1.2 MB 41.8 MB/s \n",
      "\u001b[?25hRequirement already satisfied: tqdm in /usr/local/lib/python3.7/dist-packages (from torchtext==0.6.0->-r requirements.txt (line 10)) (4.63.0)\n",
      "Collecting asgiref<4,>=3.3.2\n",
      "  Downloading asgiref-3.5.0-py3-none-any.whl (22 kB)\n",
      "Requirement already satisfied: pytz in /usr/local/lib/python3.7/dist-packages (from django->-r requirements.txt (line 2)) (2018.9)\n",
      "Requirement already satisfied: sqlparse>=0.2.2 in /usr/local/lib/python3.7/dist-packages (from django->-r requirements.txt (line 2)) (0.4.2)\n",
      "Requirement already satisfied: python-dateutil>=2.7.3 in /usr/local/lib/python3.7/dist-packages (from pandas->-r requirements.txt (line 4)) (2.8.2)\n",
      "Requirement already satisfied: et-xmlfile in /usr/local/lib/python3.7/dist-packages (from openpyxl->-r requirements.txt (line 6)) (1.1.0)\n",
      "Requirement already satisfied: scikit-learn in /usr/local/lib/python3.7/dist-packages (from sklearn->-r requirements.txt (line 8)) (1.0.2)\n",
      "Requirement already satisfied: cymem<2.1.0,>=2.0.2 in /usr/local/lib/python3.7/dist-packages (from spacy->-r requirements.txt (line 12)) (2.0.6)\n",
      "Requirement already satisfied: murmurhash<1.1.0,>=0.28.0 in /usr/local/lib/python3.7/dist-packages (from spacy->-r requirements.txt (line 12)) (1.0.6)\n",
      "Requirement already satisfied: plac<1.2.0,>=0.9.6 in /usr/local/lib/python3.7/dist-packages (from spacy->-r requirements.txt (line 12)) (1.1.3)\n",
      "Requirement already satisfied: blis<0.5.0,>=0.4.0 in /usr/local/lib/python3.7/dist-packages (from spacy->-r requirements.txt (line 12)) (0.4.1)\n",
      "Requirement already satisfied: preshed<3.1.0,>=3.0.2 in /usr/local/lib/python3.7/dist-packages (from spacy->-r requirements.txt (line 12)) (3.0.6)\n",
      "Requirement already satisfied: catalogue<1.1.0,>=0.0.7 in /usr/local/lib/python3.7/dist-packages (from spacy->-r requirements.txt (line 12)) (1.0.0)\n",
      "Requirement already satisfied: thinc==7.4.0 in /usr/local/lib/python3.7/dist-packages (from spacy->-r requirements.txt (line 12)) (7.4.0)\n",
      "Requirement already satisfied: wasabi<1.1.0,>=0.4.0 in /usr/local/lib/python3.7/dist-packages (from spacy->-r requirements.txt (line 12)) (0.9.0)\n",
      "Requirement already satisfied: srsly<1.1.0,>=1.0.2 in /usr/local/lib/python3.7/dist-packages (from spacy->-r requirements.txt (line 12)) (1.0.5)\n",
      "Requirement already satisfied: setuptools in /usr/local/lib/python3.7/dist-packages (from spacy->-r requirements.txt (line 12)) (57.4.0)\n",
      "Requirement already satisfied: importlib-metadata>=0.20 in /usr/local/lib/python3.7/dist-packages (from catalogue<1.1.0,>=0.0.7->spacy->-r requirements.txt (line 12)) (4.11.3)\n",
      "Requirement already satisfied: zipp>=0.5 in /usr/local/lib/python3.7/dist-packages (from importlib-metadata>=0.20->catalogue<1.1.0,>=0.0.7->spacy->-r requirements.txt (line 12)) (3.7.0)\n",
      "Requirement already satisfied: idna<3,>=2.5 in /usr/local/lib/python3.7/dist-packages (from requests->torchtext==0.6.0->-r requirements.txt (line 10)) (2.10)\n",
      "Requirement already satisfied: chardet<4,>=3.0.2 in /usr/local/lib/python3.7/dist-packages (from requests->torchtext==0.6.0->-r requirements.txt (line 10)) (3.0.4)\n",
      "Requirement already satisfied: urllib3!=1.25.0,!=1.25.1,<1.26,>=1.21.1 in /usr/local/lib/python3.7/dist-packages (from requests->torchtext==0.6.0->-r requirements.txt (line 10)) (1.24.3)\n",
      "Requirement already satisfied: certifi>=2017.4.17 in /usr/local/lib/python3.7/dist-packages (from requests->torchtext==0.6.0->-r requirements.txt (line 10)) (2021.10.8)\n",
      "Collecting pycryptodome>=3.7.0\n",
      "  Downloading pycryptodome-3.14.1-cp35-abi3-manylinux2010_x86_64.whl (2.0 MB)\n",
      "\u001b[K     |████████████████████████████████| 2.0 MB 34.9 MB/s \n",
      "\u001b[?25hRequirement already satisfied: threadpoolctl>=2.0.0 in /usr/local/lib/python3.7/dist-packages (from scikit-learn->sklearn->-r requirements.txt (line 8)) (3.1.0)\n",
      "Requirement already satisfied: joblib>=0.11 in /usr/local/lib/python3.7/dist-packages (from scikit-learn->sklearn->-r requirements.txt (line 8)) (1.1.0)\n",
      "Requirement already satisfied: scipy>=1.1.0 in /usr/local/lib/python3.7/dist-packages (from scikit-learn->sklearn->-r requirements.txt (line 8)) (1.4.1)\n",
      "Building wheels for collected packages: django-searchable-encrypted-fields\n",
      "  Building wheel for django-searchable-encrypted-fields (setup.py) ... \u001b[?25l\u001b[?25hdone\n",
      "  Created wheel for django-searchable-encrypted-fields: filename=django_searchable_encrypted_fields-0.1.9-py3-none-any.whl size=9806 sha256=791af26d5bb9203947e5e6e09548b717f746becea1467d30266de67c3940ff8a\n",
      "  Stored in directory: /root/.cache/pip/wheels/b0/9d/c5/02d4ca400f61cd02a75f31f840733806c455f4cc9bc982a05c\n",
      "Successfully built django-searchable-encrypted-fields\n",
      "Installing collected packages: asgiref, torch, sentencepiece, pycryptodome, django, transliterate, torchtext, textdistance, pyspellchecker, lemminflect, gunicorn, django-searchable-encrypted-fields, django-extensions\n",
      "  Attempting uninstall: torch\n",
      "    Found existing installation: torch 1.10.0+cu111\n",
      "    Uninstalling torch-1.10.0+cu111:\n",
      "      Successfully uninstalled torch-1.10.0+cu111\n",
      "  Attempting uninstall: torchtext\n",
      "    Found existing installation: torchtext 0.11.0\n",
      "    Uninstalling torchtext-0.11.0:\n",
      "      Successfully uninstalled torchtext-0.11.0\n",
      "\u001b[31mERROR: pip's dependency resolver does not currently take into account all the packages that are installed. This behaviour is the source of the following dependency conflicts.\n",
      "torchvision 0.11.1+cu111 requires torch==1.10.0, but you have torch 1.7.1 which is incompatible.\n",
      "torchaudio 0.10.0+cu111 requires torch==1.10.0, but you have torch 1.7.1 which is incompatible.\u001b[0m\n",
      "Successfully installed asgiref-3.5.0 django-3.2.12 django-extensions-3.1.5 django-searchable-encrypted-fields-0.1.9 gunicorn-20.1.0 lemminflect-0.2.2 pycryptodome-3.14.1 pyspellchecker-0.6.3 sentencepiece-0.1.96 textdistance-4.2.2 torch-1.7.1 torchtext-0.6.0 transliterate-1.10.2\n"
     ]
    }
   ],
   "source": [
    "!pip install -r requirements.txt"
   ]
  },
  {
   "cell_type": "markdown",
   "metadata": {
    "id": "YBkjixTkxAb1"
   },
   "source": [
    "Импортируем нужные модули и функции:"
   ]
  },
  {
   "cell_type": "code",
   "execution_count": 20,
   "metadata": {
    "colab": {
     "base_uri": "https://localhost:8080/"
    },
    "id": "CTKqhhNcmiZa",
    "outputId": "daed85ad-b49b-414b-9917-9f34ff0a03f8"
   },
   "outputs": [
    {
     "name": "stderr",
     "output_type": "stream",
     "text": [
      "[nltk_data] Downloading package punkt to\n",
      "[nltk_data]     C:\\Users\\User\\AppData\\Roaming\\nltk_data...\n",
      "[nltk_data]   Package punkt is already up-to-date!\n"
     ]
    },
    {
     "data": {
      "text/plain": [
       "True"
      ]
     },
     "execution_count": 20,
     "metadata": {},
     "output_type": "execute_result"
    }
   ],
   "source": [
    "from testmaker import testmaker\n",
    "\n",
    "import pandas as pd\n",
    "import json\n",
    "\n",
    "## Чтобы работали модели дистракторов:\n",
    "import nltk\n",
    "nltk.download('punkt')"
   ]
  },
  {
   "cell_type": "markdown",
   "metadata": {
    "id": "jIcTnBdjxTIU"
   },
   "source": [
    "Выдачу вопросов в testmaker можно получить одной строкой кода - testmaker сам всё скачает, распарсит и удалит после завершения (может занимать много времени):"
   ]
  },
  {
   "cell_type": "code",
   "execution_count": 21,
   "metadata": {
    "colab": {
     "base_uri": "https://localhost:8080/"
    },
    "id": "vA1IHCwVxglG",
    "outputId": "735fb22c-7654-495d-f50c-62a2c03ea5c2"
   },
   "outputs": [
    {
     "name": "stdout",
     "output_type": "stream",
     "text": [
      "Help on function download_folder_and_make_exercises in module testmaker.testmaker:\n",
      "\n",
      "download_folder_and_make_exercises(folder_name, output_path=None, maintain_log=False, error_types=[], context=True, make_two_variants=True, file_output=True, moodle_output=True, check_duplicates=True, keep_processed=False, path_to_downloaded='downloaded_2022_04_08_22_53_34270461', delete_downloaded=False, filter_query=None, keep_all_exercises=False, keep_intersec_tags=False)\n",
      "\n"
     ]
    }
   ],
   "source": [
    "help(testmaker.download_folder_and_make_exercises)"
   ]
  },
  {
   "cell_type": "markdown",
   "metadata": {
    "id": "5npMdxlgxy_5"
   },
   "source": [
    "Немного об аргументах функции:\n",
    "\n",
    "folder_name - Какую папку из REALEC мы хотим скачать\n",
    "\n",
    "output_path - В какую папку сохранить выдачу\n",
    "\n",
    "maintain_log - Сохранять ли лог генерации вопросов\n",
    "\n",
    "error_types - Какие типы ошибок нас интересуют\n",
    "\n",
    "context - Включать ли в вопросы контекст из предложения до и предложения после\n",
    "\n",
    "make_two_variants - Делать ли из каждого предложения два упражнения - два варианта (по умолчанию: одно предложение - одно упражнение). Работает только в testmaker_old\n",
    "\n",
    "file_output - Сохранять ли выдачу в файл (Если поставить False, то приведёт к ошибке при make_two_variants==True) Сохранить можно только в формате Moodle\n",
    "\n",
    "moodle_output - Сохранять ли выдачу в формате Moodle\n",
    "\n",
    "check_duplicates - Проверять ли эссе в REALEC на дупликаты\n",
    "\n",
    "keep_processed - Сохранять ли предобработанные тексты на жёстком диске (может быть полезно для дебага)\n",
    "\n",
    "path_to_downloaded - Куда сохранять скачанные из REALEC файлы\n",
    "\n",
    "delete_downloaded - Удалять ли скачанные из REALEC файлы после завершения работы функции"
   ]
  },
  {
   "cell_type": "markdown",
   "metadata": {
    "id": "Ie0R5bR9zLxg"
   },
   "source": [
    "Попробуем получить выдачу на тэги ошибки Articles и Choice of tense из папки Exam2016:"
   ]
  },
  {
   "cell_type": "code",
   "execution_count": 22,
   "metadata": {
    "colab": {
     "base_uri": "https://localhost:8080/"
    },
    "id": "2PHJgkVz0Yw3",
    "outputId": "695bcef5-7474-41aa-f243-a893b32ebead"
   },
   "outputs": [
    {
     "name": "stdout",
     "output_type": "stream",
     "text": [
      "downloading collection /exam/Exam2016/ ...\n",
      "downloaded, extracting... \n",
      "folder Exam2016 from realec.org succesfully saved to downloaded_2022_04_08_22_53_34270461\n",
      "Filter query - None\n",
      "collecting errors info...\n",
      "Making exercises...\n",
      "Writing short_answer questions, 1463 total ...\n",
      "done, saved in RAM as BytesIO object\n"
     ]
    }
   ],
   "source": [
    "output1 = testmaker.download_folder_and_make_exercises(folder_name='/exam/Exam2016/',\n",
    "                                            error_types=['Articles','Tense_choice'],\n",
    "                                            file_output=False, moodle_output=False,\n",
    "                                            keep_processed=False, make_two_variants=False,\n",
    "                                            context=True, delete_downloaded=True)"
   ]
  },
  {
   "cell_type": "markdown",
   "metadata": {
    "id": "fwc2KRcG6jP9"
   },
   "source": [
    "А что у нас получилось на выходе функции?"
   ]
  },
  {
   "cell_type": "code",
   "execution_count": 23,
   "metadata": {
    "colab": {
     "base_uri": "https://localhost:8080/"
    },
    "id": "4YfH7rHg7QAi",
    "outputId": "84c43c93-51b8-46d9-afcf-4007961c7e57"
   },
   "outputs": [
    {
     "data": {
      "text/plain": [
       "dict"
      ]
     },
     "execution_count": 23,
     "metadata": {},
     "output_type": "execute_result"
    }
   ],
   "source": [
    "type(output1)"
   ]
  },
  {
   "cell_type": "code",
   "execution_count": 24,
   "metadata": {
    "colab": {
     "base_uri": "https://localhost:8080/"
    },
    "id": "AhbhAzVd7TG7",
    "outputId": "1175a6df-77ca-48ae-fc69-06cdc4555545"
   },
   "outputs": [
    {
     "data": {
      "text/plain": [
       "['short_answer']"
      ]
     },
     "execution_count": 24,
     "metadata": {},
     "output_type": "execute_result"
    }
   ],
   "source": [
    "[key for key in output1]"
   ]
  },
  {
   "cell_type": "markdown",
   "metadata": {
    "id": "9k32PbvD7bMN"
   },
   "source": [
    "Словарь тип вопроса - вопросы"
   ]
  },
  {
   "cell_type": "code",
   "execution_count": 25,
   "metadata": {
    "colab": {
     "base_uri": "https://localhost:8080/"
    },
    "id": "01tXdTEW7ekp",
    "outputId": "8a0921d2-0b41-403c-9914-9cd97ca7a2cf"
   },
   "outputs": [
    {
     "data": {
      "text/plain": [
       "list"
      ]
     },
     "execution_count": 25,
     "metadata": {},
     "output_type": "execute_result"
    }
   ],
   "source": [
    "type(output1['short_answer'])"
   ]
  },
  {
   "cell_type": "code",
   "execution_count": 26,
   "metadata": {
    "colab": {
     "base_uri": "https://localhost:8080/"
    },
    "id": "MQoqzXiS7iyx",
    "outputId": "ac6c41f3-f26a-4612-b4d1-2f132fa33964"
   },
   "outputs": [
    {
     "data": {
      "text/plain": [
       "[(\" It is getting harder and harder for families to pay for everything starting from rent, medicine, food and ending with children's education and leisure time. Trying to cope with family budget problems, women often <b>had</b> to work. Trying to give children more, they take away from them the most important thing - communication with their parents.\",\n",
       "  ['have'],\n",
       "  False,\n",
       "  'Tense_choice',\n",
       "  {'text_type': None,\n",
       "   'ielts': 'TRUE ',\n",
       "   'filename': '2016_AKo_2_2',\n",
       "   'folder': 'downloaded_2022_04_08_22_53_34270461\\\\Exam2016'}),\n",
       " ('The demonstrated bar charts provide us with information on how the use of Facebook changed from 2012 to 2013 in millions of users and the percentages of men and women indicating one of the given reasons for using Facebook as main. From the first diagram we can see that the number of desktop Facebook users slightly decreased in 2013 (about 130 million) in comparison to 2012 (about 150 million), however, the number of users of the mobile version <b>grew dramatically</b>. The difference between 2102 and 2013 was about 40 million.',\n",
       "  ['dramatically grew'],\n",
       "  False,\n",
       "  'Tense_choice',\n",
       "  {'text_type': None,\n",
       "   'ielts': 'TRUE',\n",
       "   'filename': '2016_EKu_10_1',\n",
       "   'folder': 'downloaded_2022_04_08_22_53_34270461\\\\Exam2016'}),\n",
       " (' But, in general, the number of desktop users is greater than the number of mobile ones. Concerning reasons for using Facebook the most popular of them among both men and women <b>is</b> sharing videos and photos with other users. Its rate was equal to 54% for women and 39% for men.',\n",
       "  ['was'],\n",
       "  False,\n",
       "  'Tense_choice',\n",
       "  {'text_type': None,\n",
       "   'ielts': 'TRUE',\n",
       "   'filename': '2016_EKu_10_1',\n",
       "   'folder': 'downloaded_2022_04_08_22_53_34270461\\\\Exam2016'}),\n",
       " (' Its rate was equal to 54% for women and 39% for men. The least popular <b>is</b> learning about ways to help others, its level was 35% for women and 25% for men. As we can see, sharing photos and videos, seeing funny photos and learning how to help others were more popular among women and receiving updates was equally popular for both genders.',\n",
       "  ['was'],\n",
       "  False,\n",
       "  'Tense_choice',\n",
       "  {'text_type': None,\n",
       "   'ielts': 'TRUE',\n",
       "   'filename': '2016_EKu_10_1',\n",
       "   'folder': 'downloaded_2022_04_08_22_53_34270461\\\\Exam2016'}),\n",
       " (' The data is provided in $ Bn. It can be deduced from the graph that there was a stable growth in the investments from 2006 to 2009 (100 $ Bn and 168 $ Bn relatively), and <b>investments</b> in developing countries were growing steadily, while the figures in developed countries remained stable. Later, the amount of the investments increased dramatically to 227 $ Bn in 2010 and 279 $ Bn in 2011, mostly because of significant growth of the investments in developed countries.',\n",
       "  ['the investments'],\n",
       "  False,\n",
       "  'Articles',\n",
       "  {'text_type': None,\n",
       "   'ielts': 'TRUE',\n",
       "   'filename': '2016_EKu_25_1',\n",
       "   'folder': 'downloaded_2022_04_08_22_53_34270461\\\\Exam2016'}),\n",
       " (' However, this producer experienced a huge increase from 2011 to 2014, reaching almost 45% of all revenue in the industry. One may also notice that the percentage ratio of Blackberry to HTC equals 1 during almost <b>all time</b>. Although the last company mentioned had the least profit of all, exchanging positions with Blackberry only in 2012.',\n",
       "  ['all the time'],\n",
       "  False,\n",
       "  'Articles',\n",
       "  {'text_type': None,\n",
       "   'ielts': 'TRUE',\n",
       "   'filename': '2016_OR_122_1',\n",
       "   'folder': 'downloaded_2022_04_08_22_53_34270461\\\\Exam2016'}),\n",
       " (' Although the last company mentioned had the least profit of all, exchanging positions with Blackberry only in 2012. For the given time period more than 60% of the market revenue belongs to Apple and Samsung, which <b>goes</b> above 90% as Apple became a flagman.',\n",
       "  ['went'],\n",
       "  False,\n",
       "  'Tense_choice',\n",
       "  {'text_type': None,\n",
       "   'ielts': 'TRUE',\n",
       "   'filename': '2016_OR_122_1',\n",
       "   'folder': 'downloaded_2022_04_08_22_53_34270461\\\\Exam2016'}),\n",
       " (\"On the graph we can see four smartphone firms and their profit on the global market in percent from 2010 to 2015. As we can see on the graph, Blackberry's profit has downward trend during all period of time, and the percentage of profit <b>fall</b> down from 20% to 5% in 2015. On the other hand, Apple profit grew twice during the same period and up from 45% to 90%, but in 2013 the company had some problems and profit stopped to grow.\",\n",
       "  ['fell'],\n",
       "  False,\n",
       "  'Tense_choice',\n",
       "  {'text_type': None,\n",
       "   'ielts': 'TRUE',\n",
       "   'filename': '2016_OR_123_1',\n",
       "   'folder': 'downloaded_2022_04_08_22_53_34270461\\\\Exam2016'}),\n",
       " (\" It is interesting moment, that Samsung's profit start from approximately 15%, grows to 40% in 2013 and come back to the first 15% in 2015. Besides, HTC <b>don't become</b> popular during the period and profit of this firm up from 10% to 15% in the best time but in last 4 years went down to 5%. In conclusion, we see that Apple's smartphones was the most popular during all period but other three companies changed their place on global market in any time.\",\n",
       "  [\"didn't become\"],\n",
       "  False,\n",
       "  'Tense_choice',\n",
       "  {'text_type': None,\n",
       "   'ielts': 'TRUE',\n",
       "   'filename': '2016_OR_123_1',\n",
       "   'folder': 'downloaded_2022_04_08_22_53_34270461\\\\Exam2016'}),\n",
       " (\" First of all, in our changeable world all people want to be successful, that is why a lot of adults spend their life at work. By the way, they <b>work</b> during the day around 8-16 hours and can't devote time to their children. Parents want to give their child good education but it needs the money, which they earn by hard working.\",\n",
       "  ['are working'],\n",
       "  False,\n",
       "  'Tense_choice',\n",
       "  {'text_type': None,\n",
       "   'ielts': 'TRUE',\n",
       "   'filename': '2016_OR_123_2',\n",
       "   'folder': 'downloaded_2022_04_08_22_53_34270461\\\\Exam2016'})]"
      ]
     },
     "execution_count": 26,
     "metadata": {},
     "output_type": "execute_result"
    }
   ],
   "source": [
    "output1['short_answer'][:10]"
   ]
  },
  {
   "cell_type": "markdown",
   "metadata": {
    "id": "7JzDCY2U7yCY"
   },
   "source": [
    "Элементы каждого кортежа в этом списке:\n",
    "\n",
    "- Предложение, в котором область ошибки выделена <b>жирным</b> шрифтом с помощью тэга \\<b\\>\\</b\\>\n",
    "- Правильный ответ\n",
    "- Правда ли то, что этот вопрос - единственный, полученный из соответствующего предложения (релевантно при генерации нескольких вариантов)\n",
    "- Тип ошибки\n",
    "- Словарь\n",
    "  - Filename - Имя файла, из которого предложение\n",
    "  - Folder - Имя папки, из которой файл\n",
    "  - ielts - Был ли файл, из которого взяли предложение айлтсовским сочинением\n",
    "  - text_type - Тип текста, из которого взяли предложение"
   ]
  },
  {
   "cell_type": "markdown",
   "metadata": {
    "id": "1ZUICerS9QMv"
   },
   "source": [
    "Попробуем получить такие же предложения без контекста, и сохранить выдачу (в таком случае функция вернёт пути к файлам)"
   ]
  },
  {
   "cell_type": "code",
   "execution_count": 27,
   "metadata": {
    "colab": {
     "base_uri": "https://localhost:8080/"
    },
    "id": "68ktuNJp9eP9",
    "outputId": "5a830ae2-7dbf-4bbc-99f0-35f19edaf61d"
   },
   "outputs": [
    {
     "name": "stdout",
     "output_type": "stream",
     "text": [
      "downloading collection /exam/Exam2016/ ...\n",
      "downloaded, extracting... \n",
      "folder Exam2016 from realec.org succesfully saved to downloaded_2022_04_08_22_53_34270461\n",
      "C:\\Users\\User\\HSE\\LangExBank\\LangExBank\\ moodle_exercises\n",
      "Filter query - None\n",
      "collecting errors info...\n",
      "Making exercises...\n",
      "Writing short_answer questions, 2072 total ...\n",
      "done, saved to: C:\\Users\\User\\HSE\\LangExBank\\LangExBank\\moodle_exercises\n"
     ]
    }
   ],
   "source": [
    "output2 = testmaker.download_folder_and_make_exercises(folder_name='/exam/Exam2016/', error_types=['Articles','Tense_choice'],\n",
    "                                            file_output=True, moodle_output=True,\n",
    "                                            keep_processed=False, make_two_variants=False,\n",
    "                                            context=False, delete_downloaded=True)"
   ]
  },
  {
   "cell_type": "markdown",
   "metadata": {
    "id": "I1GaSMhY-KbB"
   },
   "source": [
    "moodle_exercises - название папки с выдачей по умолчанию"
   ]
  },
  {
   "cell_type": "code",
   "execution_count": 28,
   "metadata": {
    "colab": {
     "base_uri": "https://localhost:8080/"
    },
    "id": "jwcD0N1QGmDR",
    "outputId": "960ca893-591b-4d0c-819e-352e98538c56"
   },
   "outputs": [
    {
     "name": "stderr",
     "output_type": "stream",
     "text": [
      "\"ls\" ­Ґ пў«пҐвбп ў­гваҐ­­Ґ© Ё«Ё ў­Ґи­Ґ©\n",
      "Є®¬ ­¤®©, ЁбЇ®«­пҐ¬®© Їа®Ја ¬¬®© Ё«Ё Ї ЄҐв­л¬ д ©«®¬.\n"
     ]
    }
   ],
   "source": [
    "!ls moodle_exercises"
   ]
  },
  {
   "cell_type": "markdown",
   "metadata": {
    "id": "tQUGfPl_IPZa"
   },
   "source": [
    "Также можно выгрузить только предложения, соответствующие определённому текстовому запросу (поддерживаются регулярные выражения):"
   ]
  },
  {
   "cell_type": "code",
   "execution_count": 30,
   "metadata": {
    "colab": {
     "base_uri": "https://localhost:8080/"
    },
    "id": "7HHlSCyFId0B",
    "outputId": "da82f68e-f571-43ef-abdf-57f77272f067"
   },
   "outputs": [
    {
     "name": "stdout",
     "output_type": "stream",
     "text": [
      "downloading collection /exam/ ...\n",
      "downloaded, extracting... \n",
      "folder exam from realec.org succesfully saved to downloaded_2022_04_08_22_53_34270461\n",
      "Filter query - students\n",
      "collecting errors info...\n",
      "Making exercises...\n",
      "Writing short_answer questions, 377 total ...\n",
      "done, saved in RAM as BytesIO object\n"
     ]
    }
   ],
   "source": [
    "output3 = testmaker.download_folder_and_make_exercises(folder_name='/exam/',\n",
    "                                                       error_types=['Tense_choice','lex_item_choice','Prepositions'],\n",
    "                                                       filter_query='students',\n",
    "                                                       file_output=False, moodle_output=False,\n",
    "                                                       keep_processed=False, make_two_variants=False,\n",
    "                                                       context=False, delete_downloaded=True)"
   ]
  },
  {
   "cell_type": "code",
   "execution_count": 31,
   "metadata": {
    "id": "W7u88sEBQHrb"
   },
   "outputs": [],
   "source": [
    "data = [(i[0], i[1][0], i[3],\n",
    "         i[4]['folder'], i[4]['filename']) for i in output3['short_answer']]\n",
    "data = pd.DataFrame(data, columns=['Sentence', 'Right answer', 'Error type',\n",
    "                                     'Folder', 'Filename'])"
   ]
  },
  {
   "cell_type": "code",
   "execution_count": 32,
   "metadata": {},
   "outputs": [
    {
     "data": {
      "text/html": [
       "<div>\n",
       "<style scoped>\n",
       "    .dataframe tbody tr th:only-of-type {\n",
       "        vertical-align: middle;\n",
       "    }\n",
       "\n",
       "    .dataframe tbody tr th {\n",
       "        vertical-align: top;\n",
       "    }\n",
       "\n",
       "    .dataframe thead th {\n",
       "        text-align: right;\n",
       "    }\n",
       "</style>\n",
       "<table border=\"1\" class=\"dataframe\">\n",
       "  <thead>\n",
       "    <tr style=\"text-align: right;\">\n",
       "      <th></th>\n",
       "      <th>Sentence</th>\n",
       "      <th>Right answer</th>\n",
       "      <th>Error type</th>\n",
       "      <th>Folder</th>\n",
       "      <th>Filename</th>\n",
       "    </tr>\n",
       "  </thead>\n",
       "  <tbody>\n",
       "    <tr>\n",
       "      <th>0</th>\n",
       "      <td>For instance, students are overloaded &lt;b&gt;by&lt;/...</td>\n",
       "      <td>with</td>\n",
       "      <td>Prepositions</td>\n",
       "      <td>downloaded_2022_04_08_22_53_34270461\\exam\\best...</td>\n",
       "      <td>39_2</td>\n",
       "    </tr>\n",
       "    <tr>\n",
       "      <th>1</th>\n",
       "      <td>This fact will increase the &lt;b&gt;effectivity&lt;/b...</td>\n",
       "      <td>efficiency</td>\n",
       "      <td>lex_item_choice</td>\n",
       "      <td>downloaded_2022_04_08_22_53_34270461\\exam\\Exam...</td>\n",
       "      <td>2014_KKo_15_2</td>\n",
       "    </tr>\n",
       "    <tr>\n",
       "      <th>2</th>\n",
       "      <td>Some students in high schools just can't spen...</td>\n",
       "      <td>youngsters</td>\n",
       "      <td>lex_item_choice</td>\n",
       "      <td>downloaded_2022_04_08_22_53_34270461\\exam\\Exam...</td>\n",
       "      <td>2014_KKo_23_2</td>\n",
       "    </tr>\n",
       "    <tr>\n",
       "      <th>3</th>\n",
       "      <td>I believe that charity &lt;b&gt;of&lt;/b&gt; different le...</td>\n",
       "      <td>on</td>\n",
       "      <td>Prepositions</td>\n",
       "      <td>downloaded_2022_04_08_22_53_34270461\\exam\\Exam...</td>\n",
       "      <td>2014_KKo_25_2</td>\n",
       "    </tr>\n",
       "    <tr>\n",
       "      <th>4</th>\n",
       "      <td>In addition, some students are afraid of resp...</td>\n",
       "      <td>with</td>\n",
       "      <td>Prepositions</td>\n",
       "      <td>downloaded_2022_04_08_22_53_34270461\\exam\\Exam...</td>\n",
       "      <td>2014_KKo_25_2</td>\n",
       "    </tr>\n",
       "    <tr>\n",
       "      <th>...</th>\n",
       "      <td>...</td>\n",
       "      <td>...</td>\n",
       "      <td>...</td>\n",
       "      <td>...</td>\n",
       "      <td>...</td>\n",
       "    </tr>\n",
       "    <tr>\n",
       "      <th>372</th>\n",
       "      <td>Moreover, science discoveries, which were mad...</td>\n",
       "      <td>in</td>\n",
       "      <td>Prepositions</td>\n",
       "      <td>downloaded_2022_04_08_22_53_34270461\\exam\\Exam...</td>\n",
       "      <td>2014_EEm_39_2</td>\n",
       "    </tr>\n",
       "    <tr>\n",
       "      <th>373</th>\n",
       "      <td>According to the given theory, 2% or 3% of fe...</td>\n",
       "      <td>becoming</td>\n",
       "      <td>lex_item_choice</td>\n",
       "      <td>downloaded_2022_04_08_22_53_34270461\\exam\\Exam...</td>\n",
       "      <td>2014_EEm_9_2</td>\n",
       "    </tr>\n",
       "    <tr>\n",
       "      <th>374</th>\n",
       "      <td>Also, all male students have to be accepted, ...</td>\n",
       "      <td>regardless</td>\n",
       "      <td>lex_item_choice</td>\n",
       "      <td>downloaded_2022_04_08_22_53_34270461\\exam\\Exam...</td>\n",
       "      <td>2014_EEm_9_2</td>\n",
       "    </tr>\n",
       "    <tr>\n",
       "      <th>375</th>\n",
       "      <td>The highest proportion of &lt;b&gt;men&lt;/b&gt; got skil...</td>\n",
       "      <td>male students</td>\n",
       "      <td>lex_item_choice</td>\n",
       "      <td>downloaded_2022_04_08_22_53_34270461\\exam\\Exam...</td>\n",
       "      <td>2014_ESha_12_1</td>\n",
       "    </tr>\n",
       "    <tr>\n",
       "      <th>376</th>\n",
       "      <td>They can help students to &lt;b&gt;refuse&lt;/b&gt; negat...</td>\n",
       "      <td>get rid of</td>\n",
       "      <td>lex_item_choice</td>\n",
       "      <td>downloaded_2022_04_08_22_53_34270461\\exam\\Exam...</td>\n",
       "      <td>2014_ESha_58_2</td>\n",
       "    </tr>\n",
       "  </tbody>\n",
       "</table>\n",
       "<p>377 rows × 5 columns</p>\n",
       "</div>"
      ],
      "text/plain": [
       "                                              Sentence   Right answer  \\\n",
       "0     For instance, students are overloaded <b>by</...           with   \n",
       "1     This fact will increase the <b>effectivity</b...     efficiency   \n",
       "2     Some students in high schools just can't spen...     youngsters   \n",
       "3     I believe that charity <b>of</b> different le...             on   \n",
       "4     In addition, some students are afraid of resp...           with   \n",
       "..                                                 ...            ...   \n",
       "372   Moreover, science discoveries, which were mad...             in   \n",
       "373   According to the given theory, 2% or 3% of fe...       becoming   \n",
       "374   Also, all male students have to be accepted, ...     regardless   \n",
       "375   The highest proportion of <b>men</b> got skil...  male students   \n",
       "376   They can help students to <b>refuse</b> negat...     get rid of   \n",
       "\n",
       "          Error type                                             Folder  \\\n",
       "0       Prepositions  downloaded_2022_04_08_22_53_34270461\\exam\\best...   \n",
       "1    lex_item_choice  downloaded_2022_04_08_22_53_34270461\\exam\\Exam...   \n",
       "2    lex_item_choice  downloaded_2022_04_08_22_53_34270461\\exam\\Exam...   \n",
       "3       Prepositions  downloaded_2022_04_08_22_53_34270461\\exam\\Exam...   \n",
       "4       Prepositions  downloaded_2022_04_08_22_53_34270461\\exam\\Exam...   \n",
       "..               ...                                                ...   \n",
       "372     Prepositions  downloaded_2022_04_08_22_53_34270461\\exam\\Exam...   \n",
       "373  lex_item_choice  downloaded_2022_04_08_22_53_34270461\\exam\\Exam...   \n",
       "374  lex_item_choice  downloaded_2022_04_08_22_53_34270461\\exam\\Exam...   \n",
       "375  lex_item_choice  downloaded_2022_04_08_22_53_34270461\\exam\\Exam...   \n",
       "376  lex_item_choice  downloaded_2022_04_08_22_53_34270461\\exam\\Exam...   \n",
       "\n",
       "           Filename  \n",
       "0              39_2  \n",
       "1     2014_KKo_15_2  \n",
       "2     2014_KKo_23_2  \n",
       "3     2014_KKo_25_2  \n",
       "4     2014_KKo_25_2  \n",
       "..              ...  \n",
       "372   2014_EEm_39_2  \n",
       "373    2014_EEm_9_2  \n",
       "374    2014_EEm_9_2  \n",
       "375  2014_ESha_12_1  \n",
       "376  2014_ESha_58_2  \n",
       "\n",
       "[377 rows x 5 columns]"
      ]
     },
     "execution_count": 32,
     "metadata": {},
     "output_type": "execute_result"
    }
   ],
   "source": [
    "data"
   ]
  },
  {
   "cell_type": "markdown",
   "metadata": {
    "id": "vUluZlqaSVAG"
   },
   "source": [
    "Отлично, теперь попробуем сделать из этой выдачи вопросы multiple_choice при помощи distractor_generator. Типы ошибок, которые поддерживаются моделями генерации дистракторов - Choice of a lexical item(lex_item_choice), Choice of tense (Tense_choice) и Prepositions"
   ]
  },
  {
   "cell_type": "code",
   "execution_count": 33,
   "metadata": {
    "id": "Bqt3kA9DtD1s"
   },
   "outputs": [],
   "source": [
    "from DisGen.distractor_generator import get_distractors"
   ]
  },
  {
   "cell_type": "code",
   "execution_count": 35,
   "metadata": {},
   "outputs": [
    {
     "name": "stdout",
     "output_type": "stream",
     "text": [
      "Collecting en-core-web-sm==3.2.0\n",
      "  Downloading https://github.com/explosion/spacy-models/releases/download/en_core_web_sm-3.2.0/en_core_web_sm-3.2.0-py3-none-any.whl (13.9 MB)\n",
      "     ---------------------------------------- 13.9/13.9 MB 5.4 MB/s eta 0:00:00\n",
      "Requirement already satisfied: spacy<3.3.0,>=3.2.0 in c:\\users\\user\\hse\\langexbank\\langexbank_env\\lib\\site-packages (from en-core-web-sm==3.2.0) (3.2.4)\n",
      "Requirement already satisfied: typer<0.5.0,>=0.3.0 in c:\\users\\user\\hse\\langexbank\\langexbank_env\\lib\\site-packages (from spacy<3.3.0,>=3.2.0->en-core-web-sm==3.2.0) (0.4.1)\n",
      "Requirement already satisfied: spacy-legacy<3.1.0,>=3.0.8 in c:\\users\\user\\hse\\langexbank\\langexbank_env\\lib\\site-packages (from spacy<3.3.0,>=3.2.0->en-core-web-sm==3.2.0) (3.0.9)\n",
      "Requirement already satisfied: murmurhash<1.1.0,>=0.28.0 in c:\\users\\user\\hse\\langexbank\\langexbank_env\\lib\\site-packages (from spacy<3.3.0,>=3.2.0->en-core-web-sm==3.2.0) (1.0.6)\n",
      "Requirement already satisfied: srsly<3.0.0,>=2.4.1 in c:\\users\\user\\hse\\langexbank\\langexbank_env\\lib\\site-packages (from spacy<3.3.0,>=3.2.0->en-core-web-sm==3.2.0) (2.4.2)\n",
      "Requirement already satisfied: tqdm<5.0.0,>=4.38.0 in c:\\users\\user\\hse\\langexbank\\langexbank_env\\lib\\site-packages (from spacy<3.3.0,>=3.2.0->en-core-web-sm==3.2.0) (4.64.0)\n",
      "Requirement already satisfied: thinc<8.1.0,>=8.0.12 in c:\\users\\user\\hse\\langexbank\\langexbank_env\\lib\\site-packages (from spacy<3.3.0,>=3.2.0->en-core-web-sm==3.2.0) (8.0.15)\n",
      "Requirement already satisfied: requests<3.0.0,>=2.13.0 in c:\\users\\user\\hse\\langexbank\\langexbank_env\\lib\\site-packages (from spacy<3.3.0,>=3.2.0->en-core-web-sm==3.2.0) (2.27.1)\n",
      "Requirement already satisfied: pathy>=0.3.5 in c:\\users\\user\\hse\\langexbank\\langexbank_env\\lib\\site-packages (from spacy<3.3.0,>=3.2.0->en-core-web-sm==3.2.0) (0.6.1)\n",
      "Requirement already satisfied: preshed<3.1.0,>=3.0.2 in c:\\users\\user\\hse\\langexbank\\langexbank_env\\lib\\site-packages (from spacy<3.3.0,>=3.2.0->en-core-web-sm==3.2.0) (3.0.6)\n",
      "Requirement already satisfied: setuptools in c:\\users\\user\\hse\\langexbank\\langexbank_env\\lib\\site-packages (from spacy<3.3.0,>=3.2.0->en-core-web-sm==3.2.0) (60.9.3)\n",
      "Requirement already satisfied: packaging>=20.0 in c:\\users\\user\\hse\\langexbank\\langexbank_env\\lib\\site-packages (from spacy<3.3.0,>=3.2.0->en-core-web-sm==3.2.0) (21.3)\n",
      "Requirement already satisfied: spacy-loggers<2.0.0,>=1.0.0 in c:\\users\\user\\hse\\langexbank\\langexbank_env\\lib\\site-packages (from spacy<3.3.0,>=3.2.0->en-core-web-sm==3.2.0) (1.0.2)\n",
      "Requirement already satisfied: langcodes<4.0.0,>=3.2.0 in c:\\users\\user\\hse\\langexbank\\langexbank_env\\lib\\site-packages (from spacy<3.3.0,>=3.2.0->en-core-web-sm==3.2.0) (3.3.0)\n",
      "Requirement already satisfied: blis<0.8.0,>=0.4.0 in c:\\users\\user\\hse\\langexbank\\langexbank_env\\lib\\site-packages (from spacy<3.3.0,>=3.2.0->en-core-web-sm==3.2.0) (0.7.7)\n",
      "Requirement already satisfied: catalogue<2.1.0,>=2.0.6 in c:\\users\\user\\hse\\langexbank\\langexbank_env\\lib\\site-packages (from spacy<3.3.0,>=3.2.0->en-core-web-sm==3.2.0) (2.0.7)\n",
      "Requirement already satisfied: jinja2 in c:\\users\\user\\hse\\langexbank\\langexbank_env\\lib\\site-packages (from spacy<3.3.0,>=3.2.0->en-core-web-sm==3.2.0) (3.1.1)\n",
      "Requirement already satisfied: pydantic!=1.8,!=1.8.1,<1.9.0,>=1.7.4 in c:\\users\\user\\hse\\langexbank\\langexbank_env\\lib\\site-packages (from spacy<3.3.0,>=3.2.0->en-core-web-sm==3.2.0) (1.8.2)\n",
      "Requirement already satisfied: cymem<2.1.0,>=2.0.2 in c:\\users\\user\\hse\\langexbank\\langexbank_env\\lib\\site-packages (from spacy<3.3.0,>=3.2.0->en-core-web-sm==3.2.0) (2.0.6)\n",
      "Requirement already satisfied: wasabi<1.1.0,>=0.8.1 in c:\\users\\user\\hse\\langexbank\\langexbank_env\\lib\\site-packages (from spacy<3.3.0,>=3.2.0->en-core-web-sm==3.2.0) (0.9.1)\n",
      "Requirement already satisfied: click<8.1.0 in c:\\users\\user\\hse\\langexbank\\langexbank_env\\lib\\site-packages (from spacy<3.3.0,>=3.2.0->en-core-web-sm==3.2.0) (8.0.4)\n",
      "Requirement already satisfied: numpy>=1.15.0 in c:\\users\\user\\hse\\langexbank\\langexbank_env\\lib\\site-packages (from spacy<3.3.0,>=3.2.0->en-core-web-sm==3.2.0) (1.22.3)\n",
      "Requirement already satisfied: colorama in c:\\users\\user\\hse\\langexbank\\langexbank_env\\lib\\site-packages (from click<8.1.0->spacy<3.3.0,>=3.2.0->en-core-web-sm==3.2.0) (0.4.4)\n",
      "Requirement already satisfied: pyparsing!=3.0.5,>=2.0.2 in c:\\users\\user\\hse\\langexbank\\langexbank_env\\lib\\site-packages (from packaging>=20.0->spacy<3.3.0,>=3.2.0->en-core-web-sm==3.2.0) (3.0.7)\n",
      "Requirement already satisfied: smart-open<6.0.0,>=5.0.0 in c:\\users\\user\\hse\\langexbank\\langexbank_env\\lib\\site-packages (from pathy>=0.3.5->spacy<3.3.0,>=3.2.0->en-core-web-sm==3.2.0) (5.2.1)\n",
      "Requirement already satisfied: typing-extensions>=3.7.4.3 in c:\\users\\user\\hse\\langexbank\\langexbank_env\\lib\\site-packages (from pydantic!=1.8,!=1.8.1,<1.9.0,>=1.7.4->spacy<3.3.0,>=3.2.0->en-core-web-sm==3.2.0) (4.1.1)\n",
      "Requirement already satisfied: charset-normalizer~=2.0.0 in c:\\users\\user\\hse\\langexbank\\langexbank_env\\lib\\site-packages (from requests<3.0.0,>=2.13.0->spacy<3.3.0,>=3.2.0->en-core-web-sm==3.2.0) (2.0.12)\n",
      "Requirement already satisfied: urllib3<1.27,>=1.21.1 in c:\\users\\user\\hse\\langexbank\\langexbank_env\\lib\\site-packages (from requests<3.0.0,>=2.13.0->spacy<3.3.0,>=3.2.0->en-core-web-sm==3.2.0) (1.26.9)\n",
      "Requirement already satisfied: idna<4,>=2.5 in c:\\users\\user\\hse\\langexbank\\langexbank_env\\lib\\site-packages (from requests<3.0.0,>=2.13.0->spacy<3.3.0,>=3.2.0->en-core-web-sm==3.2.0) (3.3)\n",
      "Requirement already satisfied: certifi>=2017.4.17 in c:\\users\\user\\hse\\langexbank\\langexbank_env\\lib\\site-packages (from requests<3.0.0,>=2.13.0->spacy<3.3.0,>=3.2.0->en-core-web-sm==3.2.0) (2021.10.8)\n",
      "Requirement already satisfied: MarkupSafe>=2.0 in c:\\users\\user\\hse\\langexbank\\langexbank_env\\lib\\site-packages (from jinja2->spacy<3.3.0,>=3.2.0->en-core-web-sm==3.2.0) (2.1.1)\n",
      "Installing collected packages: en-core-web-sm\n",
      "Successfully installed en-core-web-sm-3.2.0\n",
      "[+] Download and installation successful\n",
      "You can now load the package via spacy.load('en_core_web_sm')\n"
     ]
    }
   ],
   "source": [
    "!python -m spacy download en_core_web_sm"
   ]
  },
  {
   "cell_type": "code",
   "execution_count": 36,
   "metadata": {
    "colab": {
     "base_uri": "https://localhost:8080/",
     "height": 1000
    },
    "id": "mX3nRZNOTdPt",
    "outputId": "140897a6-32ef-4495-dea0-a52f9744d601"
   },
   "outputs": [
    {
     "name": "stderr",
     "output_type": "stream",
     "text": [
      "C:\\Users\\User\\HSE\\LangExBank\\LangExBank\\DisGen\\distractor_generator\\distractor_models.py:78: SettingWithCopyWarning: \n",
      "A value is trying to be set on a copy of a slice from a DataFrame.\n",
      "Try using .loc[row_indexer,col_indexer] = value instead\n",
      "\n",
      "See the caveats in the documentation: https://pandas.pydata.org/pandas-docs/stable/user_guide/indexing.html#returning-a-view-versus-a-copy\n",
      "  df['Contains verb'] = df['Right answer'].apply(lambda x: contains_pos(x, ('VERB','AUX'),self.parser))\n",
      "C:\\Users\\User\\HSE\\LangExBank\\LangExBank\\DisGen\\distractor_generator\\distractor_models.py:60: SettingWithCopyWarning: \n",
      "A value is trying to be set on a copy of a slice from a DataFrame.\n",
      "Try using .loc[row_indexer,col_indexer] = value instead\n",
      "\n",
      "See the caveats in the documentation: https://pandas.pydata.org/pandas-docs/stable/user_guide/indexing.html#returning-a-view-versus-a-copy\n",
      "  df['Sentence'] = df['Sentence'].apply(lambda x: re.sub('<b>.*?</b>','_'*8, x))\n",
      "C:\\Users\\User\\HSE\\LangExBank\\LangExBank\\DisGen\\distractor_generator\\distractor_models.py:230: SettingWithCopyWarning: \n",
      "A value is trying to be set on a copy of a slice from a DataFrame.\n",
      "Try using .loc[row_indexer,col_indexer] = value instead\n",
      "\n",
      "See the caveats in the documentation: https://pandas.pydata.org/pandas-docs/stable/user_guide/indexing.html#returning-a-view-versus-a-copy\n",
      "  df['Right answer'] = df['Right answer'].str.lower()\n",
      "C:\\Users\\User\\HSE\\LangExBank\\LangExBank\\DisGen\\distractor_generator\\distractor_models.py:231: SettingWithCopyWarning: \n",
      "A value is trying to be set on a copy of a slice from a DataFrame.\n",
      "Try using .loc[row_indexer,col_indexer] = value instead\n",
      "\n",
      "See the caveats in the documentation: https://pandas.pydata.org/pandas-docs/stable/user_guide/indexing.html#returning-a-view-versus-a-copy\n",
      "  df['Wrong answer'] = df['Sentence'].apply(find_error)\n",
      "C:\\Users\\User\\HSE\\LangExBank\\LangExBank\\DisGen\\distractor_generator\\distractor_models.py:232: SettingWithCopyWarning: \n",
      "A value is trying to be set on a copy of a slice from a DataFrame.\n",
      "Try using .loc[row_indexer,col_indexer] = value instead\n",
      "\n",
      "See the caveats in the documentation: https://pandas.pydata.org/pandas-docs/stable/user_guide/indexing.html#returning-a-view-versus-a-copy\n",
      "  df['Wrong answer'] = df['Wrong answer'].str.lower()\n",
      "C:\\Users\\User\\HSE\\LangExBank\\LangExBank\\DisGen\\distractor_generator\\distractor_models.py:234: SettingWithCopyWarning: \n",
      "A value is trying to be set on a copy of a slice from a DataFrame.\n",
      "Try using .loc[row_indexer,col_indexer] = value instead\n",
      "\n",
      "See the caveats in the documentation: https://pandas.pydata.org/pandas-docs/stable/user_guide/indexing.html#returning-a-view-versus-a-copy\n",
      "  df['Keep'] = df['Right answer'].apply(lambda x: is_prep(x, self.parser))\n",
      "C:\\Users\\User\\HSE\\LangExBank\\LangExBank\\DisGen\\distractor_generator\\nn_models.py:114: UserWarning: Implicit dimension choice for softmax has been deprecated. Change the call to include dim=X as an argument.\n",
      "  pred = F.softmax(model(batch_device).data.cpu())\n",
      "C:\\Users\\User\\HSE\\LangExBank\\LangExBank\\DisGen\\distractor_generator\\distractor_models.py:60: SettingWithCopyWarning: \n",
      "A value is trying to be set on a copy of a slice from a DataFrame.\n",
      "Try using .loc[row_indexer,col_indexer] = value instead\n",
      "\n",
      "See the caveats in the documentation: https://pandas.pydata.org/pandas-docs/stable/user_guide/indexing.html#returning-a-view-versus-a-copy\n",
      "  df['Sentence'] = df['Sentence'].apply(lambda x: re.sub('<b>.*?</b>','_'*8, x))\n",
      "C:\\Users\\User\\HSE\\LangExBank\\LangExBank\\DisGen\\distractor_generator\\distractor_models.py:187: SettingWithCopyWarning: \n",
      "A value is trying to be set on a copy of a slice from a DataFrame.\n",
      "Try using .loc[row_indexer,col_indexer] = value instead\n",
      "\n",
      "See the caveats in the documentation: https://pandas.pydata.org/pandas-docs/stable/user_guide/indexing.html#returning-a-view-versus-a-copy\n",
      "  df['Wrong answer'] = df['Sentence'].apply(find_error)\n",
      "C:\\Users\\User\\HSE\\LangExBank\\LangExBank\\DisGen\\distractor_generator\\distractor_models.py:188: SettingWithCopyWarning: \n",
      "A value is trying to be set on a copy of a slice from a DataFrame.\n",
      "Try using .loc[row_indexer,col_indexer] = value instead\n",
      "\n",
      "See the caveats in the documentation: https://pandas.pydata.org/pandas-docs/stable/user_guide/indexing.html#returning-a-view-versus-a-copy\n",
      "  df['Right answer'] = df['Right answer'].str.lower()\n",
      "C:\\Users\\User\\HSE\\LangExBank\\LangExBank\\DisGen\\distractor_generator\\distractor_models.py:189: SettingWithCopyWarning: \n",
      "A value is trying to be set on a copy of a slice from a DataFrame.\n",
      "Try using .loc[row_indexer,col_indexer] = value instead\n",
      "\n",
      "See the caveats in the documentation: https://pandas.pydata.org/pandas-docs/stable/user_guide/indexing.html#returning-a-view-versus-a-copy\n",
      "  df['Wrong answer'] = df['Wrong answer'].str.lower()\n",
      "C:\\Users\\User\\HSE\\LangExBank\\LangExBank\\DisGen\\distractor_generator\\distractor_models.py:193: SettingWithCopyWarning: \n",
      "A value is trying to be set on a copy of a slice from a DataFrame.\n",
      "Try using .loc[row_indexer,col_indexer] = value instead\n",
      "\n",
      "See the caveats in the documentation: https://pandas.pydata.org/pandas-docs/stable/user_guide/indexing.html#returning-a-view-versus-a-copy\n",
      "  df[['Keep 1','Right answer lemma', 'POS Right', 'Tag Right']] = df.apply(filter_func_r, axis=1,\n",
      "C:\\Users\\User\\HSE\\LangExBank\\LangExBank\\DisGen\\distractor_generator\\distractor_models.py:193: SettingWithCopyWarning: \n",
      "A value is trying to be set on a copy of a slice from a DataFrame.\n",
      "Try using .loc[row_indexer,col_indexer] = value instead\n",
      "\n",
      "See the caveats in the documentation: https://pandas.pydata.org/pandas-docs/stable/user_guide/indexing.html#returning-a-view-versus-a-copy\n",
      "  df[['Keep 1','Right answer lemma', 'POS Right', 'Tag Right']] = df.apply(filter_func_r, axis=1,\n",
      "C:\\Users\\User\\HSE\\LangExBank\\LangExBank\\DisGen\\distractor_generator\\distractor_models.py:193: SettingWithCopyWarning: \n",
      "A value is trying to be set on a copy of a slice from a DataFrame.\n",
      "Try using .loc[row_indexer,col_indexer] = value instead\n",
      "\n",
      "See the caveats in the documentation: https://pandas.pydata.org/pandas-docs/stable/user_guide/indexing.html#returning-a-view-versus-a-copy\n",
      "  df[['Keep 1','Right answer lemma', 'POS Right', 'Tag Right']] = df.apply(filter_func_r, axis=1,\n",
      "C:\\Users\\User\\HSE\\LangExBank\\LangExBank\\DisGen\\distractor_generator\\distractor_models.py:193: SettingWithCopyWarning: \n",
      "A value is trying to be set on a copy of a slice from a DataFrame.\n",
      "Try using .loc[row_indexer,col_indexer] = value instead\n",
      "\n",
      "See the caveats in the documentation: https://pandas.pydata.org/pandas-docs/stable/user_guide/indexing.html#returning-a-view-versus-a-copy\n",
      "  df[['Keep 1','Right answer lemma', 'POS Right', 'Tag Right']] = df.apply(filter_func_r, axis=1,\n",
      "C:\\Users\\User\\HSE\\LangExBank\\LangExBank\\DisGen\\distractor_generator\\distractor_models.py:195: SettingWithCopyWarning: \n",
      "A value is trying to be set on a copy of a slice from a DataFrame.\n",
      "Try using .loc[row_indexer,col_indexer] = value instead\n",
      "\n",
      "See the caveats in the documentation: https://pandas.pydata.org/pandas-docs/stable/user_guide/indexing.html#returning-a-view-versus-a-copy\n",
      "  df[['Keep 2','Wrong answer lemma', 'POS Wrong', 'Tag Wrong']] = df.apply(filter_func_w, axis=1,\n",
      "C:\\Users\\User\\HSE\\LangExBank\\LangExBank\\DisGen\\distractor_generator\\distractor_models.py:195: SettingWithCopyWarning: \n",
      "A value is trying to be set on a copy of a slice from a DataFrame.\n",
      "Try using .loc[row_indexer,col_indexer] = value instead\n",
      "\n",
      "See the caveats in the documentation: https://pandas.pydata.org/pandas-docs/stable/user_guide/indexing.html#returning-a-view-versus-a-copy\n",
      "  df[['Keep 2','Wrong answer lemma', 'POS Wrong', 'Tag Wrong']] = df.apply(filter_func_w, axis=1,\n",
      "C:\\Users\\User\\HSE\\LangExBank\\LangExBank\\DisGen\\distractor_generator\\distractor_models.py:195: SettingWithCopyWarning: \n",
      "A value is trying to be set on a copy of a slice from a DataFrame.\n",
      "Try using .loc[row_indexer,col_indexer] = value instead\n",
      "\n",
      "See the caveats in the documentation: https://pandas.pydata.org/pandas-docs/stable/user_guide/indexing.html#returning-a-view-versus-a-copy\n",
      "  df[['Keep 2','Wrong answer lemma', 'POS Wrong', 'Tag Wrong']] = df.apply(filter_func_w, axis=1,\n",
      "C:\\Users\\User\\HSE\\LangExBank\\LangExBank\\DisGen\\distractor_generator\\distractor_models.py:195: SettingWithCopyWarning: \n",
      "A value is trying to be set on a copy of a slice from a DataFrame.\n",
      "Try using .loc[row_indexer,col_indexer] = value instead\n",
      "\n",
      "See the caveats in the documentation: https://pandas.pydata.org/pandas-docs/stable/user_guide/indexing.html#returning-a-view-versus-a-copy\n",
      "  df[['Keep 2','Wrong answer lemma', 'POS Wrong', 'Tag Wrong']] = df.apply(filter_func_w, axis=1,\n"
     ]
    },
    {
     "name": "stderr",
     "output_type": "stream",
     "text": [
      "C:\\Users\\User\\HSE\\LangExBank\\LangExBank\\DisGen\\distractor_generator\\nn_models.py:114: UserWarning: Implicit dimension choice for softmax has been deprecated. Change the call to include dim=X as an argument.\n",
      "  pred = F.softmax(model(batch_device).data.cpu())\n",
      "C:\\Users\\User\\HSE\\LangExBank\\LangExBank\\DisGen\\distractor_generator\\distractor_models.py:60: SettingWithCopyWarning: \n",
      "A value is trying to be set on a copy of a slice from a DataFrame.\n",
      "Try using .loc[row_indexer,col_indexer] = value instead\n",
      "\n",
      "See the caveats in the documentation: https://pandas.pydata.org/pandas-docs/stable/user_guide/indexing.html#returning-a-view-versus-a-copy\n",
      "  df['Sentence'] = df['Sentence'].apply(lambda x: re.sub('<b>.*?</b>','_'*8, x))\n",
      "C:\\Users\\User\\HSE\\LangExBank\\LangExBank\\DisGen\\distractor_generator\\distractor_models.py:187: SettingWithCopyWarning: \n",
      "A value is trying to be set on a copy of a slice from a DataFrame.\n",
      "Try using .loc[row_indexer,col_indexer] = value instead\n",
      "\n",
      "See the caveats in the documentation: https://pandas.pydata.org/pandas-docs/stable/user_guide/indexing.html#returning-a-view-versus-a-copy\n",
      "  df['Wrong answer'] = df['Sentence'].apply(find_error)\n",
      "C:\\Users\\User\\HSE\\LangExBank\\LangExBank\\DisGen\\distractor_generator\\distractor_models.py:188: SettingWithCopyWarning: \n",
      "A value is trying to be set on a copy of a slice from a DataFrame.\n",
      "Try using .loc[row_indexer,col_indexer] = value instead\n",
      "\n",
      "See the caveats in the documentation: https://pandas.pydata.org/pandas-docs/stable/user_guide/indexing.html#returning-a-view-versus-a-copy\n",
      "  df['Right answer'] = df['Right answer'].str.lower()\n",
      "C:\\Users\\User\\HSE\\LangExBank\\LangExBank\\DisGen\\distractor_generator\\distractor_models.py:189: SettingWithCopyWarning: \n",
      "A value is trying to be set on a copy of a slice from a DataFrame.\n",
      "Try using .loc[row_indexer,col_indexer] = value instead\n",
      "\n",
      "See the caveats in the documentation: https://pandas.pydata.org/pandas-docs/stable/user_guide/indexing.html#returning-a-view-versus-a-copy\n",
      "  df['Wrong answer'] = df['Wrong answer'].str.lower()\n",
      "C:\\Users\\User\\HSE\\LangExBank\\LangExBank\\DisGen\\distractor_generator\\distractor_models.py:193: SettingWithCopyWarning: \n",
      "A value is trying to be set on a copy of a slice from a DataFrame.\n",
      "Try using .loc[row_indexer,col_indexer] = value instead\n",
      "\n",
      "See the caveats in the documentation: https://pandas.pydata.org/pandas-docs/stable/user_guide/indexing.html#returning-a-view-versus-a-copy\n",
      "  df[['Keep 1','Right answer lemma', 'POS Right', 'Tag Right']] = df.apply(filter_func_r, axis=1,\n",
      "C:\\Users\\User\\HSE\\LangExBank\\LangExBank\\DisGen\\distractor_generator\\distractor_models.py:193: SettingWithCopyWarning: \n",
      "A value is trying to be set on a copy of a slice from a DataFrame.\n",
      "Try using .loc[row_indexer,col_indexer] = value instead\n",
      "\n",
      "See the caveats in the documentation: https://pandas.pydata.org/pandas-docs/stable/user_guide/indexing.html#returning-a-view-versus-a-copy\n",
      "  df[['Keep 1','Right answer lemma', 'POS Right', 'Tag Right']] = df.apply(filter_func_r, axis=1,\n",
      "C:\\Users\\User\\HSE\\LangExBank\\LangExBank\\DisGen\\distractor_generator\\distractor_models.py:193: SettingWithCopyWarning: \n",
      "A value is trying to be set on a copy of a slice from a DataFrame.\n",
      "Try using .loc[row_indexer,col_indexer] = value instead\n",
      "\n",
      "See the caveats in the documentation: https://pandas.pydata.org/pandas-docs/stable/user_guide/indexing.html#returning-a-view-versus-a-copy\n",
      "  df[['Keep 1','Right answer lemma', 'POS Right', 'Tag Right']] = df.apply(filter_func_r, axis=1,\n",
      "C:\\Users\\User\\HSE\\LangExBank\\LangExBank\\DisGen\\distractor_generator\\distractor_models.py:193: SettingWithCopyWarning: \n",
      "A value is trying to be set on a copy of a slice from a DataFrame.\n",
      "Try using .loc[row_indexer,col_indexer] = value instead\n",
      "\n",
      "See the caveats in the documentation: https://pandas.pydata.org/pandas-docs/stable/user_guide/indexing.html#returning-a-view-versus-a-copy\n",
      "  df[['Keep 1','Right answer lemma', 'POS Right', 'Tag Right']] = df.apply(filter_func_r, axis=1,\n",
      "C:\\Users\\User\\HSE\\LangExBank\\LangExBank\\DisGen\\distractor_generator\\distractor_models.py:195: SettingWithCopyWarning: \n",
      "A value is trying to be set on a copy of a slice from a DataFrame.\n",
      "Try using .loc[row_indexer,col_indexer] = value instead\n",
      "\n",
      "See the caveats in the documentation: https://pandas.pydata.org/pandas-docs/stable/user_guide/indexing.html#returning-a-view-versus-a-copy\n",
      "  df[['Keep 2','Wrong answer lemma', 'POS Wrong', 'Tag Wrong']] = df.apply(filter_func_w, axis=1,\n",
      "C:\\Users\\User\\HSE\\LangExBank\\LangExBank\\DisGen\\distractor_generator\\distractor_models.py:195: SettingWithCopyWarning: \n",
      "A value is trying to be set on a copy of a slice from a DataFrame.\n",
      "Try using .loc[row_indexer,col_indexer] = value instead\n",
      "\n",
      "See the caveats in the documentation: https://pandas.pydata.org/pandas-docs/stable/user_guide/indexing.html#returning-a-view-versus-a-copy\n",
      "  df[['Keep 2','Wrong answer lemma', 'POS Wrong', 'Tag Wrong']] = df.apply(filter_func_w, axis=1,\n",
      "C:\\Users\\User\\HSE\\LangExBank\\LangExBank\\DisGen\\distractor_generator\\distractor_models.py:195: SettingWithCopyWarning: \n",
      "A value is trying to be set on a copy of a slice from a DataFrame.\n",
      "Try using .loc[row_indexer,col_indexer] = value instead\n",
      "\n",
      "See the caveats in the documentation: https://pandas.pydata.org/pandas-docs/stable/user_guide/indexing.html#returning-a-view-versus-a-copy\n",
      "  df[['Keep 2','Wrong answer lemma', 'POS Wrong', 'Tag Wrong']] = df.apply(filter_func_w, axis=1,\n",
      "C:\\Users\\User\\HSE\\LangExBank\\LangExBank\\DisGen\\distractor_generator\\distractor_models.py:195: SettingWithCopyWarning: \n",
      "A value is trying to be set on a copy of a slice from a DataFrame.\n",
      "Try using .loc[row_indexer,col_indexer] = value instead\n",
      "\n",
      "See the caveats in the documentation: https://pandas.pydata.org/pandas-docs/stable/user_guide/indexing.html#returning-a-view-versus-a-copy\n",
      "  df[['Keep 2','Wrong answer lemma', 'POS Wrong', 'Tag Wrong']] = df.apply(filter_func_w, axis=1,\n",
      "C:\\Users\\User\\HSE\\LangExBank\\LangExBank\\DisGen\\distractor_generator\\nn_models.py:114: UserWarning: Implicit dimension choice for softmax has been deprecated. Change the call to include dim=X as an argument.\n",
      "  pred = F.softmax(model(batch_device).data.cpu())\n",
      "C:\\Users\\User\\HSE\\LangExBank\\LangExBank\\DisGen\\distractor_generator\\distractor_models.py:60: SettingWithCopyWarning: \n",
      "A value is trying to be set on a copy of a slice from a DataFrame.\n",
      "Try using .loc[row_indexer,col_indexer] = value instead\n",
      "\n",
      "See the caveats in the documentation: https://pandas.pydata.org/pandas-docs/stable/user_guide/indexing.html#returning-a-view-versus-a-copy\n",
      "  df['Sentence'] = df['Sentence'].apply(lambda x: re.sub('<b>.*?</b>','_'*8, x))\n",
      "C:\\Users\\User\\HSE\\LangExBank\\LangExBank\\DisGen\\distractor_generator\\distractor_models.py:187: SettingWithCopyWarning: \n",
      "A value is trying to be set on a copy of a slice from a DataFrame.\n",
      "Try using .loc[row_indexer,col_indexer] = value instead\n",
      "\n",
      "See the caveats in the documentation: https://pandas.pydata.org/pandas-docs/stable/user_guide/indexing.html#returning-a-view-versus-a-copy\n",
      "  df['Wrong answer'] = df['Sentence'].apply(find_error)\n",
      "C:\\Users\\User\\HSE\\LangExBank\\LangExBank\\DisGen\\distractor_generator\\distractor_models.py:188: SettingWithCopyWarning: \n",
      "A value is trying to be set on a copy of a slice from a DataFrame.\n",
      "Try using .loc[row_indexer,col_indexer] = value instead\n",
      "\n",
      "See the caveats in the documentation: https://pandas.pydata.org/pandas-docs/stable/user_guide/indexing.html#returning-a-view-versus-a-copy\n",
      "  df['Right answer'] = df['Right answer'].str.lower()\n",
      "C:\\Users\\User\\HSE\\LangExBank\\LangExBank\\DisGen\\distractor_generator\\distractor_models.py:189: SettingWithCopyWarning: \n",
      "A value is trying to be set on a copy of a slice from a DataFrame.\n",
      "Try using .loc[row_indexer,col_indexer] = value instead\n",
      "\n",
      "See the caveats in the documentation: https://pandas.pydata.org/pandas-docs/stable/user_guide/indexing.html#returning-a-view-versus-a-copy\n",
      "  df['Wrong answer'] = df['Wrong answer'].str.lower()\n",
      "C:\\Users\\User\\HSE\\LangExBank\\LangExBank\\DisGen\\distractor_generator\\distractor_models.py:193: SettingWithCopyWarning: \n",
      "A value is trying to be set on a copy of a slice from a DataFrame.\n",
      "Try using .loc[row_indexer,col_indexer] = value instead\n",
      "\n",
      "See the caveats in the documentation: https://pandas.pydata.org/pandas-docs/stable/user_guide/indexing.html#returning-a-view-versus-a-copy\n",
      "  df[['Keep 1','Right answer lemma', 'POS Right', 'Tag Right']] = df.apply(filter_func_r, axis=1,\n",
      "C:\\Users\\User\\HSE\\LangExBank\\LangExBank\\DisGen\\distractor_generator\\distractor_models.py:193: SettingWithCopyWarning: \n",
      "A value is trying to be set on a copy of a slice from a DataFrame.\n",
      "Try using .loc[row_indexer,col_indexer] = value instead\n",
      "\n",
      "See the caveats in the documentation: https://pandas.pydata.org/pandas-docs/stable/user_guide/indexing.html#returning-a-view-versus-a-copy\n",
      "  df[['Keep 1','Right answer lemma', 'POS Right', 'Tag Right']] = df.apply(filter_func_r, axis=1,\n",
      "C:\\Users\\User\\HSE\\LangExBank\\LangExBank\\DisGen\\distractor_generator\\distractor_models.py:193: SettingWithCopyWarning: \n",
      "A value is trying to be set on a copy of a slice from a DataFrame.\n",
      "Try using .loc[row_indexer,col_indexer] = value instead\n",
      "\n",
      "See the caveats in the documentation: https://pandas.pydata.org/pandas-docs/stable/user_guide/indexing.html#returning-a-view-versus-a-copy\n",
      "  df[['Keep 1','Right answer lemma', 'POS Right', 'Tag Right']] = df.apply(filter_func_r, axis=1,\n",
      "C:\\Users\\User\\HSE\\LangExBank\\LangExBank\\DisGen\\distractor_generator\\distractor_models.py:193: SettingWithCopyWarning: \n",
      "A value is trying to be set on a copy of a slice from a DataFrame.\n",
      "Try using .loc[row_indexer,col_indexer] = value instead\n",
      "\n",
      "See the caveats in the documentation: https://pandas.pydata.org/pandas-docs/stable/user_guide/indexing.html#returning-a-view-versus-a-copy\n",
      "  df[['Keep 1','Right answer lemma', 'POS Right', 'Tag Right']] = df.apply(filter_func_r, axis=1,\n"
     ]
    },
    {
     "name": "stdout",
     "output_type": "stream",
     "text": [
      "CPU times: total: 16.9 s\n",
      "Wall time: 13.2 s\n"
     ]
    },
    {
     "name": "stderr",
     "output_type": "stream",
     "text": [
      "C:\\Users\\User\\HSE\\LangExBank\\LangExBank\\DisGen\\distractor_generator\\distractor_models.py:195: SettingWithCopyWarning: \n",
      "A value is trying to be set on a copy of a slice from a DataFrame.\n",
      "Try using .loc[row_indexer,col_indexer] = value instead\n",
      "\n",
      "See the caveats in the documentation: https://pandas.pydata.org/pandas-docs/stable/user_guide/indexing.html#returning-a-view-versus-a-copy\n",
      "  df[['Keep 2','Wrong answer lemma', 'POS Wrong', 'Tag Wrong']] = df.apply(filter_func_w, axis=1,\n",
      "C:\\Users\\User\\HSE\\LangExBank\\LangExBank\\DisGen\\distractor_generator\\distractor_models.py:195: SettingWithCopyWarning: \n",
      "A value is trying to be set on a copy of a slice from a DataFrame.\n",
      "Try using .loc[row_indexer,col_indexer] = value instead\n",
      "\n",
      "See the caveats in the documentation: https://pandas.pydata.org/pandas-docs/stable/user_guide/indexing.html#returning-a-view-versus-a-copy\n",
      "  df[['Keep 2','Wrong answer lemma', 'POS Wrong', 'Tag Wrong']] = df.apply(filter_func_w, axis=1,\n",
      "C:\\Users\\User\\HSE\\LangExBank\\LangExBank\\DisGen\\distractor_generator\\distractor_models.py:195: SettingWithCopyWarning: \n",
      "A value is trying to be set on a copy of a slice from a DataFrame.\n",
      "Try using .loc[row_indexer,col_indexer] = value instead\n",
      "\n",
      "See the caveats in the documentation: https://pandas.pydata.org/pandas-docs/stable/user_guide/indexing.html#returning-a-view-versus-a-copy\n",
      "  df[['Keep 2','Wrong answer lemma', 'POS Wrong', 'Tag Wrong']] = df.apply(filter_func_w, axis=1,\n",
      "C:\\Users\\User\\HSE\\LangExBank\\LangExBank\\DisGen\\distractor_generator\\distractor_models.py:195: SettingWithCopyWarning: \n",
      "A value is trying to be set on a copy of a slice from a DataFrame.\n",
      "Try using .loc[row_indexer,col_indexer] = value instead\n",
      "\n",
      "See the caveats in the documentation: https://pandas.pydata.org/pandas-docs/stable/user_guide/indexing.html#returning-a-view-versus-a-copy\n",
      "  df[['Keep 2','Wrong answer lemma', 'POS Wrong', 'Tag Wrong']] = df.apply(filter_func_w, axis=1,\n",
      "C:\\Users\\User\\HSE\\LangExBank\\LangExBank\\DisGen\\distractor_generator\\nn_models.py:114: UserWarning: Implicit dimension choice for softmax has been deprecated. Change the call to include dim=X as an argument.\n",
      "  pred = F.softmax(model(batch_device).data.cpu())\n",
      "C:\\Users\\User\\HSE\\LangExBank\\LangExBank\\DisGen\\distractor_generator\\distractor_models.py:60: SettingWithCopyWarning: \n",
      "A value is trying to be set on a copy of a slice from a DataFrame.\n",
      "Try using .loc[row_indexer,col_indexer] = value instead\n",
      "\n",
      "See the caveats in the documentation: https://pandas.pydata.org/pandas-docs/stable/user_guide/indexing.html#returning-a-view-versus-a-copy\n",
      "  df['Sentence'] = df['Sentence'].apply(lambda x: re.sub('<b>.*?</b>','_'*8, x))\n"
     ]
    }
   ],
   "source": [
    "%%time\n",
    "data = get_distractors(data)"
   ]
  },
  {
   "cell_type": "markdown",
   "metadata": {
    "id": "Bg5K0QVOVJOb"
   },
   "source": [
    "Посмотрим, что у нас получилось на выходе:"
   ]
  },
  {
   "cell_type": "code",
   "execution_count": 37,
   "metadata": {
    "id": "5dp1R6HLVM46"
   },
   "outputs": [
    {
     "data": {
      "text/plain": [
       "(pandas.core.frame.DataFrame, 259)"
      ]
     },
     "execution_count": 37,
     "metadata": {},
     "output_type": "execute_result"
    }
   ],
   "source": [
    "type(data), len(data)"
   ]
  },
  {
   "cell_type": "code",
   "execution_count": 38,
   "metadata": {
    "id": "nk-xruEaVQI3"
   },
   "outputs": [
    {
     "data": {
      "text/html": [
       "<div>\n",
       "<style scoped>\n",
       "    .dataframe tbody tr th:only-of-type {\n",
       "        vertical-align: middle;\n",
       "    }\n",
       "\n",
       "    .dataframe tbody tr th {\n",
       "        vertical-align: top;\n",
       "    }\n",
       "\n",
       "    .dataframe thead th {\n",
       "        text-align: right;\n",
       "    }\n",
       "</style>\n",
       "<table border=\"1\" class=\"dataframe\">\n",
       "  <thead>\n",
       "    <tr style=\"text-align: right;\">\n",
       "      <th></th>\n",
       "      <th>Sentence</th>\n",
       "      <th>Right answer</th>\n",
       "      <th>Wrong answer</th>\n",
       "      <th>Distractor 1</th>\n",
       "      <th>Distractor 2</th>\n",
       "      <th>Distractor 3</th>\n",
       "      <th>Error type</th>\n",
       "      <th>Folder</th>\n",
       "      <th>Filename</th>\n",
       "    </tr>\n",
       "  </thead>\n",
       "  <tbody>\n",
       "    <tr>\n",
       "      <th>0</th>\n",
       "      <td>For instance, students are overloaded _______...</td>\n",
       "      <td>with</td>\n",
       "      <td>by</td>\n",
       "      <td>in</td>\n",
       "      <td>on</td>\n",
       "      <td>and</td>\n",
       "      <td>Prepositions</td>\n",
       "      <td>downloaded_2022_04_08_22_53_34270461\\exam\\best...</td>\n",
       "      <td>39_2</td>\n",
       "    </tr>\n",
       "    <tr>\n",
       "      <th>1</th>\n",
       "      <td>This fact will increase the ________ of the v...</td>\n",
       "      <td>efficiency</td>\n",
       "      <td>effectivity</td>\n",
       "      <td>level</td>\n",
       "      <td>development</td>\n",
       "      <td>number</td>\n",
       "      <td>lex_item_choice</td>\n",
       "      <td>downloaded_2022_04_08_22_53_34270461\\exam\\Exam...</td>\n",
       "      <td>2014_KKo_15_2</td>\n",
       "    </tr>\n",
       "    <tr>\n",
       "      <th>2</th>\n",
       "      <td>Some students in high schools just can't spen...</td>\n",
       "      <td>youngsters</td>\n",
       "      <td>youngers</td>\n",
       "      <td>chances</td>\n",
       "      <td>appearances</td>\n",
       "      <td>states</td>\n",
       "      <td>lex_item_choice</td>\n",
       "      <td>downloaded_2022_04_08_22_53_34270461\\exam\\Exam...</td>\n",
       "      <td>2014_KKo_23_2</td>\n",
       "    </tr>\n",
       "    <tr>\n",
       "      <th>3</th>\n",
       "      <td>I believe that charity ________ different lev...</td>\n",
       "      <td>on</td>\n",
       "      <td>of</td>\n",
       "      <td>with</td>\n",
       "      <td>for</td>\n",
       "      <td>through</td>\n",
       "      <td>Prepositions</td>\n",
       "      <td>downloaded_2022_04_08_22_53_34270461\\exam\\Exam...</td>\n",
       "      <td>2014_KKo_25_2</td>\n",
       "    </tr>\n",
       "    <tr>\n",
       "      <th>4</th>\n",
       "      <td>In addition, some students are afraid of resp...</td>\n",
       "      <td>with</td>\n",
       "      <td>in</td>\n",
       "      <td>by</td>\n",
       "      <td>on</td>\n",
       "      <td>over</td>\n",
       "      <td>Prepositions</td>\n",
       "      <td>downloaded_2022_04_08_22_53_34270461\\exam\\Exam...</td>\n",
       "      <td>2014_KKo_25_2</td>\n",
       "    </tr>\n",
       "  </tbody>\n",
       "</table>\n",
       "</div>"
      ],
      "text/plain": [
       "                                            Sentence Right answer  \\\n",
       "0   For instance, students are overloaded _______...         with   \n",
       "1   This fact will increase the ________ of the v...   efficiency   \n",
       "2   Some students in high schools just can't spen...   youngsters   \n",
       "3   I believe that charity ________ different lev...           on   \n",
       "4   In addition, some students are afraid of resp...         with   \n",
       "\n",
       "  Wrong answer Distractor 1 Distractor 2 Distractor 3       Error type  \\\n",
       "0           by           in           on          and     Prepositions   \n",
       "1  effectivity        level  development       number  lex_item_choice   \n",
       "2     youngers      chances  appearances       states  lex_item_choice   \n",
       "3           of         with          for      through     Prepositions   \n",
       "4           in           by           on         over     Prepositions   \n",
       "\n",
       "                                              Folder       Filename  \n",
       "0  downloaded_2022_04_08_22_53_34270461\\exam\\best...           39_2  \n",
       "1  downloaded_2022_04_08_22_53_34270461\\exam\\Exam...  2014_KKo_15_2  \n",
       "2  downloaded_2022_04_08_22_53_34270461\\exam\\Exam...  2014_KKo_23_2  \n",
       "3  downloaded_2022_04_08_22_53_34270461\\exam\\Exam...  2014_KKo_25_2  \n",
       "4  downloaded_2022_04_08_22_53_34270461\\exam\\Exam...  2014_KKo_25_2  "
      ]
     },
     "execution_count": 38,
     "metadata": {},
     "output_type": "execute_result"
    }
   ],
   "source": [
    "data.head()"
   ]
  },
  {
   "cell_type": "code",
   "execution_count": 39,
   "metadata": {
    "id": "HciQGX8urbU4"
   },
   "outputs": [
    {
     "data": {
      "text/plain": [
       "[' For instance, students are overloaded ________ their schoolwork and extracurricular activities, which lresults into less time for hobbies and also for the communication with relatives.',\n",
       " ' This fact will increase the ________ of the volunteer work and also will increase the number of students, involved in this work.',\n",
       " \" Some students in high schools just can't spend extra time helping the ________ because of hard exam preparation.\",\n",
       " ' I believe that charity ________ different levels improves our world so students which help homeless people or plant trees in a park make our country better.',\n",
       " ' In addition, some students are afraid of responsibility and have problems ________ talking in front of people.',\n",
       " \" It isn't easy to add community service ________ high school program, but some years later students will understand the usefulness of it.\",\n",
       " ' In this situation, if universities should accept equal ________ of male and female students, it will be impossible for some boys to study what they want.',\n",
       " ' So, if there are much more women in this country, it will be impossible to organize the same ________ of male and female students in every subject.',\n",
       " ' Finally, I want to say that in all the universities all over the world there are not equal proportions of male and female students ________ every faculty and in every subject.',\n",
       " ' I firmly believe that, for instance, ________ technical specialisations, where the majority of students are men, equal numbers of women can make the study more interesting and productive.']"
      ]
     },
     "execution_count": 39,
     "metadata": {},
     "output_type": "execute_result"
    }
   ],
   "source": [
    "data['Sentence'].to_list()[:10]"
   ]
  },
  {
   "cell_type": "code",
   "execution_count": null,
   "metadata": {},
   "outputs": [],
   "source": []
  }
 ],
 "metadata": {
  "colab": {
   "collapsed_sections": [],
   "name": "Testmaker example.ipynb",
   "provenance": []
  },
  "kernelspec": {
   "display_name": "Python 3 (ipykernel)",
   "language": "python",
   "name": "python3"
  },
  "language_info": {
   "codemirror_mode": {
    "name": "ipython",
    "version": 3
   },
   "file_extension": ".py",
   "mimetype": "text/x-python",
   "name": "python",
   "nbconvert_exporter": "python",
   "pygments_lexer": "ipython3",
   "version": "3.8.10"
  }
 },
 "nbformat": 4,
 "nbformat_minor": 1
}
