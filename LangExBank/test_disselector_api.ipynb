{
 "cells": [
  {
   "cell_type": "code",
   "execution_count": 1,
   "id": "dc1e07d7",
   "metadata": {},
   "outputs": [],
   "source": [
    "import requests, re"
   ]
  },
  {
   "cell_type": "code",
   "execution_count": 2,
   "id": "55e3cdb4",
   "metadata": {},
   "outputs": [],
   "source": [
    "from testmaker.testmaker import download_folder_and_make_exercises"
   ]
  },
  {
   "cell_type": "code",
   "execution_count": 3,
   "id": "0d7bcdf5",
   "metadata": {},
   "outputs": [
    {
     "name": "stdout",
     "output_type": "stream",
     "text": [
      "downloading collection /exam/Exam2019/ ...\n",
      "downloaded, extracting... \n",
      "folder Exam2019 from realec.org succesfully saved to downloaded_2022_11_26_23_11_22174240\n",
      "Filter query - None\n",
      "collecting errors info...\n",
      "Making exercises...\n",
      "Writing short_answer questions, 1179 total ...\n",
      "done, saved in RAM as BytesIO object\n",
      "Wall time: 30.8 s\n"
     ]
    }
   ],
   "source": [
    "%%time\n",
    "data = download_folder_and_make_exercises(folder_name=\"/exam/Exam2019/\",\n",
    "    error_types=[\"lex_item_choice\"], file_output=False, moodle_output=False, make_two_variants=False,\n",
    "    delete_downloaded=True, filter_query=None, context=False)['short_answer']"
   ]
  },
  {
   "cell_type": "code",
   "execution_count": 4,
   "id": "f1501acd",
   "metadata": {},
   "outputs": [],
   "source": [
    "data_to_send = [\n",
    "    {\n",
    "        \"id\": idx,\n",
    "        \"masked_sent\": re.sub(\"<b>.*?</b>\", \"[MASK]\", el[0]),\n",
    "        \"correction\": el[1][0]\n",
    "    } for idx, el in enumerate(data) if el[3] == \"lex_item_choice\" and\n",
    "        len(el[1][0].split()) == 1\n",
    "]"
   ]
  },
  {
   "cell_type": "code",
   "execution_count": 5,
   "id": "85c209ca",
   "metadata": {},
   "outputs": [
    {
     "data": {
      "text/plain": [
       "1062"
      ]
     },
     "execution_count": 5,
     "metadata": {},
     "output_type": "execute_result"
    }
   ],
   "source": [
    "len(data_to_send)"
   ]
  },
  {
   "cell_type": "code",
   "execution_count": 6,
   "id": "a695e9a0",
   "metadata": {},
   "outputs": [
    {
     "name": "stdout",
     "output_type": "stream",
     "text": [
      "Wall time: 4min 16s\n"
     ]
    }
   ],
   "source": [
    "%%time\n",
    "processed = requests.post(\n",
    "    \"http://localhost:5000/\",\n",
    "    json=data_to_send\n",
    ")"
   ]
  },
  {
   "cell_type": "code",
   "execution_count": 7,
   "id": "7554407b",
   "metadata": {},
   "outputs": [],
   "source": [
    "distractors = [i[\"variants\"] for i in processed.json()]\n",
    "distractors = [d for d in distractors if d]"
   ]
  },
  {
   "cell_type": "code",
   "execution_count": 8,
   "id": "ac215c1f",
   "metadata": {},
   "outputs": [
    {
     "data": {
      "text/plain": [
       "978"
      ]
     },
     "execution_count": 8,
     "metadata": {},
     "output_type": "execute_result"
    }
   ],
   "source": [
    "len(distractors)"
   ]
  },
  {
   "cell_type": "code",
   "execution_count": 9,
   "id": "c0767895",
   "metadata": {},
   "outputs": [
    {
     "data": {
      "text/plain": [
       "[['number', 'amount'],\n",
       " ['twice', 'part'],\n",
       " ['has', 'he', 'whom', 'that'],\n",
       " ['visitors', 'trips', 'returns', 'invites'],\n",
       " ['a', 'the', 'an'],\n",
       " ['amount', 'number', 'percent'],\n",
       " ['the', 'your', 'them', 'our'],\n",
       " ['oldest'],\n",
       " ['largest', 'densest', 'oldest'],\n",
       " ['amount', 'quantity']]"
      ]
     },
     "execution_count": 9,
     "metadata": {},
     "output_type": "execute_result"
    }
   ],
   "source": [
    "distractors[:10]"
   ]
  }
 ],
 "metadata": {
  "kernelspec": {
   "display_name": "Python 3.7.3 ('env': virtualenv)",
   "language": "python",
   "name": "python3"
  },
  "language_info": {
   "codemirror_mode": {
    "name": "ipython",
    "version": 3
   },
   "file_extension": ".py",
   "mimetype": "text/x-python",
   "name": "python",
   "nbconvert_exporter": "python",
   "pygments_lexer": "ipython3",
   "version": "3.7.3"
  },
  "vscode": {
   "interpreter": {
    "hash": "5bde35e601aa34534437bfe60f5bd029590507f3dabbafaff5b73b8c36f6298f"
   }
  }
 },
 "nbformat": 4,
 "nbformat_minor": 5
}
