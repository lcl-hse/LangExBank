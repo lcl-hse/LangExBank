{
 "cells": [
  {
   "cell_type": "code",
   "execution_count": 1,
   "metadata": {},
   "outputs": [],
   "source": [
    "from testmaker.realec_grammar_exercises_without_mc import Exercise\n",
    "import pandas as pd"
   ]
  },
  {
   "cell_type": "code",
   "execution_count": 2,
   "metadata": {},
   "outputs": [],
   "source": [
    "path_to_data = r'realec'"
   ]
  },
  {
   "cell_type": "code",
   "execution_count": null,
   "metadata": {},
   "outputs": [],
   "source": [
    "e = Exercise(path_to_realecdata = path_to_data,\n",
    "    exercise_types=['short_answer'], file_output=False,\n",
    "    moodle_output=False,\n",
    "    maintain_log=False,\n",
    "    mode='folder',context=False,bold = True,\n",
    "    make_two_variants=False,\n",
    "    hier_choice=True, show_messages=False, keep_processed=False,\n",
    "    keep_all_exercises=True)\n",
    "e.make_data_ready_4exercise()\n",
    "e.make_exercise()"
   ]
  },
  {
   "cell_type": "code",
   "execution_count": 4,
   "metadata": {},
   "outputs": [],
   "source": [
    "data = [(i[0], i[1][0], i[3]) for i in e.output_objects[\"short_answer\"]]"
   ]
  },
  {
   "cell_type": "code",
   "execution_count": 5,
   "metadata": {},
   "outputs": [],
   "source": [
    "contexts = pd.DataFrame(data=data,\n",
    "                       columns=['Sentence', 'Right answer', 'Error type'])"
   ]
  },
  {
   "cell_type": "code",
   "execution_count": 6,
   "metadata": {},
   "outputs": [
    {
     "data": {
      "text/html": [
       "<div>\n",
       "<style scoped>\n",
       "    .dataframe tbody tr th:only-of-type {\n",
       "        vertical-align: middle;\n",
       "    }\n",
       "\n",
       "    .dataframe tbody tr th {\n",
       "        vertical-align: top;\n",
       "    }\n",
       "\n",
       "    .dataframe thead th {\n",
       "        text-align: right;\n",
       "    }\n",
       "</style>\n",
       "<table border=\"1\" class=\"dataframe\">\n",
       "  <thead>\n",
       "    <tr style=\"text-align: right;\">\n",
       "      <th></th>\n",
       "      <th>Sentence</th>\n",
       "      <th>Right answer</th>\n",
       "      <th>Error type</th>\n",
       "    </tr>\n",
       "  </thead>\n",
       "  <tbody>\n",
       "    <tr>\n",
       "      <th>0</th>\n",
       "      <td>Will Gardner, a founder of a law firm, inform...</td>\n",
       "      <td>demanded that</td>\n",
       "      <td>that_clause</td>\n",
       "    </tr>\n",
       "    <tr>\n",
       "      <th>1</th>\n",
       "      <td>Will Gardner, a founder of a law firm, inform...</td>\n",
       "      <td>she deal</td>\n",
       "      <td>Absence_comp_sent</td>\n",
       "    </tr>\n",
       "    <tr>\n",
       "      <th>2</th>\n",
       "      <td>He &lt;b&gt;noticed&lt;/b&gt; that it was a very sensitiv...</td>\n",
       "      <td>noted</td>\n",
       "      <td>Often_confused</td>\n",
       "    </tr>\n",
       "    <tr>\n",
       "      <th>3</th>\n",
       "      <td>He noted that it &lt;b&gt;is&lt;/b&gt; a very sensitive i...</td>\n",
       "      <td>was</td>\n",
       "      <td>Tense_choice</td>\n",
       "    </tr>\n",
       "    <tr>\n",
       "      <th>4</th>\n",
       "      <td>He noted that it was a very sensitive issue f...</td>\n",
       "      <td>the defendant</td>\n",
       "      <td>Articles</td>\n",
       "    </tr>\n",
       "  </tbody>\n",
       "</table>\n",
       "</div>"
      ],
      "text/plain": [
       "                                            Sentence   Right answer  \\\n",
       "0   Will Gardner, a founder of a law firm, inform...  demanded that   \n",
       "1   Will Gardner, a founder of a law firm, inform...       she deal   \n",
       "2   He <b>noticed</b> that it was a very sensitiv...          noted   \n",
       "3   He noted that it <b>is</b> a very sensitive i...            was   \n",
       "4   He noted that it was a very sensitive issue f...  the defendant   \n",
       "\n",
       "          Error type  \n",
       "0        that_clause  \n",
       "1  Absence_comp_sent  \n",
       "2     Often_confused  \n",
       "3       Tense_choice  \n",
       "4           Articles  "
      ]
     },
     "execution_count": 6,
     "metadata": {},
     "output_type": "execute_result"
    }
   ],
   "source": [
    "contexts.head()"
   ]
  },
  {
   "cell_type": "code",
   "execution_count": 7,
   "metadata": {},
   "outputs": [
    {
     "data": {
      "text/plain": [
       "(175020, 3)"
      ]
     },
     "execution_count": 7,
     "metadata": {},
     "output_type": "execute_result"
    }
   ],
   "source": [
    "contexts.shape"
   ]
  },
  {
   "cell_type": "code",
   "execution_count": 8,
   "metadata": {},
   "outputs": [],
   "source": [
    "contexts.to_excel(\"realec_errors1.xlsx\")"
   ]
  },
  {
   "cell_type": "code",
   "execution_count": 35,
   "metadata": {},
   "outputs": [],
   "source": [
    "def correct(x):\n",
    "    start_id = x['Sentence'].find('<b>')\n",
    "    end_id = x['Sentence'].rfind('</b>') + len('</b>')\n",
    "    corrected = x['Sentence'][:start_id]+x['Right answer']+x['Sentence'][end_id:]\n",
    "    return corrected"
   ]
  },
  {
   "cell_type": "code",
   "execution_count": 36,
   "metadata": {},
   "outputs": [],
   "source": [
    "contexts['Corrected'] = contexts.apply(correct, axis=1)"
   ]
  },
  {
   "cell_type": "code",
   "execution_count": 37,
   "metadata": {},
   "outputs": [
    {
     "data": {
      "text/html": [
       "<div>\n",
       "<style scoped>\n",
       "    .dataframe tbody tr th:only-of-type {\n",
       "        vertical-align: middle;\n",
       "    }\n",
       "\n",
       "    .dataframe tbody tr th {\n",
       "        vertical-align: top;\n",
       "    }\n",
       "\n",
       "    .dataframe thead th {\n",
       "        text-align: right;\n",
       "    }\n",
       "</style>\n",
       "<table border=\"1\" class=\"dataframe\">\n",
       "  <thead>\n",
       "    <tr style=\"text-align: right;\">\n",
       "      <th></th>\n",
       "      <th>Sentence</th>\n",
       "      <th>Right answer</th>\n",
       "      <th>Error type</th>\n",
       "      <th>Corrected</th>\n",
       "    </tr>\n",
       "  </thead>\n",
       "  <tbody>\n",
       "    <tr>\n",
       "      <th>0</th>\n",
       "      <td>Will Gardner, a founder of a law firm, inform...</td>\n",
       "      <td>demanded that</td>\n",
       "      <td>Absence_comp_sent</td>\n",
       "      <td>Will Gardner, a founder of a law firm, inform...</td>\n",
       "    </tr>\n",
       "    <tr>\n",
       "      <th>1</th>\n",
       "      <td>He noted that it &lt;b&gt;is&lt;/b&gt; a very sensitive i...</td>\n",
       "      <td>was</td>\n",
       "      <td>Formational_affixes</td>\n",
       "      <td>He noted that it was a very sensitive issue f...</td>\n",
       "    </tr>\n",
       "    <tr>\n",
       "      <th>2</th>\n",
       "      <td>Alicia and her colleague Kalinda thought that...</td>\n",
       "      <td>, but</td>\n",
       "      <td>lex_item_choice</td>\n",
       "      <td>Alicia and her colleague Kalinda thought that...</td>\n",
       "    </tr>\n",
       "    <tr>\n",
       "      <th>3</th>\n",
       "      <td>She explained that she &lt;b&gt;had&lt;/b&gt; a Shabbat t...</td>\n",
       "      <td>had had</td>\n",
       "      <td>Tense_choice</td>\n",
       "      <td>She explained that she had had a Shabbat the ...</td>\n",
       "    </tr>\n",
       "    <tr>\n",
       "      <th>4</th>\n",
       "      <td>Then the lawyers were acquainted with another...</td>\n",
       "      <td>Alprin,</td>\n",
       "      <td>Absence_explanation</td>\n",
       "      <td>Then the lawyers were acquainted with another...</td>\n",
       "    </tr>\n",
       "  </tbody>\n",
       "</table>\n",
       "</div>"
      ],
      "text/plain": [
       "                                            Sentence   Right answer  \\\n",
       "0   Will Gardner, a founder of a law firm, inform...  demanded that   \n",
       "1   He noted that it <b>is</b> a very sensitive i...            was   \n",
       "2   Alicia and her colleague Kalinda thought that...          , but   \n",
       "3   She explained that she <b>had</b> a Shabbat t...        had had   \n",
       "4   Then the lawyers were acquainted with another...        Alprin,   \n",
       "\n",
       "            Error type                                          Corrected  \n",
       "0    Absence_comp_sent   Will Gardner, a founder of a law firm, inform...  \n",
       "1  Formational_affixes   He noted that it was a very sensitive issue f...  \n",
       "2      lex_item_choice   Alicia and her colleague Kalinda thought that...  \n",
       "3         Tense_choice   She explained that she had had a Shabbat the ...  \n",
       "4  Absence_explanation   Then the lawyers were acquainted with another...  "
      ]
     },
     "execution_count": 37,
     "metadata": {},
     "output_type": "execute_result"
    }
   ],
   "source": [
    "contexts.head()"
   ]
  },
  {
   "cell_type": "code",
   "execution_count": 38,
   "metadata": {},
   "outputs": [
    {
     "data": {
      "text/plain": [
       "0         Will Gardner, a founder of a law firm, inform...\n",
       "1         He noted that it was a very sensitive issue f...\n",
       "2         Alicia and her colleague Kalinda thought that...\n",
       "3         She explained that she had had a Shabbat the ...\n",
       "4         Then the lawyers were acquainted with another...\n",
       "5         He urged Alicia to go away and not to interfe...\n",
       "6         Alicia didn't agree to that and she tried to ...\n",
       "7         But Alprin didn't give up and told her that i...\n",
       "8             But later they found a way to work together.\n",
       "9         Alprin offered to use the First Amendment in ...\n",
       "10        In a court Alprin persuaded the judge to plac...\n",
       "11        But after a break in a trial the prosecutor s...\n",
       "12        Considerable social and financial resources a...\n",
       "13        I would like to make some proposals on how to...\n",
       "14        That's why there should be intercept car park...\n",
       "15        An other thing we have to mention is that the...\n",
       "16        They occupy large spaces, which surely could ...\n",
       "17        But the main thing is just to start doing som...\n",
       "18        Stereotypes can prevent one from learning som...\n",
       "19        Is it important to be aware of the national s...\n",
       "20        The approaches are divided into groups: - Ass...\n",
       "21       1) Barely had I swallowed the first piece when...\n",
       "22        Green had barely tidied up the house when the...\n",
       "23        3) Scarely had I managed to believe him when ...\n",
       "24        5) No sooner had Alex knocked at the door tha...\n",
       "25        6) Lily had no sooner put up the umbrella tha...\n",
       "26        7)Hardly had I fallen asleep when the alarm r...\n",
       "27        8) I had hardly run into the train when it de...\n",
       "28        Air companies are ready to deliver people in ...\n",
       "29        Moreover, official companies offer too many f...\n",
       "                               ...                        \n",
       "81796     In my point of view, the travelling by planes...\n",
       "81797     First of all, planes produce the unhealthy ga...\n",
       "81798     Imagine, how many people travel now when you ...\n",
       "81799     Undoubtedly,, the air is very important and s...\n",
       "81800     If we breath the dirty air, polluted by the b...\n",
       "81801     That is why we have to breath only the clear ...\n",
       "81802     I strongly agree with the statement of the go...\n",
       "81803     For example, the government can create the ru...\n",
       "81804     However, flights are seemed to be the most po...\n",
       "81805     Air travel As a fact, air travel... is harmfu...\n",
       "81806     On the other hand,, some opinion is claimed t...\n",
       "81807     People are able to reach a necessary point on...\n",
       "81808     Despite the idea mentioned above, travelling ...\n",
       "81809     There is a bright idea to ban scientists, who...\n",
       "81810     Overall, the problem of air pollution provide...\n",
       "81811    This chart illustrates changes in the number o...\n",
       "81812     In South Asia we can indicate that number of ...\n",
       "81813     This fact also shows that Africa has the same...\n",
       "81814     We can also see that in majority of diagrams ...\n",
       "81815     As conclusion, we can see, that this trend le...\n",
       "81816     Nowadays, air travel is more popular than bus...\n",
       "81817     The development of our society is great and p...\n",
       "81818     Some people think that a lot of air travel is...\n",
       "81819     I do not think that the governments should in...\n",
       "81820     I think that all people can use air travel wh...\n",
       "81821     If all people protect the environment, we wil...\n",
       "81822     Nowadays, people work a lot, they are very busy.\n",
       "81823     All people sometimes use this kind of transpo...\n",
       "81824     In conclusion, it is right that there is a lo...\n",
       "81825     The governments should not introduce laws to ...\n",
       "Name: Corrected, Length: 81826, dtype: object"
      ]
     },
     "execution_count": 38,
     "metadata": {},
     "output_type": "execute_result"
    }
   ],
   "source": [
    "contexts['Corrected']"
   ]
  },
  {
   "cell_type": "code",
   "execution_count": 39,
   "metadata": {},
   "outputs": [
    {
     "data": {
      "text/plain": [
       "' Will Gardner, a founder of a law firm, informed his employee Alicia about this case and demanded that she deal with it.'"
      ]
     },
     "execution_count": 39,
     "metadata": {},
     "output_type": "execute_result"
    }
   ],
   "source": [
    "contexts['Corrected'][0]"
   ]
  }
 ],
 "metadata": {
  "kernelspec": {
   "display_name": "Python 3",
   "language": "python",
   "name": "python3"
  },
  "language_info": {
   "codemirror_mode": {
    "name": "ipython",
    "version": 3
   },
   "file_extension": ".py",
   "mimetype": "text/x-python",
   "name": "python",
   "nbconvert_exporter": "python",
   "pygments_lexer": "ipython3",
   "version": "3.7.3"
  }
 },
 "nbformat": 4,
 "nbformat_minor": 2
}
