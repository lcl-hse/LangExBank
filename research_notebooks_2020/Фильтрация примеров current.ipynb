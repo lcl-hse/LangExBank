{
 "cells": [
  {
   "cell_type": "code",
   "execution_count": 24,
   "metadata": {},
   "outputs": [],
   "source": [
    "import pandas as pd\n",
    "import nltk\n",
    "import spacy\n",
    "\n",
    "from tqdm import tqdm\n",
    "\n",
    "tqdm.pandas()"
   ]
  },
  {
   "cell_type": "code",
   "execution_count": 3,
   "metadata": {},
   "outputs": [],
   "source": [
    "nlp = spacy.load(\"en_core_web_sm\")"
   ]
  },
  {
   "cell_type": "code",
   "execution_count": 4,
   "metadata": {},
   "outputs": [],
   "source": [
    "parse = nlp(\"Don't blink if you don't think.\")"
   ]
  },
  {
   "cell_type": "code",
   "execution_count": 5,
   "metadata": {},
   "outputs": [
    {
     "data": {
      "text/plain": [
       "['VB', 'RB', 'VB', 'IN', 'PRP', 'VBP', 'RB', 'VB', '.']"
      ]
     },
     "execution_count": 5,
     "metadata": {},
     "output_type": "execute_result"
    }
   ],
   "source": [
    "[word.tag_ for word in parse]"
   ]
  },
  {
   "cell_type": "code",
   "execution_count": 28,
   "metadata": {},
   "outputs": [],
   "source": [
    "df = pd.read_excel(\"realec_errors1.xlsx\", sheet_name='контексты', index_col='id')"
   ]
  },
  {
   "cell_type": "code",
   "execution_count": 29,
   "metadata": {},
   "outputs": [],
   "source": [
    "df['Wrong answer'] = df['Sentence'].apply(lambda x: x[x.find('<b>')+3:x.rfind('</b>')])"
   ]
  },
  {
   "cell_type": "code",
   "execution_count": 30,
   "metadata": {},
   "outputs": [
    {
     "data": {
      "text/html": [
       "<div>\n",
       "<style scoped>\n",
       "    .dataframe tbody tr th:only-of-type {\n",
       "        vertical-align: middle;\n",
       "    }\n",
       "\n",
       "    .dataframe tbody tr th {\n",
       "        vertical-align: top;\n",
       "    }\n",
       "\n",
       "    .dataframe thead th {\n",
       "        text-align: right;\n",
       "    }\n",
       "</style>\n",
       "<table border=\"1\" class=\"dataframe\">\n",
       "  <thead>\n",
       "    <tr style=\"text-align: right;\">\n",
       "      <th></th>\n",
       "      <th>Sentence</th>\n",
       "      <th>Right answer</th>\n",
       "      <th>Error type</th>\n",
       "      <th>Wrong answer</th>\n",
       "    </tr>\n",
       "    <tr>\n",
       "      <th>id</th>\n",
       "      <th></th>\n",
       "      <th></th>\n",
       "      <th></th>\n",
       "      <th></th>\n",
       "    </tr>\n",
       "  </thead>\n",
       "  <tbody>\n",
       "    <tr>\n",
       "      <th>0</th>\n",
       "      <td>Will Gardner, a founder of a law firm, inform...</td>\n",
       "      <td>demanded that</td>\n",
       "      <td>that_clause</td>\n",
       "      <td>demanded to</td>\n",
       "    </tr>\n",
       "    <tr>\n",
       "      <th>1</th>\n",
       "      <td>Will Gardner, a founder of a law firm, inform...</td>\n",
       "      <td>she deal</td>\n",
       "      <td>Absence_comp_sent</td>\n",
       "      <td>deal</td>\n",
       "    </tr>\n",
       "    <tr>\n",
       "      <th>2</th>\n",
       "      <td>He &lt;b&gt;noticed&lt;/b&gt; that it was a very sensitiv...</td>\n",
       "      <td>noted</td>\n",
       "      <td>Often_confused</td>\n",
       "      <td>noticed</td>\n",
       "    </tr>\n",
       "    <tr>\n",
       "      <th>3</th>\n",
       "      <td>He noted that it &lt;b&gt;is&lt;/b&gt; a very sensitive i...</td>\n",
       "      <td>was</td>\n",
       "      <td>Tense_choice</td>\n",
       "      <td>is</td>\n",
       "    </tr>\n",
       "    <tr>\n",
       "      <th>4</th>\n",
       "      <td>He noted that it was a very sensitive issue f...</td>\n",
       "      <td>the defendant</td>\n",
       "      <td>Articles</td>\n",
       "      <td>a defendant</td>\n",
       "    </tr>\n",
       "  </tbody>\n",
       "</table>\n",
       "</div>"
      ],
      "text/plain": [
       "                                             Sentence   Right answer  \\\n",
       "id                                                                     \n",
       "0    Will Gardner, a founder of a law firm, inform...  demanded that   \n",
       "1    Will Gardner, a founder of a law firm, inform...       she deal   \n",
       "2    He <b>noticed</b> that it was a very sensitiv...          noted   \n",
       "3    He noted that it <b>is</b> a very sensitive i...            was   \n",
       "4    He noted that it was a very sensitive issue f...  the defendant   \n",
       "\n",
       "           Error type Wrong answer  \n",
       "id                                  \n",
       "0         that_clause  demanded to  \n",
       "1   Absence_comp_sent         deal  \n",
       "2      Often_confused      noticed  \n",
       "3        Tense_choice           is  \n",
       "4            Articles  a defendant  "
      ]
     },
     "execution_count": 30,
     "metadata": {},
     "output_type": "execute_result"
    }
   ],
   "source": [
    "df.head()"
   ]
  },
  {
   "cell_type": "markdown",
   "metadata": {},
   "source": [
    "## Choice of tense:"
   ]
  },
  {
   "cell_type": "code",
   "execution_count": 6,
   "metadata": {},
   "outputs": [],
   "source": [
    "tense_errors = df.loc[df['Error type'] == 'Tense_choice']"
   ]
  },
  {
   "cell_type": "code",
   "execution_count": 7,
   "metadata": {},
   "outputs": [
    {
     "data": {
      "text/html": [
       "<div>\n",
       "<style scoped>\n",
       "    .dataframe tbody tr th:only-of-type {\n",
       "        vertical-align: middle;\n",
       "    }\n",
       "\n",
       "    .dataframe tbody tr th {\n",
       "        vertical-align: top;\n",
       "    }\n",
       "\n",
       "    .dataframe thead th {\n",
       "        text-align: right;\n",
       "    }\n",
       "</style>\n",
       "<table border=\"1\" class=\"dataframe\">\n",
       "  <thead>\n",
       "    <tr style=\"text-align: right;\">\n",
       "      <th></th>\n",
       "      <th>Sentence</th>\n",
       "      <th>Right answer</th>\n",
       "      <th>Error type</th>\n",
       "      <th>Wrong answer</th>\n",
       "    </tr>\n",
       "    <tr>\n",
       "      <th>id</th>\n",
       "      <th></th>\n",
       "      <th></th>\n",
       "      <th></th>\n",
       "      <th></th>\n",
       "    </tr>\n",
       "  </thead>\n",
       "  <tbody>\n",
       "    <tr>\n",
       "      <th>3</th>\n",
       "      <td>He noted that it &lt;b&gt;is&lt;/b&gt; a very sensitive i...</td>\n",
       "      <td>was</td>\n",
       "      <td>Tense_choice</td>\n",
       "      <td>is</td>\n",
       "    </tr>\n",
       "    <tr>\n",
       "      <th>5</th>\n",
       "      <td>He noted that it was a very sensitive issue f...</td>\n",
       "      <td>was</td>\n",
       "      <td>Tense_choice</td>\n",
       "      <td>is</td>\n",
       "    </tr>\n",
       "    <tr>\n",
       "      <th>10</th>\n",
       "      <td>She explained that she &lt;b&gt;had&lt;/b&gt; a Shabbat t...</td>\n",
       "      <td>had had</td>\n",
       "      <td>Tense_choice</td>\n",
       "      <td>had</td>\n",
       "    </tr>\n",
       "    <tr>\n",
       "      <th>12</th>\n",
       "      <td>She explained that she had had a Shabbat the ...</td>\n",
       "      <td>happened</td>\n",
       "      <td>Tense_choice</td>\n",
       "      <td>had happened</td>\n",
       "    </tr>\n",
       "    <tr>\n",
       "      <th>112</th>\n",
       "      <td>The bar chart illustrates amount of children, ...</td>\n",
       "      <td>did</td>\n",
       "      <td>Tense_choice</td>\n",
       "      <td>do</td>\n",
       "    </tr>\n",
       "  </tbody>\n",
       "</table>\n",
       "</div>"
      ],
      "text/plain": [
       "                                              Sentence Right answer  \\\n",
       "id                                                                    \n",
       "3     He noted that it <b>is</b> a very sensitive i...          was   \n",
       "5     He noted that it was a very sensitive issue f...          was   \n",
       "10    She explained that she <b>had</b> a Shabbat t...      had had   \n",
       "12    She explained that she had had a Shabbat the ...     happened   \n",
       "112  The bar chart illustrates amount of children, ...          did   \n",
       "\n",
       "       Error type  Wrong answer  \n",
       "id                               \n",
       "3    Tense_choice            is  \n",
       "5    Tense_choice            is  \n",
       "10   Tense_choice           had  \n",
       "12   Tense_choice  had happened  \n",
       "112  Tense_choice            do  "
      ]
     },
     "execution_count": 7,
     "metadata": {},
     "output_type": "execute_result"
    }
   ],
   "source": [
    "tense_errors.head()"
   ]
  },
  {
   "cell_type": "code",
   "execution_count": 8,
   "metadata": {},
   "outputs": [
    {
     "data": {
      "text/plain": [
       "(9023, 4)"
      ]
     },
     "execution_count": 8,
     "metadata": {},
     "output_type": "execute_result"
    }
   ],
   "source": [
    "tense_errors.shape"
   ]
  },
  {
   "cell_type": "markdown",
   "metadata": {},
   "source": [
    "Оставим в выборке только те примеры, в которых в правильном варианте есть хотя бы один глагол:"
   ]
  },
  {
   "cell_type": "code",
   "execution_count": 11,
   "metadata": {},
   "outputs": [],
   "source": [
    "def contains_pos(string, pos, parser):\n",
    "    if string and type(string) == str:\n",
    "        parse = parser(string)\n",
    "        pos_string = [token.pos_ for token in parse]\n",
    "        return pos in pos_string\n",
    "    return False"
   ]
  },
  {
   "cell_type": "code",
   "execution_count": 12,
   "metadata": {},
   "outputs": [
    {
     "name": "stderr",
     "output_type": "stream",
     "text": [
      "C:\\ProgramData\\Anaconda3\\lib\\site-packages\\ipykernel_launcher.py:1: SettingWithCopyWarning: \n",
      "A value is trying to be set on a copy of a slice from a DataFrame.\n",
      "Try using .loc[row_indexer,col_indexer] = value instead\n",
      "\n",
      "See the caveats in the documentation: http://pandas.pydata.org/pandas-docs/stable/indexing.html#indexing-view-versus-copy\n",
      "  \"\"\"Entry point for launching an IPython kernel.\n"
     ]
    }
   ],
   "source": [
    "tense_errors['Contains verb'] = tense_errors['Right answer'].apply(lambda x: contains_pos(x, 'VERB', nlp))"
   ]
  },
  {
   "cell_type": "code",
   "execution_count": 13,
   "metadata": {},
   "outputs": [],
   "source": [
    "tense_errors = tense_errors.loc[tense_errors['Contains verb'] == True]"
   ]
  },
  {
   "cell_type": "code",
   "execution_count": 14,
   "metadata": {},
   "outputs": [
    {
     "data": {
      "text/plain": [
       "(8632, 5)"
      ]
     },
     "execution_count": 14,
     "metadata": {},
     "output_type": "execute_result"
    }
   ],
   "source": [
    "tense_errors.shape"
   ]
  },
  {
   "cell_type": "code",
   "execution_count": 15,
   "metadata": {},
   "outputs": [],
   "source": [
    "tense_errors.to_excel(\"Tense_choice1.xlsx\")"
   ]
  },
  {
   "cell_type": "markdown",
   "metadata": {},
   "source": [
    "## Form of tense:"
   ]
  },
  {
   "cell_type": "code",
   "execution_count": 16,
   "metadata": {},
   "outputs": [],
   "source": [
    "form_tense_errors = df.loc[df[\"Error type\"] == \"Tense_form\"]"
   ]
  },
  {
   "cell_type": "code",
   "execution_count": 17,
   "metadata": {},
   "outputs": [
    {
     "name": "stderr",
     "output_type": "stream",
     "text": [
      "C:\\ProgramData\\Anaconda3\\lib\\site-packages\\ipykernel_launcher.py:1: SettingWithCopyWarning: \n",
      "A value is trying to be set on a copy of a slice from a DataFrame.\n",
      "Try using .loc[row_indexer,col_indexer] = value instead\n",
      "\n",
      "See the caveats in the documentation: http://pandas.pydata.org/pandas-docs/stable/indexing.html#indexing-view-versus-copy\n",
      "  \"\"\"Entry point for launching an IPython kernel.\n"
     ]
    }
   ],
   "source": [
    "form_tense_errors[\"Contains verb\"] = form_tense_errors[\"Right answer\"].apply(lambda x: contains_pos(x, 'VERB', nlp))"
   ]
  },
  {
   "cell_type": "code",
   "execution_count": 18,
   "metadata": {},
   "outputs": [],
   "source": [
    "form_tense_errors = form_tense_errors.loc[form_tense_errors['Contains verb'] == True]"
   ]
  },
  {
   "cell_type": "code",
   "execution_count": 19,
   "metadata": {},
   "outputs": [
    {
     "data": {
      "text/plain": [
       "(1771, 5)"
      ]
     },
     "execution_count": 19,
     "metadata": {},
     "output_type": "execute_result"
    }
   ],
   "source": [
    "form_tense_errors.shape"
   ]
  },
  {
   "cell_type": "code",
   "execution_count": 20,
   "metadata": {},
   "outputs": [],
   "source": [
    "form_tense_errors.to_excel(\"Tense_form1.xlsx\")"
   ]
  },
  {
   "cell_type": "markdown",
   "metadata": {},
   "source": [
    "## Prepositions:"
   ]
  },
  {
   "cell_type": "code",
   "execution_count": 31,
   "metadata": {},
   "outputs": [],
   "source": [
    "prep_errors = df.loc[df[\"Error type\"] == \"Prepositions\"]"
   ]
  },
  {
   "cell_type": "code",
   "execution_count": 32,
   "metadata": {},
   "outputs": [
    {
     "data": {
      "text/plain": [
       "(8725, 4)"
      ]
     },
     "execution_count": 32,
     "metadata": {},
     "output_type": "execute_result"
    }
   ],
   "source": [
    "prep_errors.shape"
   ]
  },
  {
   "cell_type": "code",
   "execution_count": 34,
   "metadata": {},
   "outputs": [
    {
     "name": "stderr",
     "output_type": "stream",
     "text": [
      "100%|█████████████████████████████████████████████████████████████████████████████| 8725/8725 [00:44<00:00, 197.06it/s]\n",
      "c:\\users\\k1l77\\python_envs\\diploma_env\\lib\\site-packages\\ipykernel_launcher.py:3: SettingWithCopyWarning: \n",
      "A value is trying to be set on a copy of a slice from a DataFrame.\n",
      "Try using .loc[row_indexer,col_indexer] = value instead\n",
      "\n",
      "See the caveats in the documentation: https://pandas.pydata.org/pandas-docs/stable/user_guide/indexing.html#returning-a-view-versus-a-copy\n",
      "  This is separate from the ipykernel package so we can avoid doing imports until\n"
     ]
    }
   ],
   "source": [
    "prep_errors[\"Contains prep\"] = prep_errors.progress_apply(lambda x: contains_pos(x['Right answer'], 'ADP', nlp) or\n",
    "                                                 contains_pos(x['Wrong answer'], 'ADP', nlp),\n",
    "                                                 axis=1)"
   ]
  },
  {
   "cell_type": "code",
   "execution_count": 35,
   "metadata": {},
   "outputs": [],
   "source": [
    "bad_preps = prep_errors.loc[prep_errors[\"Contains prep\"] == False]\n",
    "prep_errors = prep_errors.loc[prep_errors[\"Contains prep\"] == True]"
   ]
  },
  {
   "cell_type": "code",
   "execution_count": 48,
   "metadata": {},
   "outputs": [],
   "source": [
    "def pos_seq(string, parser):\n",
    "    parse = parser(string)\n",
    "    return [token.pos_ for token in parse]"
   ]
  },
  {
   "cell_type": "code",
   "execution_count": 57,
   "metadata": {},
   "outputs": [
    {
     "data": {
      "text/plain": [
       "['SCONJ']"
      ]
     },
     "execution_count": 57,
     "metadata": {},
     "output_type": "execute_result"
    }
   ],
   "source": [
    "pos_seq(\"if\", nlp)"
   ]
  },
  {
   "cell_type": "code",
   "execution_count": 49,
   "metadata": {},
   "outputs": [],
   "source": [
    "parse = nlp(\"You decided to cut the tree\")"
   ]
  },
  {
   "cell_type": "code",
   "execution_count": 55,
   "metadata": {},
   "outputs": [
    {
     "data": {
      "text/plain": [
       "['VerbForm_fin']"
      ]
     },
     "execution_count": 55,
     "metadata": {},
     "output_type": "execute_result"
    }
   ],
   "source": [
    "parse[1].morph.to_json()"
   ]
  },
  {
   "cell_type": "code",
   "execution_count": 36,
   "metadata": {},
   "outputs": [],
   "source": [
    "bad_preps.to_excel(\"Bad prepositions.xlsx\")"
   ]
  },
  {
   "cell_type": "code",
   "execution_count": 25,
   "metadata": {},
   "outputs": [
    {
     "data": {
      "text/plain": [
       "(8585, 5)"
      ]
     },
     "execution_count": 25,
     "metadata": {},
     "output_type": "execute_result"
    }
   ],
   "source": [
    "prep_errors.shape"
   ]
  },
  {
   "cell_type": "code",
   "execution_count": 26,
   "metadata": {},
   "outputs": [
    {
     "data": {
      "text/html": [
       "<div>\n",
       "<style scoped>\n",
       "    .dataframe tbody tr th:only-of-type {\n",
       "        vertical-align: middle;\n",
       "    }\n",
       "\n",
       "    .dataframe tbody tr th {\n",
       "        vertical-align: top;\n",
       "    }\n",
       "\n",
       "    .dataframe thead th {\n",
       "        text-align: right;\n",
       "    }\n",
       "</style>\n",
       "<table border=\"1\" class=\"dataframe\">\n",
       "  <thead>\n",
       "    <tr style=\"text-align: right;\">\n",
       "      <th></th>\n",
       "      <th>Sentence</th>\n",
       "      <th>Right answer</th>\n",
       "      <th>Error type</th>\n",
       "      <th>Wrong answer</th>\n",
       "      <th>Contains prep</th>\n",
       "    </tr>\n",
       "    <tr>\n",
       "      <th>id</th>\n",
       "      <th></th>\n",
       "      <th></th>\n",
       "      <th></th>\n",
       "      <th></th>\n",
       "      <th></th>\n",
       "    </tr>\n",
       "  </thead>\n",
       "  <tbody>\n",
       "    <tr>\n",
       "      <th>34</th>\n",
       "      <td>Considerable social and financial resources a...</td>\n",
       "      <td>to</td>\n",
       "      <td>Prepositions</td>\n",
       "      <td>on</td>\n",
       "      <td>True</td>\n",
       "    </tr>\n",
       "    <tr>\n",
       "      <th>56</th>\n",
       "      <td>5) No sooner had Alex knocked &lt;b&gt;the door&lt;/b&gt;...</td>\n",
       "      <td>at the door</td>\n",
       "      <td>Prepositions</td>\n",
       "      <td>the door</td>\n",
       "      <td>True</td>\n",
       "    </tr>\n",
       "    <tr>\n",
       "      <th>63</th>\n",
       "      <td>For example, Russian company “Aeroflot” under...</td>\n",
       "      <td>per</td>\n",
       "      <td>Prepositions</td>\n",
       "      <td>in</td>\n",
       "      <td>True</td>\n",
       "    </tr>\n",
       "    <tr>\n",
       "      <th>65</th>\n",
       "      <td>There is the map of current flights &lt;b&gt;on&lt;/b&gt;...</td>\n",
       "      <td>in</td>\n",
       "      <td>Prepositions</td>\n",
       "      <td>on</td>\n",
       "      <td>True</td>\n",
       "    </tr>\n",
       "    <tr>\n",
       "      <th>81</th>\n",
       "      <td>The given bar chart compares data &lt;b&gt;on&lt;/b&gt; ac...</td>\n",
       "      <td>about</td>\n",
       "      <td>Prepositions</td>\n",
       "      <td>on</td>\n",
       "      <td>True</td>\n",
       "    </tr>\n",
       "    <tr>\n",
       "      <th>110</th>\n",
       "      <td>Overall, there is a downward trend in numbers...</td>\n",
       "      <td>access to primary education</td>\n",
       "      <td>Prepositions</td>\n",
       "      <td>access primary education</td>\n",
       "      <td>True</td>\n",
       "    </tr>\n",
       "    <tr>\n",
       "      <th>120</th>\n",
       "      <td>This difference estimates 10 million in compa...</td>\n",
       "      <td>with</td>\n",
       "      <td>Prepositions</td>\n",
       "      <td>of</td>\n",
       "      <td>True</td>\n",
       "    </tr>\n",
       "    <tr>\n",
       "      <th>124</th>\n",
       "      <td>It is a fact that budget airlines companies s...</td>\n",
       "      <td>with</td>\n",
       "      <td>Prepositions</td>\n",
       "      <td>from</td>\n",
       "      <td>True</td>\n",
       "    </tr>\n",
       "    <tr>\n",
       "      <th>126</th>\n",
       "      <td>It is underiable that travelling activities b...</td>\n",
       "      <td>to</td>\n",
       "      <td>Prepositions</td>\n",
       "      <td>for</td>\n",
       "      <td>True</td>\n",
       "    </tr>\n",
       "    <tr>\n",
       "      <th>151</th>\n",
       "      <td>In Africa from 2000 &lt;b&gt;till&lt;/b&gt; 2012 there wa...</td>\n",
       "      <td>to</td>\n",
       "      <td>Prepositions</td>\n",
       "      <td>till</td>\n",
       "      <td>True</td>\n",
       "    </tr>\n",
       "    <tr>\n",
       "      <th>176</th>\n",
       "      <td>Which one of us did not travel &lt;b&gt;with&lt;/b&gt; an ...</td>\n",
       "      <td>by</td>\n",
       "      <td>Prepositions</td>\n",
       "      <td>with</td>\n",
       "      <td>True</td>\n",
       "    </tr>\n",
       "    <tr>\n",
       "      <th>177</th>\n",
       "      <td>There are not many people who will answer “Ye...</td>\n",
       "      <td>to</td>\n",
       "      <td>Prepositions</td>\n",
       "      <td>on</td>\n",
       "      <td>True</td>\n",
       "    </tr>\n",
       "    <tr>\n",
       "      <th>183</th>\n",
       "      <td>The bar chart shows several fluctuations in th...</td>\n",
       "      <td>in</td>\n",
       "      <td>Prepositions</td>\n",
       "      <td>through</td>\n",
       "      <td>True</td>\n",
       "    </tr>\n",
       "    <tr>\n",
       "      <th>202</th>\n",
       "      <td>The purposes &lt;b&gt;for&lt;/b&gt; air travelling may be...</td>\n",
       "      <td>of</td>\n",
       "      <td>Prepositions</td>\n",
       "      <td>for</td>\n",
       "      <td>True</td>\n",
       "    </tr>\n",
       "    <tr>\n",
       "      <th>219</th>\n",
       "      <td>Referring to the number of children in Africa...</td>\n",
       "      <td>of</td>\n",
       "      <td>Prepositions</td>\n",
       "      <td>in</td>\n",
       "      <td>True</td>\n",
       "    </tr>\n",
       "    <tr>\n",
       "      <th>228</th>\n",
       "      <td>And the last region, which had the third plac...</td>\n",
       "      <td>of</td>\n",
       "      <td>Prepositions</td>\n",
       "      <td>by</td>\n",
       "      <td>True</td>\n",
       "    </tr>\n",
       "    <tr>\n",
       "      <th>229</th>\n",
       "      <td>And the last region, which had the third plac...</td>\n",
       "      <td>of</td>\n",
       "      <td>Prepositions</td>\n",
       "      <td>by</td>\n",
       "      <td>True</td>\n",
       "    </tr>\n",
       "    <tr>\n",
       "      <th>242</th>\n",
       "      <td>A second major reason is to choose another op...</td>\n",
       "      <td>of</td>\n",
       "      <td>Prepositions</td>\n",
       "      <td>with</td>\n",
       "      <td>True</td>\n",
       "    </tr>\n",
       "    <tr>\n",
       "      <th>245</th>\n",
       "      <td>To conclude, I believe that there are some ot...</td>\n",
       "      <td>of</td>\n",
       "      <td>Prepositions</td>\n",
       "      <td>from</td>\n",
       "      <td>True</td>\n",
       "    </tr>\n",
       "    <tr>\n",
       "      <th>246</th>\n",
       "      <td>The given bar charts represents the changes in...</td>\n",
       "      <td>from</td>\n",
       "      <td>Prepositions</td>\n",
       "      <td>since</td>\n",
       "      <td>True</td>\n",
       "    </tr>\n",
       "    <tr>\n",
       "      <th>247</th>\n",
       "      <td>The given bar charts represents the changes in...</td>\n",
       "      <td>to</td>\n",
       "      <td>Prepositions</td>\n",
       "      <td>till</td>\n",
       "      <td>True</td>\n",
       "    </tr>\n",
       "    <tr>\n",
       "      <th>261</th>\n",
       "      <td>Anyway, the humanity now develops &lt;b&gt;with&lt;/b&gt;...</td>\n",
       "      <td>at</td>\n",
       "      <td>Prepositions</td>\n",
       "      <td>with</td>\n",
       "      <td>True</td>\n",
       "    </tr>\n",
       "    <tr>\n",
       "      <th>262</th>\n",
       "      <td>Also, we can see a good alternative way to &lt;b...</td>\n",
       "      <td>solve it by</td>\n",
       "      <td>Prepositions</td>\n",
       "      <td>solve it</td>\n",
       "      <td>True</td>\n",
       "    </tr>\n",
       "    <tr>\n",
       "      <th>263</th>\n",
       "      <td>Also, we can see a good alternative way to so...</td>\n",
       "      <td>in</td>\n",
       "      <td>Prepositions</td>\n",
       "      <td>into</td>\n",
       "      <td>True</td>\n",
       "    </tr>\n",
       "    <tr>\n",
       "      <th>279</th>\n",
       "      <td>concerning Rest of World we should admit that...</td>\n",
       "      <td>by</td>\n",
       "      <td>Prepositions</td>\n",
       "      <td>on</td>\n",
       "      <td>True</td>\n",
       "    </tr>\n",
       "    <tr>\n",
       "      <th>285</th>\n",
       "      <td>Nevertheless, other people think that air tra...</td>\n",
       "      <td>for</td>\n",
       "      <td>Prepositions</td>\n",
       "      <td>of</td>\n",
       "      <td>True</td>\n",
       "    </tr>\n",
       "    <tr>\n",
       "      <th>288</th>\n",
       "      <td>Another important factor is that it is very p...</td>\n",
       "      <td>for</td>\n",
       "      <td>Prepositions</td>\n",
       "      <td>of</td>\n",
       "      <td>True</td>\n",
       "    </tr>\n",
       "    <tr>\n",
       "      <th>305</th>\n",
       "      <td>One of them is an airplane, which we can find...</td>\n",
       "      <td>for</td>\n",
       "      <td>Prepositions</td>\n",
       "      <td>of</td>\n",
       "      <td>True</td>\n",
       "    </tr>\n",
       "    <tr>\n",
       "      <th>308</th>\n",
       "      <td>For example, &lt;b&gt;trips to not long distance&lt;/b...</td>\n",
       "      <td>not long distance trips</td>\n",
       "      <td>Prepositions</td>\n",
       "      <td>trips to not long distance</td>\n",
       "      <td>True</td>\n",
       "    </tr>\n",
       "    <tr>\n",
       "      <th>313</th>\n",
       "      <td>&lt;b&gt;In&lt;/b&gt; my point of view, the best way to s...</td>\n",
       "      <td>from</td>\n",
       "      <td>Prepositions</td>\n",
       "      <td>In</td>\n",
       "      <td>True</td>\n",
       "    </tr>\n",
       "    <tr>\n",
       "      <th>...</th>\n",
       "      <td>...</td>\n",
       "      <td>...</td>\n",
       "      <td>...</td>\n",
       "      <td>...</td>\n",
       "      <td>...</td>\n",
       "    </tr>\n",
       "    <tr>\n",
       "      <th>174252</th>\n",
       "      <td>For example, a lot of painters used caricatur...</td>\n",
       "      <td>to</td>\n",
       "      <td>Prepositions</td>\n",
       "      <td>for</td>\n",
       "      <td>True</td>\n",
       "    </tr>\n",
       "    <tr>\n",
       "      <th>174308</th>\n",
       "      <td>Males got skilled vocational diploma more tha...</td>\n",
       "      <td>for</td>\n",
       "      <td>Prepositions</td>\n",
       "      <td>by</td>\n",
       "      <td>True</td>\n",
       "    </tr>\n",
       "    <tr>\n",
       "      <th>174309</th>\n",
       "      <td>&lt;b&gt;By&lt;/b&gt; the females the same qualification ...</td>\n",
       "      <td>For</td>\n",
       "      <td>Prepositions</td>\n",
       "      <td>By</td>\n",
       "      <td>True</td>\n",
       "    </tr>\n",
       "    <tr>\n",
       "      <th>174311</th>\n",
       "      <td>The different situation was &lt;b&gt;on&lt;/b&gt; the qua...</td>\n",
       "      <td>in</td>\n",
       "      <td>Prepositions</td>\n",
       "      <td>on</td>\n",
       "      <td>True</td>\n",
       "    </tr>\n",
       "    <tr>\n",
       "      <th>174313</th>\n",
       "      <td>In qualification &lt;b&gt;of&lt;/b&gt; undergraduate dipl...</td>\n",
       "      <td>for</td>\n",
       "      <td>Prepositions</td>\n",
       "      <td>of</td>\n",
       "      <td>True</td>\n",
       "    </tr>\n",
       "    <tr>\n",
       "      <th>174315</th>\n",
       "      <td>In qualification for undergraduate diploma it...</td>\n",
       "      <td>for</td>\n",
       "      <td>Prepositions</td>\n",
       "      <td>by</td>\n",
       "      <td>True</td>\n",
       "    </tr>\n",
       "    <tr>\n",
       "      <th>174316</th>\n",
       "      <td>What is more interesting, the difference betw...</td>\n",
       "      <td>for</td>\n",
       "      <td>Prepositions</td>\n",
       "      <td>of</td>\n",
       "      <td>True</td>\n",
       "    </tr>\n",
       "    <tr>\n",
       "      <th>174327</th>\n",
       "      <td>This show was made to let the Russian people ...</td>\n",
       "      <td>to</td>\n",
       "      <td>Prepositions</td>\n",
       "      <td>of</td>\n",
       "      <td>True</td>\n",
       "    </tr>\n",
       "    <tr>\n",
       "      <th>174344</th>\n",
       "      <td>The second most unpopular qualification for w...</td>\n",
       "      <td>among</td>\n",
       "      <td>Prepositions</td>\n",
       "      <td>between</td>\n",
       "      <td>True</td>\n",
       "    </tr>\n",
       "    <tr>\n",
       "      <th>174345</th>\n",
       "      <td>The most unpopular qualification &lt;b&gt;between&lt;/...</td>\n",
       "      <td>among</td>\n",
       "      <td>Prepositions</td>\n",
       "      <td>between</td>\n",
       "      <td>True</td>\n",
       "    </tr>\n",
       "    <tr>\n",
       "      <th>174465</th>\n",
       "      <td>Air travel is the most safe and convenient kin...</td>\n",
       "      <td>of travel</td>\n",
       "      <td>Prepositions</td>\n",
       "      <td>to travel</td>\n",
       "      <td>True</td>\n",
       "    </tr>\n",
       "    <tr>\n",
       "      <th>174471</th>\n",
       "      <td>In a few hours a person can appear &lt;b&gt;in&lt;/b&gt; ...</td>\n",
       "      <td>on</td>\n",
       "      <td>Prepositions</td>\n",
       "      <td>in</td>\n",
       "      <td>True</td>\n",
       "    </tr>\n",
       "    <tr>\n",
       "      <th>174489</th>\n",
       "      <td>According to the statistics, &lt;b&gt;last&lt;/b&gt; few ...</td>\n",
       "      <td>in last</td>\n",
       "      <td>Prepositions</td>\n",
       "      <td>last</td>\n",
       "      <td>True</td>\n",
       "    </tr>\n",
       "    <tr>\n",
       "      <th>174555</th>\n",
       "      <td>Firstly, a beautiful woman came &lt;b&gt;to&lt;/b&gt; sta...</td>\n",
       "      <td>on</td>\n",
       "      <td>Prepositions</td>\n",
       "      <td>to</td>\n",
       "      <td>True</td>\n",
       "    </tr>\n",
       "    <tr>\n",
       "      <th>174563</th>\n",
       "      <td>By the way, Cameron was absolutely right &lt;b&gt;i...</td>\n",
       "      <td>at</td>\n",
       "      <td>Prepositions</td>\n",
       "      <td>in</td>\n",
       "      <td>True</td>\n",
       "    </tr>\n",
       "    <tr>\n",
       "      <th>174573</th>\n",
       "      <td>Over the last few years the problem of air pol...</td>\n",
       "      <td>on</td>\n",
       "      <td>Prepositions</td>\n",
       "      <td>in</td>\n",
       "      <td>True</td>\n",
       "    </tr>\n",
       "    <tr>\n",
       "      <th>174574</th>\n",
       "      <td>I agree &lt;b&gt;with&lt;/b&gt; some extent with the posi...</td>\n",
       "      <td>to</td>\n",
       "      <td>Prepositions</td>\n",
       "      <td>with</td>\n",
       "      <td>True</td>\n",
       "    </tr>\n",
       "    <tr>\n",
       "      <th>174599</th>\n",
       "      <td>Only two regions are presented &lt;b&gt;on&lt;/b&gt; the ...</td>\n",
       "      <td>in</td>\n",
       "      <td>Prepositions</td>\n",
       "      <td>on</td>\n",
       "      <td>True</td>\n",
       "    </tr>\n",
       "    <tr>\n",
       "      <th>174607</th>\n",
       "      <td>Such big countries like United States, Russia...</td>\n",
       "      <td>by the planes</td>\n",
       "      <td>Prepositions</td>\n",
       "      <td>the planes</td>\n",
       "      <td>True</td>\n",
       "    </tr>\n",
       "    <tr>\n",
       "      <th>174617</th>\n",
       "      <td>Anyway, the number of children without primar...</td>\n",
       "      <td>in</td>\n",
       "      <td>Prepositions</td>\n",
       "      <td>at</td>\n",
       "      <td>True</td>\n",
       "    </tr>\n",
       "    <tr>\n",
       "      <th>174833</th>\n",
       "      <td>So, in 2012 this number changed and it is les...</td>\n",
       "      <td>in the rest of the world</td>\n",
       "      <td>Prepositions</td>\n",
       "      <td>rest of world</td>\n",
       "      <td>True</td>\n",
       "    </tr>\n",
       "    <tr>\n",
       "      <th>174845</th>\n",
       "      <td>In the rest of the world the situation in 200...</td>\n",
       "      <td>in total</td>\n",
       "      <td>Prepositions</td>\n",
       "      <td>total</td>\n",
       "      <td>True</td>\n",
       "    </tr>\n",
       "    <tr>\n",
       "      <th>174866</th>\n",
       "      <td>The diagram demonstrates the amount of young c...</td>\n",
       "      <td>on</td>\n",
       "      <td>Prepositions</td>\n",
       "      <td>of</td>\n",
       "      <td>True</td>\n",
       "    </tr>\n",
       "    <tr>\n",
       "      <th>174914</th>\n",
       "      <td>People have business deals with partners &lt;b&gt;a...</td>\n",
       "      <td>from all over the world</td>\n",
       "      <td>Prepositions</td>\n",
       "      <td>all over the world</td>\n",
       "      <td>True</td>\n",
       "    </tr>\n",
       "    <tr>\n",
       "      <th>174961</th>\n",
       "      <td>To conclude, it can be seen that the amount o...</td>\n",
       "      <td>by</td>\n",
       "      <td>Prepositions</td>\n",
       "      <td>in</td>\n",
       "      <td>True</td>\n",
       "    </tr>\n",
       "    <tr>\n",
       "      <th>174970</th>\n",
       "      <td>Undoubtedly,, the air is very important and s...</td>\n",
       "      <td>for</td>\n",
       "      <td>Prepositions</td>\n",
       "      <td>to</td>\n",
       "      <td>True</td>\n",
       "    </tr>\n",
       "    <tr>\n",
       "      <th>174981</th>\n",
       "      <td>&lt;b&gt;At the other hand&lt;/b&gt;, some opinion is cla...</td>\n",
       "      <td>On the other hand,</td>\n",
       "      <td>Prepositions</td>\n",
       "      <td>At the other hand</td>\n",
       "      <td>True</td>\n",
       "    </tr>\n",
       "    <tr>\n",
       "      <th>174987</th>\n",
       "      <td>There is a bright idea to ban scientists, who...</td>\n",
       "      <td>to</td>\n",
       "      <td>Prepositions</td>\n",
       "      <td>at</td>\n",
       "      <td>True</td>\n",
       "    </tr>\n",
       "    <tr>\n",
       "      <th>174989</th>\n",
       "      <td>Overall, the problem of air pollution provide...</td>\n",
       "      <td>into</td>\n",
       "      <td>Prepositions</td>\n",
       "      <td>in</td>\n",
       "      <td>True</td>\n",
       "    </tr>\n",
       "    <tr>\n",
       "      <th>175000</th>\n",
       "      <td>As conclusion, we can see, that this trend le...</td>\n",
       "      <td>in</td>\n",
       "      <td>Prepositions</td>\n",
       "      <td>at</td>\n",
       "      <td>True</td>\n",
       "    </tr>\n",
       "  </tbody>\n",
       "</table>\n",
       "<p>8585 rows × 5 columns</p>\n",
       "</div>"
      ],
      "text/plain": [
       "                                                 Sentence  \\\n",
       "id                                                          \n",
       "34       Considerable social and financial resources a...   \n",
       "56       5) No sooner had Alex knocked <b>the door</b>...   \n",
       "63       For example, Russian company “Aeroflot” under...   \n",
       "65       There is the map of current flights <b>on</b>...   \n",
       "81      The given bar chart compares data <b>on</b> ac...   \n",
       "110      Overall, there is a downward trend in numbers...   \n",
       "120      This difference estimates 10 million in compa...   \n",
       "124      It is a fact that budget airlines companies s...   \n",
       "126      It is underiable that travelling activities b...   \n",
       "151      In Africa from 2000 <b>till</b> 2012 there wa...   \n",
       "176     Which one of us did not travel <b>with</b> an ...   \n",
       "177      There are not many people who will answer “Ye...   \n",
       "183     The bar chart shows several fluctuations in th...   \n",
       "202      The purposes <b>for</b> air travelling may be...   \n",
       "219      Referring to the number of children in Africa...   \n",
       "228      And the last region, which had the third plac...   \n",
       "229      And the last region, which had the third plac...   \n",
       "242      A second major reason is to choose another op...   \n",
       "245      To conclude, I believe that there are some ot...   \n",
       "246     The given bar charts represents the changes in...   \n",
       "247     The given bar charts represents the changes in...   \n",
       "261      Anyway, the humanity now develops <b>with</b>...   \n",
       "262      Also, we can see a good alternative way to <b...   \n",
       "263      Also, we can see a good alternative way to so...   \n",
       "279      concerning Rest of World we should admit that...   \n",
       "285      Nevertheless, other people think that air tra...   \n",
       "288      Another important factor is that it is very p...   \n",
       "305      One of them is an airplane, which we can find...   \n",
       "308      For example, <b>trips to not long distance</b...   \n",
       "313      <b>In</b> my point of view, the best way to s...   \n",
       "...                                                   ...   \n",
       "174252   For example, a lot of painters used caricatur...   \n",
       "174308   Males got skilled vocational diploma more tha...   \n",
       "174309   <b>By</b> the females the same qualification ...   \n",
       "174311   The different situation was <b>on</b> the qua...   \n",
       "174313   In qualification <b>of</b> undergraduate dipl...   \n",
       "174315   In qualification for undergraduate diploma it...   \n",
       "174316   What is more interesting, the difference betw...   \n",
       "174327   This show was made to let the Russian people ...   \n",
       "174344   The second most unpopular qualification for w...   \n",
       "174345   The most unpopular qualification <b>between</...   \n",
       "174465  Air travel is the most safe and convenient kin...   \n",
       "174471   In a few hours a person can appear <b>in</b> ...   \n",
       "174489   According to the statistics, <b>last</b> few ...   \n",
       "174555   Firstly, a beautiful woman came <b>to</b> sta...   \n",
       "174563   By the way, Cameron was absolutely right <b>i...   \n",
       "174573  Over the last few years the problem of air pol...   \n",
       "174574   I agree <b>with</b> some extent with the posi...   \n",
       "174599   Only two regions are presented <b>on</b> the ...   \n",
       "174607   Such big countries like United States, Russia...   \n",
       "174617   Anyway, the number of children without primar...   \n",
       "174833   So, in 2012 this number changed and it is les...   \n",
       "174845   In the rest of the world the situation in 200...   \n",
       "174866  The diagram demonstrates the amount of young c...   \n",
       "174914   People have business deals with partners <b>a...   \n",
       "174961   To conclude, it can be seen that the amount o...   \n",
       "174970   Undoubtedly,, the air is very important and s...   \n",
       "174981   <b>At the other hand</b>, some opinion is cla...   \n",
       "174987   There is a bright idea to ban scientists, who...   \n",
       "174989   Overall, the problem of air pollution provide...   \n",
       "175000   As conclusion, we can see, that this trend le...   \n",
       "\n",
       "                       Right answer    Error type                Wrong answer  \\\n",
       "id                                                                              \n",
       "34                               to  Prepositions                          on   \n",
       "56                      at the door  Prepositions                    the door   \n",
       "63                              per  Prepositions                          in   \n",
       "65                               in  Prepositions                          on   \n",
       "81                            about  Prepositions                          on   \n",
       "110     access to primary education  Prepositions    access primary education   \n",
       "120                            with  Prepositions                          of   \n",
       "124                            with  Prepositions                        from   \n",
       "126                              to  Prepositions                         for   \n",
       "151                              to  Prepositions                        till   \n",
       "176                              by  Prepositions                        with   \n",
       "177                              to  Prepositions                          on   \n",
       "183                              in  Prepositions                     through   \n",
       "202                              of  Prepositions                         for   \n",
       "219                              of  Prepositions                          in   \n",
       "228                              of  Prepositions                          by   \n",
       "229                              of  Prepositions                          by   \n",
       "242                              of  Prepositions                        with   \n",
       "245                              of  Prepositions                        from   \n",
       "246                            from  Prepositions                       since   \n",
       "247                              to  Prepositions                        till   \n",
       "261                              at  Prepositions                        with   \n",
       "262                     solve it by  Prepositions                    solve it   \n",
       "263                              in  Prepositions                        into   \n",
       "279                              by  Prepositions                          on   \n",
       "285                             for  Prepositions                          of   \n",
       "288                             for  Prepositions                          of   \n",
       "305                             for  Prepositions                          of   \n",
       "308         not long distance trips  Prepositions  trips to not long distance   \n",
       "313                            from  Prepositions                          In   \n",
       "...                             ...           ...                         ...   \n",
       "174252                           to  Prepositions                         for   \n",
       "174308                          for  Prepositions                          by   \n",
       "174309                          For  Prepositions                          By   \n",
       "174311                           in  Prepositions                          on   \n",
       "174313                          for  Prepositions                          of   \n",
       "174315                          for  Prepositions                          by   \n",
       "174316                          for  Prepositions                          of   \n",
       "174327                           to  Prepositions                          of   \n",
       "174344                        among  Prepositions                     between   \n",
       "174345                        among  Prepositions                     between   \n",
       "174465                    of travel  Prepositions                   to travel   \n",
       "174471                           on  Prepositions                          in   \n",
       "174489                      in last  Prepositions                        last   \n",
       "174555                           on  Prepositions                          to   \n",
       "174563                           at  Prepositions                          in   \n",
       "174573                           on  Prepositions                          in   \n",
       "174574                           to  Prepositions                        with   \n",
       "174599                           in  Prepositions                          on   \n",
       "174607                by the planes  Prepositions                  the planes   \n",
       "174617                           in  Prepositions                          at   \n",
       "174833     in the rest of the world  Prepositions               rest of world   \n",
       "174845                     in total  Prepositions                       total   \n",
       "174866                           on  Prepositions                          of   \n",
       "174914      from all over the world  Prepositions          all over the world   \n",
       "174961                           by  Prepositions                          in   \n",
       "174970                          for  Prepositions                          to   \n",
       "174981           On the other hand,  Prepositions           At the other hand   \n",
       "174987                           to  Prepositions                          at   \n",
       "174989                         into  Prepositions                          in   \n",
       "175000                           in  Prepositions                          at   \n",
       "\n",
       "        Contains prep  \n",
       "id                     \n",
       "34               True  \n",
       "56               True  \n",
       "63               True  \n",
       "65               True  \n",
       "81               True  \n",
       "110              True  \n",
       "120              True  \n",
       "124              True  \n",
       "126              True  \n",
       "151              True  \n",
       "176              True  \n",
       "177              True  \n",
       "183              True  \n",
       "202              True  \n",
       "219              True  \n",
       "228              True  \n",
       "229              True  \n",
       "242              True  \n",
       "245              True  \n",
       "246              True  \n",
       "247              True  \n",
       "261              True  \n",
       "262              True  \n",
       "263              True  \n",
       "279              True  \n",
       "285              True  \n",
       "288              True  \n",
       "305              True  \n",
       "308              True  \n",
       "313              True  \n",
       "...               ...  \n",
       "174252           True  \n",
       "174308           True  \n",
       "174309           True  \n",
       "174311           True  \n",
       "174313           True  \n",
       "174315           True  \n",
       "174316           True  \n",
       "174327           True  \n",
       "174344           True  \n",
       "174345           True  \n",
       "174465           True  \n",
       "174471           True  \n",
       "174489           True  \n",
       "174555           True  \n",
       "174563           True  \n",
       "174573           True  \n",
       "174574           True  \n",
       "174599           True  \n",
       "174607           True  \n",
       "174617           True  \n",
       "174833           True  \n",
       "174845           True  \n",
       "174866           True  \n",
       "174914           True  \n",
       "174961           True  \n",
       "174970           True  \n",
       "174981           True  \n",
       "174987           True  \n",
       "174989           True  \n",
       "175000           True  \n",
       "\n",
       "[8585 rows x 5 columns]"
      ]
     },
     "execution_count": 26,
     "metadata": {},
     "output_type": "execute_result"
    }
   ],
   "source": [
    "prep_errors"
   ]
  },
  {
   "cell_type": "code",
   "execution_count": 27,
   "metadata": {},
   "outputs": [],
   "source": [
    "prep_errors.to_excel(\"Prepositions1.xlsx\")"
   ]
  },
  {
   "cell_type": "markdown",
   "metadata": {},
   "source": [
    "## Prepositional noun:"
   ]
  },
  {
   "cell_type": "markdown",
   "metadata": {},
   "source": [
    "Мы используем модель SpaCy en_core_web_sm, которая основывается на <a href=\"https://github.com/clir/clearnlp-guidelines/blob/master/md/specifications/dependency_labels.md\">списке зависимостей ClearNLP</a>. В отличие от Universal Dependencies, где предлог не может иметь детей, CLEAR считает предлог вершиной предложной фразы."
   ]
  },
  {
   "cell_type": "markdown",
   "metadata": {},
   "source": [
    "Нужно, чтобы было существительное, у которого есть зависимое-предлог"
   ]
  },
  {
   "cell_type": "code",
   "execution_count": 28,
   "metadata": {},
   "outputs": [],
   "source": [
    "def is_prepositional_noun(string, parser):\n",
    "    if string and type(string)==str:\n",
    "        parse = parser(string)\n",
    "        for nphrase in parse.noun_chunks:\n",
    "            children_pos = [child.pos_ for child in nphrase.root.children]\n",
    "            if 'ADP' in children_pos:\n",
    "                return True\n",
    "    return False"
   ]
  },
  {
   "cell_type": "code",
   "execution_count": 29,
   "metadata": {},
   "outputs": [
    {
     "data": {
      "text/plain": [
       "True"
      ]
     },
     "execution_count": 29,
     "metadata": {},
     "output_type": "execute_result"
    }
   ],
   "source": [
    "is_prepositional_noun(\"This is my favourite way of travelling\", nlp)"
   ]
  },
  {
   "cell_type": "code",
   "execution_count": 30,
   "metadata": {},
   "outputs": [],
   "source": [
    "parse = nlp(\"This is my favourite way of travelling\")"
   ]
  },
  {
   "cell_type": "code",
   "execution_count": 31,
   "metadata": {},
   "outputs": [
    {
     "name": "stdout",
     "output_type": "stream",
     "text": [
      "0 This DET nsubj 1\n",
      "1 is VERB ROOT 1\n",
      "2 my DET poss 4\n",
      "3 favourite ADJ amod 4\n",
      "4 way NOUN attr 1\n",
      "5 of ADP prep 4\n",
      "6 travelling VERB pcomp 5\n"
     ]
    }
   ],
   "source": [
    "for token in parse:\n",
    "    print(token.i, token.text, token.pos_, token.dep_, token.head.i)"
   ]
  },
  {
   "cell_type": "code",
   "execution_count": 32,
   "metadata": {},
   "outputs": [],
   "source": [
    "parse = nlp(\"This is my favourite way of travelling\")"
   ]
  },
  {
   "cell_type": "code",
   "execution_count": 33,
   "metadata": {},
   "outputs": [
    {
     "data": {
      "text/plain": [
       "False"
      ]
     },
     "execution_count": 33,
     "metadata": {},
     "output_type": "execute_result"
    }
   ],
   "source": [
    "is_prepositional_noun(\"This is my favourite fruit\", nlp)"
   ]
  },
  {
   "cell_type": "code",
   "execution_count": 34,
   "metadata": {},
   "outputs": [],
   "source": [
    "prep_noun_errors = df.loc[df[\"Error type\"] == \"Prepositional_noun\"]"
   ]
  },
  {
   "cell_type": "code",
   "execution_count": 35,
   "metadata": {},
   "outputs": [
    {
     "data": {
      "text/plain": [
       "(502, 4)"
      ]
     },
     "execution_count": 35,
     "metadata": {},
     "output_type": "execute_result"
    }
   ],
   "source": [
    "prep_noun_errors.shape"
   ]
  },
  {
   "cell_type": "code",
   "execution_count": 36,
   "metadata": {},
   "outputs": [
    {
     "name": "stderr",
     "output_type": "stream",
     "text": [
      "C:\\ProgramData\\Anaconda3\\lib\\site-packages\\ipykernel_launcher.py:3: SettingWithCopyWarning: \n",
      "A value is trying to be set on a copy of a slice from a DataFrame.\n",
      "Try using .loc[row_indexer,col_indexer] = value instead\n",
      "\n",
      "See the caveats in the documentation: http://pandas.pydata.org/pandas-docs/stable/indexing.html#indexing-view-versus-copy\n",
      "  This is separate from the ipykernel package so we can avoid doing imports until\n"
     ]
    }
   ],
   "source": [
    "prep_noun_errors[\"Is prepositional noun\"] = prep_noun_errors.apply(lambda x: is_prepositional_noun(x['Right answer'],nlp) or\n",
    "                                                                  is_prepositional_noun(x['Wrong answer'],nlp),\n",
    "                                                                  axis=1)"
   ]
  },
  {
   "cell_type": "code",
   "execution_count": 37,
   "metadata": {},
   "outputs": [],
   "source": [
    "prep_noun_errors = prep_noun_errors.loc[prep_noun_errors[\"Is prepositional noun\"] == True]"
   ]
  },
  {
   "cell_type": "code",
   "execution_count": 38,
   "metadata": {},
   "outputs": [
    {
     "data": {
      "text/plain": [
       "(421, 5)"
      ]
     },
     "execution_count": 38,
     "metadata": {},
     "output_type": "execute_result"
    }
   ],
   "source": [
    "prep_noun_errors.shape"
   ]
  },
  {
   "cell_type": "code",
   "execution_count": 39,
   "metadata": {},
   "outputs": [],
   "source": [
    "prep_noun_errors.to_excel(\"Prepositional_noun1.xlsx\")"
   ]
  },
  {
   "cell_type": "markdown",
   "metadata": {},
   "source": [
    "## Prepositional verb:"
   ]
  },
  {
   "cell_type": "markdown",
   "metadata": {},
   "source": [
    "Нужно, чтобы был глагол, у которого есть зависимое, у которого в свою очередь есть зависимое-предлог"
   ]
  },
  {
   "cell_type": "code",
   "execution_count": 40,
   "metadata": {},
   "outputs": [],
   "source": [
    "parse = nlp(\"I would like to go to Spain\")"
   ]
  },
  {
   "cell_type": "code",
   "execution_count": 41,
   "metadata": {},
   "outputs": [
    {
     "name": "stdout",
     "output_type": "stream",
     "text": [
      "0 I PRON nsubj 2\n",
      "1 would VERB aux 2\n",
      "2 like VERB ROOT 2\n",
      "3 to PART aux 4\n",
      "4 go VERB xcomp 2\n",
      "5 to ADP prep 4\n",
      "6 Spain PROPN pobj 5\n"
     ]
    }
   ],
   "source": [
    "for token in parse:\n",
    "    print(token.i, token.text, token.pos_, token.dep_, token.head.i)"
   ]
  },
  {
   "cell_type": "code",
   "execution_count": 42,
   "metadata": {},
   "outputs": [],
   "source": [
    "def is_prepositional_verb(string, parser):\n",
    "    if string and type(string) == str:\n",
    "        parse = parser(string)\n",
    "        for token in parse:\n",
    "            if token.pos_ == 'VERB':\n",
    "                if 'ADP' in [child.pos_ for child in token.children]:\n",
    "                    return True\n",
    "    return False"
   ]
  },
  {
   "cell_type": "code",
   "execution_count": 43,
   "metadata": {},
   "outputs": [],
   "source": [
    "prep_verb_errors = df.loc[df[\"Error type\"] == \"Prepositional_verb\"]"
   ]
  },
  {
   "cell_type": "code",
   "execution_count": 44,
   "metadata": {},
   "outputs": [
    {
     "data": {
      "text/plain": [
       "(795, 4)"
      ]
     },
     "execution_count": 44,
     "metadata": {},
     "output_type": "execute_result"
    }
   ],
   "source": [
    "prep_verb_errors.shape"
   ]
  },
  {
   "cell_type": "code",
   "execution_count": 45,
   "metadata": {},
   "outputs": [
    {
     "name": "stderr",
     "output_type": "stream",
     "text": [
      "C:\\ProgramData\\Anaconda3\\lib\\site-packages\\ipykernel_launcher.py:3: SettingWithCopyWarning: \n",
      "A value is trying to be set on a copy of a slice from a DataFrame.\n",
      "Try using .loc[row_indexer,col_indexer] = value instead\n",
      "\n",
      "See the caveats in the documentation: http://pandas.pydata.org/pandas-docs/stable/indexing.html#indexing-view-versus-copy\n",
      "  This is separate from the ipykernel package so we can avoid doing imports until\n"
     ]
    }
   ],
   "source": [
    "prep_verb_errors[\"Is prepositional verb\"] = prep_verb_errors.apply(lambda x: is_prepositional_verb(x['Right answer'], nlp) or \n",
    "                                                                  is_prepositional_verb(x['Wrong answer'], nlp),\n",
    "                                                                  axis=1)"
   ]
  },
  {
   "cell_type": "code",
   "execution_count": 46,
   "metadata": {},
   "outputs": [],
   "source": [
    "prep_verb_errors = prep_verb_errors.loc[prep_verb_errors[\"Is prepositional verb\"] == True]"
   ]
  },
  {
   "cell_type": "code",
   "execution_count": 47,
   "metadata": {},
   "outputs": [],
   "source": [
    "prep_verb_errors.to_excel(\"Prepositional_verb1.xlsx\")"
   ]
  },
  {
   "cell_type": "markdown",
   "metadata": {},
   "source": [
    "## Standard word order:"
   ]
  },
  {
   "cell_type": "markdown",
   "metadata": {},
   "source": [
    "Нужно чтобы леммы в правильном и неправильном варианте совпадали и отличались порядком и чтобы слов было больше 3"
   ]
  },
  {
   "cell_type": "code",
   "execution_count": 48,
   "metadata": {},
   "outputs": [],
   "source": [
    "std_word_order_errors = df.loc[df[\"Error type\"] == \"Standard\"]"
   ]
  },
  {
   "cell_type": "code",
   "execution_count": 49,
   "metadata": {},
   "outputs": [
    {
     "data": {
      "text/plain": [
       "(2847, 4)"
      ]
     },
     "execution_count": 49,
     "metadata": {},
     "output_type": "execute_result"
    }
   ],
   "source": [
    "std_word_order_errors.shape"
   ]
  },
  {
   "cell_type": "code",
   "execution_count": 50,
   "metadata": {},
   "outputs": [],
   "source": [
    "def n_tokens(string, parser):\n",
    "    if string and type(string) == str:\n",
    "        return len(parser(string))\n",
    "    return 0"
   ]
  },
  {
   "cell_type": "code",
   "execution_count": 51,
   "metadata": {},
   "outputs": [
    {
     "name": "stderr",
     "output_type": "stream",
     "text": [
      "C:\\ProgramData\\Anaconda3\\lib\\site-packages\\ipykernel_launcher.py:1: SettingWithCopyWarning: \n",
      "A value is trying to be set on a copy of a slice from a DataFrame.\n",
      "Try using .loc[row_indexer,col_indexer] = value instead\n",
      "\n",
      "See the caveats in the documentation: http://pandas.pydata.org/pandas-docs/stable/indexing.html#indexing-view-versus-copy\n",
      "  \"\"\"Entry point for launching an IPython kernel.\n"
     ]
    }
   ],
   "source": [
    "std_word_order_errors[\"Correction length\"] = std_word_order_errors[\"Right answer\"].apply(lambda x: n_tokens(x, nlp))"
   ]
  },
  {
   "cell_type": "code",
   "execution_count": 52,
   "metadata": {},
   "outputs": [],
   "source": [
    "std_word_order_errors = std_word_order_errors.loc[std_word_order_errors[\"Correction length\"]>=4]"
   ]
  },
  {
   "cell_type": "code",
   "execution_count": 53,
   "metadata": {},
   "outputs": [
    {
     "data": {
      "text/plain": [
       "(1876, 5)"
      ]
     },
     "execution_count": 53,
     "metadata": {},
     "output_type": "execute_result"
    }
   ],
   "source": [
    "std_word_order_errors.shape"
   ]
  },
  {
   "cell_type": "code",
   "execution_count": 54,
   "metadata": {},
   "outputs": [],
   "source": [
    "std_word_order_errors.to_excel(\"Standard word order1.xlsx\")"
   ]
  },
  {
   "cell_type": "markdown",
   "metadata": {},
   "source": [
    "## Word order:"
   ]
  },
  {
   "cell_type": "code",
   "execution_count": 55,
   "metadata": {},
   "outputs": [],
   "source": [
    "word_order_errors = df.loc[df[\"Error type\"] == \"Word_order\"]"
   ]
  },
  {
   "cell_type": "code",
   "execution_count": 56,
   "metadata": {},
   "outputs": [
    {
     "data": {
      "text/plain": [
       "(741, 4)"
      ]
     },
     "execution_count": 56,
     "metadata": {},
     "output_type": "execute_result"
    }
   ],
   "source": [
    "word_order_errors.shape"
   ]
  },
  {
   "cell_type": "code",
   "execution_count": 57,
   "metadata": {},
   "outputs": [
    {
     "name": "stderr",
     "output_type": "stream",
     "text": [
      "C:\\ProgramData\\Anaconda3\\lib\\site-packages\\ipykernel_launcher.py:1: SettingWithCopyWarning: \n",
      "A value is trying to be set on a copy of a slice from a DataFrame.\n",
      "Try using .loc[row_indexer,col_indexer] = value instead\n",
      "\n",
      "See the caveats in the documentation: http://pandas.pydata.org/pandas-docs/stable/indexing.html#indexing-view-versus-copy\n",
      "  \"\"\"Entry point for launching an IPython kernel.\n"
     ]
    }
   ],
   "source": [
    "word_order_errors[\"Correction length\"] = word_order_errors[\"Right answer\"].apply(lambda x: n_tokens(x, nlp))"
   ]
  },
  {
   "cell_type": "code",
   "execution_count": 58,
   "metadata": {},
   "outputs": [],
   "source": [
    "word_order_errors = word_order_errors.loc[word_order_errors[\"Correction length\"] >= 4]"
   ]
  },
  {
   "cell_type": "code",
   "execution_count": 59,
   "metadata": {},
   "outputs": [
    {
     "data": {
      "text/plain": [
       "(413, 5)"
      ]
     },
     "execution_count": 59,
     "metadata": {},
     "output_type": "execute_result"
    }
   ],
   "source": [
    "word_order_errors.shape"
   ]
  },
  {
   "cell_type": "code",
   "execution_count": 60,
   "metadata": {},
   "outputs": [],
   "source": [
    "word_order_errors.to_excel(\"Word_order1.xlsx\")"
   ]
  },
  {
   "cell_type": "markdown",
   "metadata": {},
   "source": [
    "## Lex item choice & Word choice"
   ]
  },
  {
   "cell_type": "markdown",
   "metadata": {},
   "source": [
    "Оставим те примеры, в которых в исправлении одно слово и запишем POS-тэг для этого слова:"
   ]
  },
  {
   "cell_type": "code",
   "execution_count": 18,
   "metadata": {},
   "outputs": [],
   "source": [
    "wrong_words = df[(df['Error type'] == 'Word_choice')|(df['Error type'] == 'lex_item_choice')]"
   ]
  },
  {
   "cell_type": "code",
   "execution_count": 6,
   "metadata": {},
   "outputs": [
    {
     "data": {
      "text/html": [
       "<div>\n",
       "<style scoped>\n",
       "    .dataframe tbody tr th:only-of-type {\n",
       "        vertical-align: middle;\n",
       "    }\n",
       "\n",
       "    .dataframe tbody tr th {\n",
       "        vertical-align: top;\n",
       "    }\n",
       "\n",
       "    .dataframe thead th {\n",
       "        text-align: right;\n",
       "    }\n",
       "</style>\n",
       "<table border=\"1\" class=\"dataframe\">\n",
       "  <thead>\n",
       "    <tr style=\"text-align: right;\">\n",
       "      <th></th>\n",
       "      <th>Sentence</th>\n",
       "      <th>Right answer</th>\n",
       "      <th>Error type</th>\n",
       "      <th>Wrong answer</th>\n",
       "    </tr>\n",
       "    <tr>\n",
       "      <th>id</th>\n",
       "      <th></th>\n",
       "      <th></th>\n",
       "      <th></th>\n",
       "      <th></th>\n",
       "    </tr>\n",
       "  </thead>\n",
       "  <tbody>\n",
       "    <tr>\n",
       "      <th>7</th>\n",
       "      <td>Alicia and her colleague Kalinda &lt;b&gt;imagined&lt;...</td>\n",
       "      <td>thought</td>\n",
       "      <td>lex_item_choice</td>\n",
       "      <td>imagined</td>\n",
       "    </tr>\n",
       "    <tr>\n",
       "      <th>9</th>\n",
       "      <td>Alicia and her colleague Kalinda thought that...</td>\n",
       "      <td>simple</td>\n",
       "      <td>lex_item_choice</td>\n",
       "      <td>usual</td>\n",
       "    </tr>\n",
       "    <tr>\n",
       "      <th>17</th>\n",
       "      <td>He &lt;b&gt;expected&lt;/b&gt; Alicia to go away and not ...</td>\n",
       "      <td>urged</td>\n",
       "      <td>lex_item_choice</td>\n",
       "      <td>expected</td>\n",
       "    </tr>\n",
       "    <tr>\n",
       "      <th>22</th>\n",
       "      <td>Alprin offered to use the First Amendment in ...</td>\n",
       "      <td>refer</td>\n",
       "      <td>lex_item_choice</td>\n",
       "      <td>apply</td>\n",
       "    </tr>\n",
       "    <tr>\n",
       "      <th>25</th>\n",
       "      <td>In a court Alprin persuaded the judge to &lt;b&gt;u...</td>\n",
       "      <td>place the decision with</td>\n",
       "      <td>Word_choice</td>\n",
       "      <td>use a help of</td>\n",
       "    </tr>\n",
       "  </tbody>\n",
       "</table>\n",
       "</div>"
      ],
      "text/plain": [
       "                                             Sentence  \\\n",
       "id                                                      \n",
       "7    Alicia and her colleague Kalinda <b>imagined<...   \n",
       "9    Alicia and her colleague Kalinda thought that...   \n",
       "17   He <b>expected</b> Alicia to go away and not ...   \n",
       "22   Alprin offered to use the First Amendment in ...   \n",
       "25   In a court Alprin persuaded the judge to <b>u...   \n",
       "\n",
       "               Right answer       Error type   Wrong answer  \n",
       "id                                                           \n",
       "7                   thought  lex_item_choice       imagined  \n",
       "9                    simple  lex_item_choice          usual  \n",
       "17                    urged  lex_item_choice       expected  \n",
       "22                    refer  lex_item_choice          apply  \n",
       "25  place the decision with      Word_choice  use a help of  "
      ]
     },
     "execution_count": 6,
     "metadata": {},
     "output_type": "execute_result"
    }
   ],
   "source": [
    "wrong_words.head()"
   ]
  },
  {
   "cell_type": "code",
   "execution_count": 7,
   "metadata": {},
   "outputs": [],
   "source": [
    "def n_words(string):\n",
    "    if string and type(string) == str:\n",
    "        return len(nltk.word_tokenize(string))\n",
    "    return 0"
   ]
  },
  {
   "cell_type": "code",
   "execution_count": 19,
   "metadata": {},
   "outputs": [
    {
     "name": "stderr",
     "output_type": "stream",
     "text": [
      "C:\\ProgramData\\Anaconda3\\lib\\site-packages\\ipykernel_launcher.py:1: SettingWithCopyWarning: \n",
      "A value is trying to be set on a copy of a slice from a DataFrame.\n",
      "Try using .loc[row_indexer,col_indexer] = value instead\n",
      "\n",
      "See the caveats in the documentation: http://pandas.pydata.org/pandas-docs/stable/indexing.html#indexing-view-versus-copy\n",
      "  \"\"\"Entry point for launching an IPython kernel.\n",
      "C:\\ProgramData\\Anaconda3\\lib\\site-packages\\ipykernel_launcher.py:2: SettingWithCopyWarning: \n",
      "A value is trying to be set on a copy of a slice from a DataFrame.\n",
      "Try using .loc[row_indexer,col_indexer] = value instead\n",
      "\n",
      "See the caveats in the documentation: http://pandas.pydata.org/pandas-docs/stable/indexing.html#indexing-view-versus-copy\n",
      "  \n"
     ]
    }
   ],
   "source": [
    "wrong_words['N words right'] = wrong_words['Right answer'].apply(n_words)\n",
    "wrong_words['N words wrong'] = wrong_words['Wrong answer'].apply(n_words)"
   ]
  },
  {
   "cell_type": "code",
   "execution_count": 21,
   "metadata": {},
   "outputs": [],
   "source": [
    "wrong_words = wrong_words[(wrong_words['N words right'] == 1) & (wrong_words['N words wrong'] == 1)]"
   ]
  },
  {
   "cell_type": "code",
   "execution_count": 22,
   "metadata": {},
   "outputs": [
    {
     "data": {
      "text/plain": [
       "(13965, 6)"
      ]
     },
     "execution_count": 22,
     "metadata": {},
     "output_type": "execute_result"
    }
   ],
   "source": [
    "wrong_words.shape"
   ]
  },
  {
   "cell_type": "code",
   "execution_count": 23,
   "metadata": {},
   "outputs": [],
   "source": [
    "def correct(x):\n",
    "    start_id = x['Sentence'].find('<b>')\n",
    "    end_id = x['Sentence'].rfind('</b>') + len('</b>')\n",
    "    corrected = x['Sentence'][:start_id]+x['Right answer']+x['Sentence'][end_id:]\n",
    "    return corrected"
   ]
  },
  {
   "cell_type": "code",
   "execution_count": 24,
   "metadata": {},
   "outputs": [],
   "source": [
    "def get_err_word_id(x):\n",
    "    tokenized = nltk.word_tokenize(x['Sentence'])\n",
    "    for word_id, word in enumerate(tokenized[:-2]):\n",
    "        if word == '<' and tokenized[word_id+1] == 'b' and tokenized[word_id+2] == '>':\n",
    "            return word_id"
   ]
  },
  {
   "cell_type": "code",
   "execution_count": 25,
   "metadata": {},
   "outputs": [],
   "source": [
    "def pos_tag_error(row):\n",
    "    word_index = get_err_word_id(row)\n",
    "    corrected = correct(row)\n",
    "    erroneous = row['Sentence'].replace('<b>','').replace('</b>','')\n",
    "    try:\n",
    "        error_pos_tag = nltk.pos_tag(nltk.word_tokenize(erroneous))[word_index][1]\n",
    "    except IndexError:\n",
    "        print(row['Sentence'], nltk.word_tokenize(erroneous), word_index)\n",
    "        error_pos_tag = None\n",
    "    try:\n",
    "        correction_pos_tag = nltk.pos_tag(nltk.word_tokenize(corrected))[word_index][1]\n",
    "    except IndexError:\n",
    "        print(row['Sentence'], nltk.word_tokenize(corrected), word_index)\n",
    "        correction_pos_tag = None\n",
    "    return error_pos_tag, correction_pos_tag"
   ]
  },
  {
   "cell_type": "code",
   "execution_count": 26,
   "metadata": {},
   "outputs": [
    {
     "data": {
      "text/plain": [
       "[('I', 'PRP'),\n",
       " ('want', 'VBP'),\n",
       " ('a', 'DT'),\n",
       " ('<', 'NN'),\n",
       " ('b', 'NN'),\n",
       " ('>', 'NNP'),\n",
       " ('bisquit', 'NN'),\n",
       " ('<', 'NNP'),\n",
       " ('/b', 'NNP'),\n",
       " ('>', 'NN')]"
      ]
     },
     "execution_count": 26,
     "metadata": {},
     "output_type": "execute_result"
    }
   ],
   "source": [
    "nltk.pos_tag(nltk.word_tokenize(\"I want a <b>bisquit</b>\"))"
   ]
  },
  {
   "cell_type": "code",
   "execution_count": 27,
   "metadata": {},
   "outputs": [],
   "source": [
    "# progress bar\n",
    "from tqdm import tqdm, tqdm_notebook\n",
    "\n",
    "# instantiate\n",
    "tqdm.pandas()"
   ]
  },
  {
   "cell_type": "code",
   "execution_count": 28,
   "metadata": {},
   "outputs": [
    {
     "name": "stderr",
     "output_type": "stream",
     "text": [
      "100%|███████████████████████████████████████████████████████████████████████████| 13965/13965 [00:39<00:00, 350.18it/s]\n"
     ]
    }
   ],
   "source": [
    "wrong_words[['error POS', 'correction POS']] = wrong_words.progress_apply(pos_tag_error, axis=1,\n",
    "                                                                                   result_type=\"expand\")"
   ]
  },
  {
   "cell_type": "code",
   "execution_count": 29,
   "metadata": {},
   "outputs": [
    {
     "data": {
      "text/html": [
       "<div>\n",
       "<style scoped>\n",
       "    .dataframe tbody tr th:only-of-type {\n",
       "        vertical-align: middle;\n",
       "    }\n",
       "\n",
       "    .dataframe tbody tr th {\n",
       "        vertical-align: top;\n",
       "    }\n",
       "\n",
       "    .dataframe thead th {\n",
       "        text-align: right;\n",
       "    }\n",
       "</style>\n",
       "<table border=\"1\" class=\"dataframe\">\n",
       "  <thead>\n",
       "    <tr style=\"text-align: right;\">\n",
       "      <th></th>\n",
       "      <th>Sentence</th>\n",
       "      <th>Right answer</th>\n",
       "      <th>Error type</th>\n",
       "      <th>Wrong answer</th>\n",
       "      <th>N words right</th>\n",
       "      <th>N words wrong</th>\n",
       "      <th>error POS</th>\n",
       "      <th>correction POS</th>\n",
       "    </tr>\n",
       "    <tr>\n",
       "      <th>id</th>\n",
       "      <th></th>\n",
       "      <th></th>\n",
       "      <th></th>\n",
       "      <th></th>\n",
       "      <th></th>\n",
       "      <th></th>\n",
       "      <th></th>\n",
       "      <th></th>\n",
       "    </tr>\n",
       "  </thead>\n",
       "  <tbody>\n",
       "    <tr>\n",
       "      <th>7</th>\n",
       "      <td>Alicia and her colleague Kalinda &lt;b&gt;imagined&lt;...</td>\n",
       "      <td>thought</td>\n",
       "      <td>lex_item_choice</td>\n",
       "      <td>imagined</td>\n",
       "      <td>1</td>\n",
       "      <td>1</td>\n",
       "      <td>VBD</td>\n",
       "      <td>VBD</td>\n",
       "    </tr>\n",
       "    <tr>\n",
       "      <th>9</th>\n",
       "      <td>Alicia and her colleague Kalinda thought that...</td>\n",
       "      <td>simple</td>\n",
       "      <td>lex_item_choice</td>\n",
       "      <td>usual</td>\n",
       "      <td>1</td>\n",
       "      <td>1</td>\n",
       "      <td>JJ</td>\n",
       "      <td>JJ</td>\n",
       "    </tr>\n",
       "    <tr>\n",
       "      <th>17</th>\n",
       "      <td>He &lt;b&gt;expected&lt;/b&gt; Alicia to go away and not ...</td>\n",
       "      <td>urged</td>\n",
       "      <td>lex_item_choice</td>\n",
       "      <td>expected</td>\n",
       "      <td>1</td>\n",
       "      <td>1</td>\n",
       "      <td>VBD</td>\n",
       "      <td>VBD</td>\n",
       "    </tr>\n",
       "    <tr>\n",
       "      <th>22</th>\n",
       "      <td>Alprin offered to use the First Amendment in ...</td>\n",
       "      <td>refer</td>\n",
       "      <td>lex_item_choice</td>\n",
       "      <td>apply</td>\n",
       "      <td>1</td>\n",
       "      <td>1</td>\n",
       "      <td>VB</td>\n",
       "      <td>VB</td>\n",
       "    </tr>\n",
       "    <tr>\n",
       "      <th>28</th>\n",
       "      <td>But after a break in a trial the prosecutor &lt;...</td>\n",
       "      <td>submitted</td>\n",
       "      <td>lex_item_choice</td>\n",
       "      <td>revealed</td>\n",
       "      <td>1</td>\n",
       "      <td>1</td>\n",
       "      <td>VBD</td>\n",
       "      <td>VBD</td>\n",
       "    </tr>\n",
       "    <tr>\n",
       "      <th>31</th>\n",
       "      <td>But after a break in a trial the prosecutor s...</td>\n",
       "      <td>negligent</td>\n",
       "      <td>lex_item_choice</td>\n",
       "      <td>indifferent</td>\n",
       "      <td>1</td>\n",
       "      <td>1</td>\n",
       "      <td>JJ</td>\n",
       "      <td>JJ</td>\n",
       "    </tr>\n",
       "    <tr>\n",
       "      <th>33</th>\n",
       "      <td>Considerable social and financial resources a...</td>\n",
       "      <td>allocated</td>\n",
       "      <td>lex_item_choice</td>\n",
       "      <td>sent</td>\n",
       "      <td>1</td>\n",
       "      <td>1</td>\n",
       "      <td>VBN</td>\n",
       "      <td>VBN</td>\n",
       "    </tr>\n",
       "    <tr>\n",
       "      <th>38</th>\n",
       "      <td>That's why there should be intercept car park...</td>\n",
       "      <td>underground</td>\n",
       "      <td>lex_item_choice</td>\n",
       "      <td>subway</td>\n",
       "      <td>1</td>\n",
       "      <td>1</td>\n",
       "      <td>VB</td>\n",
       "      <td>NN</td>\n",
       "    </tr>\n",
       "    <tr>\n",
       "      <th>41</th>\n",
       "      <td>An other thing we have to mention is that the...</td>\n",
       "      <td>number</td>\n",
       "      <td>lex_item_choice</td>\n",
       "      <td>large</td>\n",
       "      <td>1</td>\n",
       "      <td>1</td>\n",
       "      <td>JJ</td>\n",
       "      <td>NN</td>\n",
       "    </tr>\n",
       "    <tr>\n",
       "      <th>44</th>\n",
       "      <td>But the main thing is just to start doing som...</td>\n",
       "      <td>risen</td>\n",
       "      <td>lex_item_choice</td>\n",
       "      <td>come</td>\n",
       "      <td>1</td>\n",
       "      <td>1</td>\n",
       "      <td>VBN</td>\n",
       "      <td>VBN</td>\n",
       "    </tr>\n",
       "    <tr>\n",
       "      <th>60</th>\n",
       "      <td>&lt;b&gt;Avia&lt;/b&gt; companies are ready to deliver pe...</td>\n",
       "      <td>Air</td>\n",
       "      <td>Word_choice</td>\n",
       "      <td>Avia</td>\n",
       "      <td>1</td>\n",
       "      <td>1</td>\n",
       "      <td>NN</td>\n",
       "      <td>NNP</td>\n",
       "    </tr>\n",
       "    <tr>\n",
       "      <th>66</th>\n",
       "      <td>There is the map of current flights in the In...</td>\n",
       "      <td>majority</td>\n",
       "      <td>Word_choice</td>\n",
       "      <td>most</td>\n",
       "      <td>1</td>\n",
       "      <td>1</td>\n",
       "      <td>RBS</td>\n",
       "      <td>NN</td>\n",
       "    </tr>\n",
       "    <tr>\n",
       "      <th>72</th>\n",
       "      <td>The rate sharply &lt;b&gt;lowered&lt;/b&gt; from 33 milli...</td>\n",
       "      <td>decreased</td>\n",
       "      <td>lex_item_choice</td>\n",
       "      <td>lowered</td>\n",
       "      <td>1</td>\n",
       "      <td>1</td>\n",
       "      <td>VBD</td>\n",
       "      <td>VBN</td>\n",
       "    </tr>\n",
       "    <tr>\n",
       "      <th>92</th>\n",
       "      <td>What about the general amount of children wit...</td>\n",
       "      <td>there</td>\n",
       "      <td>Word_choice</td>\n",
       "      <td>they</td>\n",
       "      <td>1</td>\n",
       "      <td>1</td>\n",
       "      <td>PRP</td>\n",
       "      <td>EX</td>\n",
       "    </tr>\n",
       "    <tr>\n",
       "      <th>114</th>\n",
       "      <td>In contrast indicators of South Asia in 2012 ...</td>\n",
       "      <td>show</td>\n",
       "      <td>lex_item_choice</td>\n",
       "      <td>have</td>\n",
       "      <td>1</td>\n",
       "      <td>1</td>\n",
       "      <td>VBP</td>\n",
       "      <td>VBP</td>\n",
       "    </tr>\n",
       "    <tr>\n",
       "      <th>117</th>\n",
       "      <td>On the other hand indicators of Africa in 200...</td>\n",
       "      <td>showed</td>\n",
       "      <td>lex_item_choice</td>\n",
       "      <td>had</td>\n",
       "      <td>1</td>\n",
       "      <td>1</td>\n",
       "      <td>VBD</td>\n",
       "      <td>VBD</td>\n",
       "    </tr>\n",
       "    <tr>\n",
       "      <th>155</th>\n",
       "      <td>In Africa from 2000 to 2012 there was a decre...</td>\n",
       "      <td>same</td>\n",
       "      <td>lex_item_choice</td>\n",
       "      <td>common</td>\n",
       "      <td>1</td>\n",
       "      <td>1</td>\n",
       "      <td>JJ</td>\n",
       "      <td>JJ</td>\n",
       "    </tr>\n",
       "    <tr>\n",
       "      <th>156</th>\n",
       "      <td>In Africa from 2000 to 2012 there was a decre...</td>\n",
       "      <td>tendency</td>\n",
       "      <td>lex_item_choice</td>\n",
       "      <td>movement</td>\n",
       "      <td>1</td>\n",
       "      <td>1</td>\n",
       "      <td>NN</td>\n",
       "      <td>NN</td>\n",
       "    </tr>\n",
       "    <tr>\n",
       "      <th>161</th>\n",
       "      <td>The similar trend was in the rest of the worl...</td>\n",
       "      <td>considerably</td>\n",
       "      <td>lex_item_choice</td>\n",
       "      <td>totally</td>\n",
       "      <td>1</td>\n",
       "      <td>1</td>\n",
       "      <td>RB</td>\n",
       "      <td>RB</td>\n",
       "    </tr>\n",
       "    <tr>\n",
       "      <th>167</th>\n",
       "      <td>Many people &lt;b&gt;consider&lt;/b&gt; that governments ...</td>\n",
       "      <td>believe</td>\n",
       "      <td>lex_item_choice</td>\n",
       "      <td>consider</td>\n",
       "      <td>1</td>\n",
       "      <td>1</td>\n",
       "      <td>VBP</td>\n",
       "      <td>VBP</td>\n",
       "    </tr>\n",
       "    <tr>\n",
       "      <th>171</th>\n",
       "      <td>That is why laws should forbid the huge numbe...</td>\n",
       "      <td>certain</td>\n",
       "      <td>lex_item_choice</td>\n",
       "      <td>definite</td>\n",
       "      <td>1</td>\n",
       "      <td>1</td>\n",
       "      <td>JJ</td>\n",
       "      <td>JJ</td>\n",
       "    </tr>\n",
       "    <tr>\n",
       "      <th>174</th>\n",
       "      <td>But they forget about the huge &lt;b&gt;causes&lt;/b&gt; ...</td>\n",
       "      <td>consequences</td>\n",
       "      <td>lex_item_choice</td>\n",
       "      <td>causes</td>\n",
       "      <td>1</td>\n",
       "      <td>1</td>\n",
       "      <td>NNS</td>\n",
       "      <td>NNS</td>\n",
       "    </tr>\n",
       "    <tr>\n",
       "      <th>178</th>\n",
       "      <td>In this essay, the positive and negative aspe...</td>\n",
       "      <td>concerning</td>\n",
       "      <td>lex_item_choice</td>\n",
       "      <td>surrounding</td>\n",
       "      <td>1</td>\n",
       "      <td>1</td>\n",
       "      <td>VBG</td>\n",
       "      <td>VBG</td>\n",
       "    </tr>\n",
       "    <tr>\n",
       "      <th>187</th>\n",
       "      <td>In addition to it, the percentage of boys and...</td>\n",
       "      <td>is</td>\n",
       "      <td>lex_item_choice</td>\n",
       "      <td>stays</td>\n",
       "      <td>1</td>\n",
       "      <td>1</td>\n",
       "      <td>NNS</td>\n",
       "      <td>VBZ</td>\n",
       "    </tr>\n",
       "    <tr>\n",
       "      <th>198</th>\n",
       "      <td>Such blogs may look like diaries, but they ar...</td>\n",
       "      <td>fun</td>\n",
       "      <td>lex_item_choice</td>\n",
       "      <td>joyful</td>\n",
       "      <td>1</td>\n",
       "      <td>1</td>\n",
       "      <td>JJ</td>\n",
       "      <td>NN</td>\n",
       "    </tr>\n",
       "    <tr>\n",
       "      <th>203</th>\n",
       "      <td>There is the opinion that flights do &lt;b&gt;harm&lt;...</td>\n",
       "      <td>influence</td>\n",
       "      <td>lex_item_choice</td>\n",
       "      <td>harm</td>\n",
       "      <td>1</td>\n",
       "      <td>1</td>\n",
       "      <td>NN</td>\n",
       "      <td>NN</td>\n",
       "    </tr>\n",
       "    <tr>\n",
       "      <th>218</th>\n",
       "      <td>Referring to the number of children in Africa...</td>\n",
       "      <td>had</td>\n",
       "      <td>lex_item_choice</td>\n",
       "      <td>kept</td>\n",
       "      <td>1</td>\n",
       "      <td>1</td>\n",
       "      <td>VBD</td>\n",
       "      <td>VBD</td>\n",
       "    </tr>\n",
       "    <tr>\n",
       "      <th>220</th>\n",
       "      <td>2 millions in 2000 and 2012 year &lt;b&gt;correspond...</td>\n",
       "      <td>respectively</td>\n",
       "      <td>lex_item_choice</td>\n",
       "      <td>correspondingly</td>\n",
       "      <td>1</td>\n",
       "      <td>1</td>\n",
       "      <td>RB</td>\n",
       "      <td>RB</td>\n",
       "    </tr>\n",
       "    <tr>\n",
       "      <th>221</th>\n",
       "      <td>The percentage of boys in the same &lt;b&gt;ratio&lt;/...</td>\n",
       "      <td>region</td>\n",
       "      <td>lex_item_choice</td>\n",
       "      <td>ratio</td>\n",
       "      <td>1</td>\n",
       "      <td>1</td>\n",
       "      <td>NN</td>\n",
       "      <td>NN</td>\n",
       "    </tr>\n",
       "    <tr>\n",
       "      <th>223</th>\n",
       "      <td>The South Asia region showed the great differ...</td>\n",
       "      <td>two</td>\n",
       "      <td>lex_item_choice</td>\n",
       "      <td>both</td>\n",
       "      <td>1</td>\n",
       "      <td>1</td>\n",
       "      <td>DT</td>\n",
       "      <td>CD</td>\n",
       "    </tr>\n",
       "    <tr>\n",
       "      <th>...</th>\n",
       "      <td>...</td>\n",
       "      <td>...</td>\n",
       "      <td>...</td>\n",
       "      <td>...</td>\n",
       "      <td>...</td>\n",
       "      <td>...</td>\n",
       "      <td>...</td>\n",
       "      <td>...</td>\n",
       "    </tr>\n",
       "    <tr>\n",
       "      <th>174657</th>\n",
       "      <td>Moreover, the second place &lt;b&gt;on&lt;/b&gt; the numb...</td>\n",
       "      <td>in</td>\n",
       "      <td>Word_choice</td>\n",
       "      <td>on</td>\n",
       "      <td>1</td>\n",
       "      <td>1</td>\n",
       "      <td>IN</td>\n",
       "      <td>IN</td>\n",
       "    </tr>\n",
       "    <tr>\n",
       "      <th>174688</th>\n",
       "      <td>&lt;b&gt;At&lt;/b&gt; that region in that time twice more...</td>\n",
       "      <td>In</td>\n",
       "      <td>Word_choice</td>\n",
       "      <td>At</td>\n",
       "      <td>1</td>\n",
       "      <td>1</td>\n",
       "      <td>IN</td>\n",
       "      <td>IN</td>\n",
       "    </tr>\n",
       "    <tr>\n",
       "      <th>174702</th>\n",
       "      <td>Finally, in 2000 in the rest of World 10,5 mi...</td>\n",
       "      <td>girls</td>\n",
       "      <td>Word_choice</td>\n",
       "      <td>boys</td>\n",
       "      <td>1</td>\n",
       "      <td>1</td>\n",
       "      <td>NNS</td>\n",
       "      <td>NNS</td>\n",
       "    </tr>\n",
       "    <tr>\n",
       "      <th>174710</th>\n",
       "      <td>Then she noticed that there was an uncomforta...</td>\n",
       "      <td>remarked</td>\n",
       "      <td>lex_item_choice</td>\n",
       "      <td>marked</td>\n",
       "      <td>1</td>\n",
       "      <td>1</td>\n",
       "      <td>VBD</td>\n",
       "      <td>VBD</td>\n",
       "    </tr>\n",
       "    <tr>\n",
       "      <th>174718</th>\n",
       "      <td>The model explained that the way we look alwa...</td>\n",
       "      <td>change</td>\n",
       "      <td>lex_item_choice</td>\n",
       "      <td>transform</td>\n",
       "      <td>1</td>\n",
       "      <td>1</td>\n",
       "      <td>VB</td>\n",
       "      <td>VB</td>\n",
       "    </tr>\n",
       "    <tr>\n",
       "      <th>174719</th>\n",
       "      <td>Then Cameron narrated two stories about how h...</td>\n",
       "      <td>looks</td>\n",
       "      <td>lex_item_choice</td>\n",
       "      <td>look</td>\n",
       "      <td>1</td>\n",
       "      <td>1</td>\n",
       "      <td>NN</td>\n",
       "      <td>NN</td>\n",
       "    </tr>\n",
       "    <tr>\n",
       "      <th>174745</th>\n",
       "      <td>The chart compares accessing &lt;b&gt;for&lt;/b&gt; girls ...</td>\n",
       "      <td>of</td>\n",
       "      <td>Word_choice</td>\n",
       "      <td>for</td>\n",
       "      <td>1</td>\n",
       "      <td>1</td>\n",
       "      <td>IN</td>\n",
       "      <td>IN</td>\n",
       "    </tr>\n",
       "    <tr>\n",
       "      <th>174763</th>\n",
       "      <td>The logical &lt;b&gt;think&lt;/b&gt; is to prohibit a lot...</td>\n",
       "      <td>idea</td>\n",
       "      <td>lex_item_choice</td>\n",
       "      <td>think</td>\n",
       "      <td>1</td>\n",
       "      <td>1</td>\n",
       "      <td>NN</td>\n",
       "      <td>NN</td>\n",
       "    </tr>\n",
       "    <tr>\n",
       "      <th>174796</th>\n",
       "      <td>Only the governments, as the monopolists of i...</td>\n",
       "      <td>from</td>\n",
       "      <td>lex_item_choice</td>\n",
       "      <td>by</td>\n",
       "      <td>1</td>\n",
       "      <td>1</td>\n",
       "      <td>IN</td>\n",
       "      <td>IN</td>\n",
       "    </tr>\n",
       "    <tr>\n",
       "      <th>174813</th>\n",
       "      <td>From the chart we can see differences between ...</td>\n",
       "      <td>quantity</td>\n",
       "      <td>lex_item_choice</td>\n",
       "      <td>quality</td>\n",
       "      <td>1</td>\n",
       "      <td>1</td>\n",
       "      <td>NN</td>\n",
       "      <td>NN</td>\n",
       "    </tr>\n",
       "    <tr>\n",
       "      <th>174835</th>\n",
       "      <td>The presented chart illustrates the &lt;b&gt;compari...</td>\n",
       "      <td>comparison</td>\n",
       "      <td>lex_item_choice</td>\n",
       "      <td>comparing</td>\n",
       "      <td>1</td>\n",
       "      <td>1</td>\n",
       "      <td>NN</td>\n",
       "      <td>NN</td>\n",
       "    </tr>\n",
       "    <tr>\n",
       "      <th>174841</th>\n",
       "      <td>South Asia region showed the best result of i...</td>\n",
       "      <td>accessibility</td>\n",
       "      <td>lex_item_choice</td>\n",
       "      <td>access</td>\n",
       "      <td>1</td>\n",
       "      <td>1</td>\n",
       "      <td>NN</td>\n",
       "      <td>NN</td>\n",
       "    </tr>\n",
       "    <tr>\n",
       "      <th>174863</th>\n",
       "      <td>As it is still the most convinient and comfor...</td>\n",
       "      <td>demolish</td>\n",
       "      <td>lex_item_choice</td>\n",
       "      <td>take</td>\n",
       "      <td>1</td>\n",
       "      <td>1</td>\n",
       "      <td>VB</td>\n",
       "      <td>VB</td>\n",
       "    </tr>\n",
       "    <tr>\n",
       "      <th>174864</th>\n",
       "      <td>The diagram demonstrates the amount of young &lt;...</td>\n",
       "      <td>children</td>\n",
       "      <td>Word_choice</td>\n",
       "      <td>ones</td>\n",
       "      <td>1</td>\n",
       "      <td>1</td>\n",
       "      <td>NNS</td>\n",
       "      <td>NNS</td>\n",
       "    </tr>\n",
       "    <tr>\n",
       "      <th>174870</th>\n",
       "      <td>South Asia had the lowest &lt;b&gt;degree&lt;/b&gt; in 20...</td>\n",
       "      <td>proportion</td>\n",
       "      <td>lex_item_choice</td>\n",
       "      <td>degree</td>\n",
       "      <td>1</td>\n",
       "      <td>1</td>\n",
       "      <td>NN</td>\n",
       "      <td>NN</td>\n",
       "    </tr>\n",
       "    <tr>\n",
       "      <th>174877</th>\n",
       "      <td>The quantity of non-schoolers in the rest of ...</td>\n",
       "      <td>reached</td>\n",
       "      <td>Word_choice</td>\n",
       "      <td>hit</td>\n",
       "      <td>1</td>\n",
       "      <td>1</td>\n",
       "      <td>VBD</td>\n",
       "      <td>VBD</td>\n",
       "    </tr>\n",
       "    <tr>\n",
       "      <th>174889</th>\n",
       "      <td>The change in South &lt;b&gt;Africa&lt;/b&gt; is the most...</td>\n",
       "      <td>Asia</td>\n",
       "      <td>Word_choice</td>\n",
       "      <td>Africa</td>\n",
       "      <td>1</td>\n",
       "      <td>1</td>\n",
       "      <td>NNP</td>\n",
       "      <td>NNP</td>\n",
       "    </tr>\n",
       "    <tr>\n",
       "      <th>174891</th>\n",
       "      <td>Firstly, air travelling can be substituted by...</td>\n",
       "      <td>kinds</td>\n",
       "      <td>lex_item_choice</td>\n",
       "      <td>means</td>\n",
       "      <td>1</td>\n",
       "      <td>1</td>\n",
       "      <td>NNS</td>\n",
       "      <td>NNS</td>\n",
       "    </tr>\n",
       "    <tr>\n",
       "      <th>174903</th>\n",
       "      <td>The graph illustrates changes in the number of...</td>\n",
       "      <td>twelve</td>\n",
       "      <td>Word_choice</td>\n",
       "      <td>thirteen</td>\n",
       "      <td>1</td>\n",
       "      <td>1</td>\n",
       "      <td>JJ</td>\n",
       "      <td>JJ</td>\n",
       "    </tr>\n",
       "    <tr>\n",
       "      <th>174979</th>\n",
       "      <td>However, flights are seemed to be the most po...</td>\n",
       "      <td>kind</td>\n",
       "      <td>lex_item_choice</td>\n",
       "      <td>way</td>\n",
       "      <td>1</td>\n",
       "      <td>1</td>\n",
       "      <td>NN</td>\n",
       "      <td>NN</td>\n",
       "    </tr>\n",
       "    <tr>\n",
       "      <th>174982</th>\n",
       "      <td>On the other hand,, some opinion is claimed t...</td>\n",
       "      <td>kind</td>\n",
       "      <td>lex_item_choice</td>\n",
       "      <td>mean</td>\n",
       "      <td>1</td>\n",
       "      <td>1</td>\n",
       "      <td>NN</td>\n",
       "      <td>NN</td>\n",
       "    </tr>\n",
       "    <tr>\n",
       "      <th>174985</th>\n",
       "      <td>Despite the idea mentioned above, travelling ...</td>\n",
       "      <td>types</td>\n",
       "      <td>lex_item_choice</td>\n",
       "      <td>way</td>\n",
       "      <td>1</td>\n",
       "      <td>1</td>\n",
       "      <td>NN</td>\n",
       "      <td>NNS</td>\n",
       "    </tr>\n",
       "    <tr>\n",
       "      <th>174992</th>\n",
       "      <td>In South Asia we can indicate that number of ...</td>\n",
       "      <td>fallen</td>\n",
       "      <td>Word_choice</td>\n",
       "      <td>felt</td>\n",
       "      <td>1</td>\n",
       "      <td>1</td>\n",
       "      <td>VBN</td>\n",
       "      <td>VBN</td>\n",
       "    </tr>\n",
       "    <tr>\n",
       "      <th>174995</th>\n",
       "      <td>In South Asia we can indicate that number of ...</td>\n",
       "      <td>fallen</td>\n",
       "      <td>Word_choice</td>\n",
       "      <td>felt</td>\n",
       "      <td>1</td>\n",
       "      <td>1</td>\n",
       "      <td>VBN</td>\n",
       "      <td>VBN</td>\n",
       "    </tr>\n",
       "    <tr>\n",
       "      <th>175003</th>\n",
       "      <td>The development of our society is &lt;b&gt;high&lt;/b&gt;...</td>\n",
       "      <td>great</td>\n",
       "      <td>Word_choice</td>\n",
       "      <td>high</td>\n",
       "      <td>1</td>\n",
       "      <td>1</td>\n",
       "      <td>JJ</td>\n",
       "      <td>JJ</td>\n",
       "    </tr>\n",
       "    <tr>\n",
       "      <th>175006</th>\n",
       "      <td>I think that all people can use air travel wh...</td>\n",
       "      <td>need</td>\n",
       "      <td>lex_item_choice</td>\n",
       "      <td>necessity</td>\n",
       "      <td>1</td>\n",
       "      <td>1</td>\n",
       "      <td>NN</td>\n",
       "      <td>NN</td>\n",
       "    </tr>\n",
       "    <tr>\n",
       "      <th>175011</th>\n",
       "      <td>I think that all people can use air travel wh...</td>\n",
       "      <td>they</td>\n",
       "      <td>lex_item_choice</td>\n",
       "      <td>it</td>\n",
       "      <td>1</td>\n",
       "      <td>1</td>\n",
       "      <td>PRP</td>\n",
       "      <td>PRP</td>\n",
       "    </tr>\n",
       "    <tr>\n",
       "      <th>175013</th>\n",
       "      <td>If all people protect the environment, we wil...</td>\n",
       "      <td>talk</td>\n",
       "      <td>lex_item_choice</td>\n",
       "      <td>say</td>\n",
       "      <td>1</td>\n",
       "      <td>1</td>\n",
       "      <td>VB</td>\n",
       "      <td>VB</td>\n",
       "    </tr>\n",
       "    <tr>\n",
       "      <th>175016</th>\n",
       "      <td>All people sometimes use this &lt;b&gt;means&lt;/b&gt; of...</td>\n",
       "      <td>kind</td>\n",
       "      <td>Word_choice</td>\n",
       "      <td>means</td>\n",
       "      <td>1</td>\n",
       "      <td>1</td>\n",
       "      <td>NN</td>\n",
       "      <td>NN</td>\n",
       "    </tr>\n",
       "    <tr>\n",
       "      <th>175017</th>\n",
       "      <td>All people sometimes use this kind of &lt;b&gt;tran...</td>\n",
       "      <td>transport</td>\n",
       "      <td>Word_choice</td>\n",
       "      <td>transportation</td>\n",
       "      <td>1</td>\n",
       "      <td>1</td>\n",
       "      <td>NN</td>\n",
       "      <td>NN</td>\n",
       "    </tr>\n",
       "  </tbody>\n",
       "</table>\n",
       "<p>13965 rows × 8 columns</p>\n",
       "</div>"
      ],
      "text/plain": [
       "                                                 Sentence   Right answer  \\\n",
       "id                                                                         \n",
       "7        Alicia and her colleague Kalinda <b>imagined<...        thought   \n",
       "9        Alicia and her colleague Kalinda thought that...         simple   \n",
       "17       He <b>expected</b> Alicia to go away and not ...          urged   \n",
       "22       Alprin offered to use the First Amendment in ...          refer   \n",
       "28       But after a break in a trial the prosecutor <...      submitted   \n",
       "31       But after a break in a trial the prosecutor s...      negligent   \n",
       "33       Considerable social and financial resources a...      allocated   \n",
       "38       That's why there should be intercept car park...    underground   \n",
       "41       An other thing we have to mention is that the...         number   \n",
       "44       But the main thing is just to start doing som...          risen   \n",
       "60       <b>Avia</b> companies are ready to deliver pe...            Air   \n",
       "66       There is the map of current flights in the In...       majority   \n",
       "72       The rate sharply <b>lowered</b> from 33 milli...      decreased   \n",
       "92       What about the general amount of children wit...          there   \n",
       "114      In contrast indicators of South Asia in 2012 ...           show   \n",
       "117      On the other hand indicators of Africa in 200...         showed   \n",
       "155      In Africa from 2000 to 2012 there was a decre...           same   \n",
       "156      In Africa from 2000 to 2012 there was a decre...       tendency   \n",
       "161      The similar trend was in the rest of the worl...   considerably   \n",
       "167      Many people <b>consider</b> that governments ...        believe   \n",
       "171      That is why laws should forbid the huge numbe...        certain   \n",
       "174      But they forget about the huge <b>causes</b> ...   consequences   \n",
       "178      In this essay, the positive and negative aspe...     concerning   \n",
       "187      In addition to it, the percentage of boys and...             is   \n",
       "198      Such blogs may look like diaries, but they ar...            fun   \n",
       "203      There is the opinion that flights do <b>harm<...      influence   \n",
       "218      Referring to the number of children in Africa...            had   \n",
       "220     2 millions in 2000 and 2012 year <b>correspond...   respectively   \n",
       "221      The percentage of boys in the same <b>ratio</...         region   \n",
       "223      The South Asia region showed the great differ...            two   \n",
       "...                                                   ...            ...   \n",
       "174657   Moreover, the second place <b>on</b> the numb...             in   \n",
       "174688   <b>At</b> that region in that time twice more...             In   \n",
       "174702   Finally, in 2000 in the rest of World 10,5 mi...          girls   \n",
       "174710   Then she noticed that there was an uncomforta...       remarked   \n",
       "174718   The model explained that the way we look alwa...         change   \n",
       "174719   Then Cameron narrated two stories about how h...          looks   \n",
       "174745  The chart compares accessing <b>for</b> girls ...             of   \n",
       "174763   The logical <b>think</b> is to prohibit a lot...           idea   \n",
       "174796   Only the governments, as the monopolists of i...           from   \n",
       "174813  From the chart we can see differences between ...       quantity   \n",
       "174835  The presented chart illustrates the <b>compari...     comparison   \n",
       "174841   South Asia region showed the best result of i...  accessibility   \n",
       "174863   As it is still the most convinient and comfor...       demolish   \n",
       "174864  The diagram demonstrates the amount of young <...       children   \n",
       "174870   South Asia had the lowest <b>degree</b> in 20...     proportion   \n",
       "174877   The quantity of non-schoolers in the rest of ...        reached   \n",
       "174889   The change in South <b>Africa</b> is the most...           Asia   \n",
       "174891   Firstly, air travelling can be substituted by...          kinds   \n",
       "174903  The graph illustrates changes in the number of...         twelve   \n",
       "174979   However, flights are seemed to be the most po...           kind   \n",
       "174982   On the other hand,, some opinion is claimed t...           kind   \n",
       "174985   Despite the idea mentioned above, travelling ...          types   \n",
       "174992   In South Asia we can indicate that number of ...         fallen   \n",
       "174995   In South Asia we can indicate that number of ...         fallen   \n",
       "175003   The development of our society is <b>high</b>...          great   \n",
       "175006   I think that all people can use air travel wh...           need   \n",
       "175011   I think that all people can use air travel wh...           they   \n",
       "175013   If all people protect the environment, we wil...           talk   \n",
       "175016   All people sometimes use this <b>means</b> of...           kind   \n",
       "175017   All people sometimes use this kind of <b>tran...      transport   \n",
       "\n",
       "             Error type     Wrong answer  N words right  N words wrong  \\\n",
       "id                                                                       \n",
       "7       lex_item_choice         imagined              1              1   \n",
       "9       lex_item_choice            usual              1              1   \n",
       "17      lex_item_choice         expected              1              1   \n",
       "22      lex_item_choice            apply              1              1   \n",
       "28      lex_item_choice         revealed              1              1   \n",
       "31      lex_item_choice      indifferent              1              1   \n",
       "33      lex_item_choice             sent              1              1   \n",
       "38      lex_item_choice           subway              1              1   \n",
       "41      lex_item_choice            large              1              1   \n",
       "44      lex_item_choice             come              1              1   \n",
       "60          Word_choice             Avia              1              1   \n",
       "66          Word_choice             most              1              1   \n",
       "72      lex_item_choice          lowered              1              1   \n",
       "92          Word_choice             they              1              1   \n",
       "114     lex_item_choice             have              1              1   \n",
       "117     lex_item_choice              had              1              1   \n",
       "155     lex_item_choice           common              1              1   \n",
       "156     lex_item_choice         movement              1              1   \n",
       "161     lex_item_choice          totally              1              1   \n",
       "167     lex_item_choice         consider              1              1   \n",
       "171     lex_item_choice         definite              1              1   \n",
       "174     lex_item_choice           causes              1              1   \n",
       "178     lex_item_choice      surrounding              1              1   \n",
       "187     lex_item_choice            stays              1              1   \n",
       "198     lex_item_choice           joyful              1              1   \n",
       "203     lex_item_choice             harm              1              1   \n",
       "218     lex_item_choice             kept              1              1   \n",
       "220     lex_item_choice  correspondingly              1              1   \n",
       "221     lex_item_choice            ratio              1              1   \n",
       "223     lex_item_choice             both              1              1   \n",
       "...                 ...              ...            ...            ...   \n",
       "174657      Word_choice               on              1              1   \n",
       "174688      Word_choice               At              1              1   \n",
       "174702      Word_choice             boys              1              1   \n",
       "174710  lex_item_choice           marked              1              1   \n",
       "174718  lex_item_choice        transform              1              1   \n",
       "174719  lex_item_choice             look              1              1   \n",
       "174745      Word_choice              for              1              1   \n",
       "174763  lex_item_choice            think              1              1   \n",
       "174796  lex_item_choice               by              1              1   \n",
       "174813  lex_item_choice          quality              1              1   \n",
       "174835  lex_item_choice        comparing              1              1   \n",
       "174841  lex_item_choice           access              1              1   \n",
       "174863  lex_item_choice             take              1              1   \n",
       "174864      Word_choice             ones              1              1   \n",
       "174870  lex_item_choice           degree              1              1   \n",
       "174877      Word_choice              hit              1              1   \n",
       "174889      Word_choice           Africa              1              1   \n",
       "174891  lex_item_choice            means              1              1   \n",
       "174903      Word_choice         thirteen              1              1   \n",
       "174979  lex_item_choice              way              1              1   \n",
       "174982  lex_item_choice             mean              1              1   \n",
       "174985  lex_item_choice              way              1              1   \n",
       "174992      Word_choice             felt              1              1   \n",
       "174995      Word_choice             felt              1              1   \n",
       "175003      Word_choice             high              1              1   \n",
       "175006  lex_item_choice        necessity              1              1   \n",
       "175011  lex_item_choice               it              1              1   \n",
       "175013  lex_item_choice              say              1              1   \n",
       "175016      Word_choice            means              1              1   \n",
       "175017      Word_choice   transportation              1              1   \n",
       "\n",
       "       error POS correction POS  \n",
       "id                               \n",
       "7            VBD            VBD  \n",
       "9             JJ             JJ  \n",
       "17           VBD            VBD  \n",
       "22            VB             VB  \n",
       "28           VBD            VBD  \n",
       "31            JJ             JJ  \n",
       "33           VBN            VBN  \n",
       "38            VB             NN  \n",
       "41            JJ             NN  \n",
       "44           VBN            VBN  \n",
       "60            NN            NNP  \n",
       "66           RBS             NN  \n",
       "72           VBD            VBN  \n",
       "92           PRP             EX  \n",
       "114          VBP            VBP  \n",
       "117          VBD            VBD  \n",
       "155           JJ             JJ  \n",
       "156           NN             NN  \n",
       "161           RB             RB  \n",
       "167          VBP            VBP  \n",
       "171           JJ             JJ  \n",
       "174          NNS            NNS  \n",
       "178          VBG            VBG  \n",
       "187          NNS            VBZ  \n",
       "198           JJ             NN  \n",
       "203           NN             NN  \n",
       "218          VBD            VBD  \n",
       "220           RB             RB  \n",
       "221           NN             NN  \n",
       "223           DT             CD  \n",
       "...          ...            ...  \n",
       "174657        IN             IN  \n",
       "174688        IN             IN  \n",
       "174702       NNS            NNS  \n",
       "174710       VBD            VBD  \n",
       "174718        VB             VB  \n",
       "174719        NN             NN  \n",
       "174745        IN             IN  \n",
       "174763        NN             NN  \n",
       "174796        IN             IN  \n",
       "174813        NN             NN  \n",
       "174835        NN             NN  \n",
       "174841        NN             NN  \n",
       "174863        VB             VB  \n",
       "174864       NNS            NNS  \n",
       "174870        NN             NN  \n",
       "174877       VBD            VBD  \n",
       "174889       NNP            NNP  \n",
       "174891       NNS            NNS  \n",
       "174903        JJ             JJ  \n",
       "174979        NN             NN  \n",
       "174982        NN             NN  \n",
       "174985        NN            NNS  \n",
       "174992       VBN            VBN  \n",
       "174995       VBN            VBN  \n",
       "175003        JJ             JJ  \n",
       "175006        NN             NN  \n",
       "175011       PRP            PRP  \n",
       "175013        VB             VB  \n",
       "175016        NN             NN  \n",
       "175017        NN             NN  \n",
       "\n",
       "[13965 rows x 8 columns]"
      ]
     },
     "execution_count": 29,
     "metadata": {},
     "output_type": "execute_result"
    }
   ],
   "source": [
    "wrong_words"
   ]
  },
  {
   "cell_type": "code",
   "execution_count": 30,
   "metadata": {},
   "outputs": [],
   "source": [
    "wrong_words.to_excel(\"Wrong words.xlsx\")"
   ]
  }
 ],
 "metadata": {
  "kernelspec": {
   "display_name": "Python 3",
   "language": "python",
   "name": "python3"
  },
  "language_info": {
   "codemirror_mode": {
    "name": "ipython",
    "version": 3
   },
   "file_extension": ".py",
   "mimetype": "text/x-python",
   "name": "python",
   "nbconvert_exporter": "python",
   "pygments_lexer": "ipython3",
   "version": "3.7.3"
  }
 },
 "nbformat": 4,
 "nbformat_minor": 2
}
